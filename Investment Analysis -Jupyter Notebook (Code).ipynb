{
 "cells": [
  {
   "cell_type": "markdown",
   "metadata": {},
   "source": [
    "# Investment Analysis for Spark funds"
   ]
  },
  {
   "cell_type": "markdown",
   "metadata": {},
   "source": [
    "Spark Funds wants to make investments in a few companies. The CEO of Spark Funds wants to understand the global trends in investments so that she can take the investment decisions effectively."
   ]
  },
  {
   "cell_type": "markdown",
   "metadata": {},
   "source": [
    "##### Importing all the necessary libraries for the analysis"
   ]
  },
  {
   "cell_type": "code",
   "execution_count": 1,
   "metadata": {},
   "outputs": [],
   "source": [
    "import pandas as pd, numpy as np\n",
    "from matplotlib import pyplot as plt\n",
    "%matplotlib inline\n",
    "import seaborn as sns\n",
    "import warnings\n",
    "warnings.filterwarnings(\"ignore\")\n",
    "import matplotlib.patches as mpatches"
   ]
  },
  {
   "cell_type": "markdown",
   "metadata": {},
   "source": [
    "##### Reading the datasets from csv files"
   ]
  },
  {
   "cell_type": "code",
   "execution_count": 2,
   "metadata": {},
   "outputs": [],
   "source": [
    "companies = pd.read_csv('companies.csv', encoding = \"palmos\")\n",
    "rounds2 = pd.read_csv(\"rounds2.csv\", encoding = \"palmos\")"
   ]
  },
  {
   "cell_type": "markdown",
   "metadata": {},
   "source": [
    "##### Viewing the records of companies.csv"
   ]
  },
  {
   "cell_type": "code",
   "execution_count": 3,
   "metadata": {},
   "outputs": [
    {
     "data": {
      "text/html": [
       "<div>\n",
       "<style scoped>\n",
       "    .dataframe tbody tr th:only-of-type {\n",
       "        vertical-align: middle;\n",
       "    }\n",
       "\n",
       "    .dataframe tbody tr th {\n",
       "        vertical-align: top;\n",
       "    }\n",
       "\n",
       "    .dataframe thead th {\n",
       "        text-align: right;\n",
       "    }\n",
       "</style>\n",
       "<table border=\"1\" class=\"dataframe\">\n",
       "  <thead>\n",
       "    <tr style=\"text-align: right;\">\n",
       "      <th></th>\n",
       "      <th>permalink</th>\n",
       "      <th>name</th>\n",
       "      <th>homepage_url</th>\n",
       "      <th>category_list</th>\n",
       "      <th>status</th>\n",
       "      <th>country_code</th>\n",
       "      <th>state_code</th>\n",
       "      <th>region</th>\n",
       "      <th>city</th>\n",
       "      <th>founded_at</th>\n",
       "    </tr>\n",
       "  </thead>\n",
       "  <tbody>\n",
       "    <tr>\n",
       "      <th>0</th>\n",
       "      <td>/Organization/-Fame</td>\n",
       "      <td>#fame</td>\n",
       "      <td>http://livfame.com</td>\n",
       "      <td>Media</td>\n",
       "      <td>operating</td>\n",
       "      <td>IND</td>\n",
       "      <td>16</td>\n",
       "      <td>Mumbai</td>\n",
       "      <td>Mumbai</td>\n",
       "      <td>NaN</td>\n",
       "    </tr>\n",
       "    <tr>\n",
       "      <th>1</th>\n",
       "      <td>/Organization/-Qounter</td>\n",
       "      <td>:Qounter</td>\n",
       "      <td>http://www.qounter.com</td>\n",
       "      <td>Application Platforms|Real Time|Social Network...</td>\n",
       "      <td>operating</td>\n",
       "      <td>USA</td>\n",
       "      <td>DE</td>\n",
       "      <td>DE - Other</td>\n",
       "      <td>Delaware City</td>\n",
       "      <td>04-09-2014</td>\n",
       "    </tr>\n",
       "    <tr>\n",
       "      <th>2</th>\n",
       "      <td>/Organization/-The-One-Of-Them-Inc-</td>\n",
       "      <td>(THE) ONE of THEM,Inc.</td>\n",
       "      <td>http://oneofthem.jp</td>\n",
       "      <td>Apps|Games|Mobile</td>\n",
       "      <td>operating</td>\n",
       "      <td>NaN</td>\n",
       "      <td>NaN</td>\n",
       "      <td>NaN</td>\n",
       "      <td>NaN</td>\n",
       "      <td>NaN</td>\n",
       "    </tr>\n",
       "    <tr>\n",
       "      <th>3</th>\n",
       "      <td>/Organization/0-6-Com</td>\n",
       "      <td>0-6.com</td>\n",
       "      <td>http://www.0-6.com</td>\n",
       "      <td>Curated Web</td>\n",
       "      <td>operating</td>\n",
       "      <td>CHN</td>\n",
       "      <td>22</td>\n",
       "      <td>Beijing</td>\n",
       "      <td>Beijing</td>\n",
       "      <td>01-01-2007</td>\n",
       "    </tr>\n",
       "    <tr>\n",
       "      <th>4</th>\n",
       "      <td>/Organization/004-Technologies</td>\n",
       "      <td>004 Technologies</td>\n",
       "      <td>http://004gmbh.de/en/004-interact</td>\n",
       "      <td>Software</td>\n",
       "      <td>operating</td>\n",
       "      <td>USA</td>\n",
       "      <td>IL</td>\n",
       "      <td>Springfield, Illinois</td>\n",
       "      <td>Champaign</td>\n",
       "      <td>01-01-2010</td>\n",
       "    </tr>\n",
       "  </tbody>\n",
       "</table>\n",
       "</div>"
      ],
      "text/plain": [
       "                             permalink                    name  \\\n",
       "0                  /Organization/-Fame                   #fame   \n",
       "1               /Organization/-Qounter                :Qounter   \n",
       "2  /Organization/-The-One-Of-Them-Inc-  (THE) ONE of THEM,Inc.   \n",
       "3                /Organization/0-6-Com                 0-6.com   \n",
       "4       /Organization/004-Technologies        004 Technologies   \n",
       "\n",
       "                        homepage_url  \\\n",
       "0                 http://livfame.com   \n",
       "1             http://www.qounter.com   \n",
       "2                http://oneofthem.jp   \n",
       "3                 http://www.0-6.com   \n",
       "4  http://004gmbh.de/en/004-interact   \n",
       "\n",
       "                                       category_list     status country_code  \\\n",
       "0                                              Media  operating          IND   \n",
       "1  Application Platforms|Real Time|Social Network...  operating          USA   \n",
       "2                                  Apps|Games|Mobile  operating          NaN   \n",
       "3                                        Curated Web  operating          CHN   \n",
       "4                                           Software  operating          USA   \n",
       "\n",
       "  state_code                 region           city  founded_at  \n",
       "0         16                 Mumbai         Mumbai         NaN  \n",
       "1         DE             DE - Other  Delaware City  04-09-2014  \n",
       "2        NaN                    NaN            NaN         NaN  \n",
       "3         22                Beijing        Beijing  01-01-2007  \n",
       "4         IL  Springfield, Illinois      Champaign  01-01-2010  "
      ]
     },
     "execution_count": 3,
     "metadata": {},
     "output_type": "execute_result"
    }
   ],
   "source": [
    "companies.head()"
   ]
  },
  {
   "cell_type": "markdown",
   "metadata": {},
   "source": [
    "##### Viewing the records of rounds2.csv"
   ]
  },
  {
   "cell_type": "code",
   "execution_count": 4,
   "metadata": {},
   "outputs": [
    {
     "data": {
      "text/html": [
       "<div>\n",
       "<style scoped>\n",
       "    .dataframe tbody tr th:only-of-type {\n",
       "        vertical-align: middle;\n",
       "    }\n",
       "\n",
       "    .dataframe tbody tr th {\n",
       "        vertical-align: top;\n",
       "    }\n",
       "\n",
       "    .dataframe thead th {\n",
       "        text-align: right;\n",
       "    }\n",
       "</style>\n",
       "<table border=\"1\" class=\"dataframe\">\n",
       "  <thead>\n",
       "    <tr style=\"text-align: right;\">\n",
       "      <th></th>\n",
       "      <th>company_permalink</th>\n",
       "      <th>funding_round_permalink</th>\n",
       "      <th>funding_round_type</th>\n",
       "      <th>funding_round_code</th>\n",
       "      <th>funded_at</th>\n",
       "      <th>raised_amount_usd</th>\n",
       "    </tr>\n",
       "  </thead>\n",
       "  <tbody>\n",
       "    <tr>\n",
       "      <th>0</th>\n",
       "      <td>/organization/-fame</td>\n",
       "      <td>/funding-round/9a01d05418af9f794eebff7ace91f638</td>\n",
       "      <td>venture</td>\n",
       "      <td>B</td>\n",
       "      <td>05-01-2015</td>\n",
       "      <td>10000000.0</td>\n",
       "    </tr>\n",
       "    <tr>\n",
       "      <th>1</th>\n",
       "      <td>/ORGANIZATION/-QOUNTER</td>\n",
       "      <td>/funding-round/22dacff496eb7acb2b901dec1dfe5633</td>\n",
       "      <td>venture</td>\n",
       "      <td>A</td>\n",
       "      <td>14-10-2014</td>\n",
       "      <td>NaN</td>\n",
       "    </tr>\n",
       "    <tr>\n",
       "      <th>2</th>\n",
       "      <td>/organization/-qounter</td>\n",
       "      <td>/funding-round/b44fbb94153f6cdef13083530bb48030</td>\n",
       "      <td>seed</td>\n",
       "      <td>NaN</td>\n",
       "      <td>01-03-2014</td>\n",
       "      <td>700000.0</td>\n",
       "    </tr>\n",
       "    <tr>\n",
       "      <th>3</th>\n",
       "      <td>/ORGANIZATION/-THE-ONE-OF-THEM-INC-</td>\n",
       "      <td>/funding-round/650b8f704416801069bb178a1418776b</td>\n",
       "      <td>venture</td>\n",
       "      <td>B</td>\n",
       "      <td>30-01-2014</td>\n",
       "      <td>3406878.0</td>\n",
       "    </tr>\n",
       "    <tr>\n",
       "      <th>4</th>\n",
       "      <td>/organization/0-6-com</td>\n",
       "      <td>/funding-round/5727accaeaa57461bd22a9bdd945382d</td>\n",
       "      <td>venture</td>\n",
       "      <td>A</td>\n",
       "      <td>19-03-2008</td>\n",
       "      <td>2000000.0</td>\n",
       "    </tr>\n",
       "  </tbody>\n",
       "</table>\n",
       "</div>"
      ],
      "text/plain": [
       "                     company_permalink  \\\n",
       "0                  /organization/-fame   \n",
       "1               /ORGANIZATION/-QOUNTER   \n",
       "2               /organization/-qounter   \n",
       "3  /ORGANIZATION/-THE-ONE-OF-THEM-INC-   \n",
       "4                /organization/0-6-com   \n",
       "\n",
       "                           funding_round_permalink funding_round_type  \\\n",
       "0  /funding-round/9a01d05418af9f794eebff7ace91f638            venture   \n",
       "1  /funding-round/22dacff496eb7acb2b901dec1dfe5633            venture   \n",
       "2  /funding-round/b44fbb94153f6cdef13083530bb48030               seed   \n",
       "3  /funding-round/650b8f704416801069bb178a1418776b            venture   \n",
       "4  /funding-round/5727accaeaa57461bd22a9bdd945382d            venture   \n",
       "\n",
       "  funding_round_code   funded_at  raised_amount_usd  \n",
       "0                  B  05-01-2015         10000000.0  \n",
       "1                  A  14-10-2014                NaN  \n",
       "2                NaN  01-03-2014           700000.0  \n",
       "3                  B  30-01-2014          3406878.0  \n",
       "4                  A  19-03-2008          2000000.0  "
      ]
     },
     "execution_count": 4,
     "metadata": {},
     "output_type": "execute_result"
    }
   ],
   "source": [
    "rounds2.head()"
   ]
  },
  {
   "cell_type": "markdown",
   "metadata": {},
   "source": [
    "#### Examing the info, shape and other dimensions of both the datasets"
   ]
  },
  {
   "cell_type": "code",
   "execution_count": 5,
   "metadata": {},
   "outputs": [
    {
     "name": "stdout",
     "output_type": "stream",
     "text": [
      "<class 'pandas.core.frame.DataFrame'>\n",
      "RangeIndex: 66368 entries, 0 to 66367\n",
      "Data columns (total 10 columns):\n",
      " #   Column         Non-Null Count  Dtype \n",
      "---  ------         --------------  ----- \n",
      " 0   permalink      66368 non-null  object\n",
      " 1   name           66367 non-null  object\n",
      " 2   homepage_url   61310 non-null  object\n",
      " 3   category_list  63220 non-null  object\n",
      " 4   status         66368 non-null  object\n",
      " 5   country_code   59410 non-null  object\n",
      " 6   state_code     57821 non-null  object\n",
      " 7   region         58338 non-null  object\n",
      " 8   city           58340 non-null  object\n",
      " 9   founded_at     51147 non-null  object\n",
      "dtypes: object(10)\n",
      "memory usage: 5.1+ MB\n"
     ]
    }
   ],
   "source": [
    "#info of companies file\n",
    "companies.info()"
   ]
  },
  {
   "cell_type": "code",
   "execution_count": 6,
   "metadata": {},
   "outputs": [
    {
     "data": {
      "text/plain": [
       "(66368, 10)"
      ]
     },
     "execution_count": 6,
     "metadata": {},
     "output_type": "execute_result"
    }
   ],
   "source": [
    "#Shape of companies file\n",
    "companies.shape"
   ]
  },
  {
   "cell_type": "code",
   "execution_count": 7,
   "metadata": {},
   "outputs": [
    {
     "data": {
      "text/plain": [
       "permalink        object\n",
       "name             object\n",
       "homepage_url     object\n",
       "category_list    object\n",
       "status           object\n",
       "country_code     object\n",
       "state_code       object\n",
       "region           object\n",
       "city             object\n",
       "founded_at       object\n",
       "dtype: object"
      ]
     },
     "execution_count": 7,
     "metadata": {},
     "output_type": "execute_result"
    }
   ],
   "source": [
    "#Data types of columns in companies file\n",
    "companies.dtypes"
   ]
  },
  {
   "cell_type": "code",
   "execution_count": 8,
   "metadata": {},
   "outputs": [
    {
     "name": "stdout",
     "output_type": "stream",
     "text": [
      "<class 'pandas.core.frame.DataFrame'>\n",
      "RangeIndex: 114949 entries, 0 to 114948\n",
      "Data columns (total 6 columns):\n",
      " #   Column                   Non-Null Count   Dtype  \n",
      "---  ------                   --------------   -----  \n",
      " 0   company_permalink        114949 non-null  object \n",
      " 1   funding_round_permalink  114949 non-null  object \n",
      " 2   funding_round_type       114949 non-null  object \n",
      " 3   funding_round_code       31140 non-null   object \n",
      " 4   funded_at                114949 non-null  object \n",
      " 5   raised_amount_usd        94959 non-null   float64\n",
      "dtypes: float64(1), object(5)\n",
      "memory usage: 5.3+ MB\n"
     ]
    }
   ],
   "source": [
    "#info of rounds2 file\n",
    "rounds2.info()"
   ]
  },
  {
   "cell_type": "code",
   "execution_count": 9,
   "metadata": {},
   "outputs": [
    {
     "data": {
      "text/plain": [
       "(114949, 6)"
      ]
     },
     "execution_count": 9,
     "metadata": {},
     "output_type": "execute_result"
    }
   ],
   "source": [
    "#Shape of rounds2 file\n",
    "rounds2.shape"
   ]
  },
  {
   "cell_type": "code",
   "execution_count": 10,
   "metadata": {},
   "outputs": [
    {
     "data": {
      "text/plain": [
       "company_permalink           object\n",
       "funding_round_permalink     object\n",
       "funding_round_type          object\n",
       "funding_round_code          object\n",
       "funded_at                   object\n",
       "raised_amount_usd          float64\n",
       "dtype: object"
      ]
     },
     "execution_count": 10,
     "metadata": {},
     "output_type": "execute_result"
    }
   ],
   "source": [
    "#Data types of columns in rounds2 file\n",
    "rounds2.dtypes"
   ]
  },
  {
   "cell_type": "markdown",
   "metadata": {},
   "source": [
    "## <u>Data Cleaning</u>"
   ]
  },
  {
   "cell_type": "markdown",
   "metadata": {},
   "source": [
    "Actions performed to clean the data are:\n",
    "- Checked for duplicate data in both data sets by mainting the same format for unique columns in both datasets\n",
    "- Merged the dataframes into one master dataframe\n",
    "- Dropped records with missing values in various columns "
   ]
  },
  {
   "cell_type": "markdown",
   "metadata": {},
   "source": [
    "##### Checking for total data in both Datasets"
   ]
  },
  {
   "cell_type": "code",
   "execution_count": 11,
   "metadata": {},
   "outputs": [
    {
     "data": {
      "text/plain": [
       "66368"
      ]
     },
     "execution_count": 11,
     "metadata": {},
     "output_type": "execute_result"
    }
   ],
   "source": [
    "#checking how many records of data are present in companies.csv via 'permalink' column\n",
    "len(companies.pivot_table(index=['permalink'], aggfunc='size'))"
   ]
  },
  {
   "cell_type": "code",
   "execution_count": 12,
   "metadata": {},
   "outputs": [
    {
     "data": {
      "text/plain": [
       "90247"
      ]
     },
     "execution_count": 12,
     "metadata": {},
     "output_type": "execute_result"
    }
   ],
   "source": [
    "#checking how many records of data are present in rounds2.csv via the 'company_permalink' column\n",
    "len(rounds2.pivot_table(index=['company_permalink'], aggfunc='size'))"
   ]
  },
  {
   "cell_type": "markdown",
   "metadata": {},
   "source": [
    "### Note:"
   ]
  },
  {
   "cell_type": "markdown",
   "metadata": {},
   "source": [
    "We see that `companies.csv` file has no duplicate data as it is matching to the number of records originally present, but the `rounds2.csv` file does have duplicate data as the original file has `114949 records`."
   ]
  },
  {
   "cell_type": "markdown",
   "metadata": {},
   "source": [
    "We also observe that the `company_permalink` in the `rounds2.csv` column has a few entries which are in upper case where as all the entries in `permalink` column of the `companies.csv` are in lower case, as the `companies.csv` file has no duplicate data we will be taking it as reference and convert all the records of the `company_permalink` column and the `permalink` column to lowercase "
   ]
  },
  {
   "cell_type": "code",
   "execution_count": 13,
   "metadata": {},
   "outputs": [],
   "source": [
    "#Convert all records of the 'company' column of companies.csv to lowercase \n",
    "companies['permalink'] = companies['permalink'].apply(lambda x:x.lower())\n",
    "\n",
    "#Convert all records of the 'company_permalink' column of rounds2.csv to lowercase \n",
    "rounds2['company_permalink'] = rounds2['company_permalink'].apply(lambda x:x.lower())"
   ]
  },
  {
   "cell_type": "markdown",
   "metadata": {},
   "source": [
    "##### Checking for unique values in both datasets"
   ]
  },
  {
   "cell_type": "code",
   "execution_count": 14,
   "metadata": {},
   "outputs": [
    {
     "data": {
      "text/plain": [
       "66368"
      ]
     },
     "execution_count": 14,
     "metadata": {},
     "output_type": "execute_result"
    }
   ],
   "source": [
    "#Checking for Unique values in \"companies.csv\"\n",
    "len(companies.permalink.unique())"
   ]
  },
  {
   "cell_type": "code",
   "execution_count": 15,
   "metadata": {},
   "outputs": [
    {
     "data": {
      "text/plain": [
       "66368"
      ]
     },
     "execution_count": 15,
     "metadata": {},
     "output_type": "execute_result"
    }
   ],
   "source": [
    "#Checking for Unique values in \"rounds2.csv\"\n",
    "len(rounds2.company_permalink.unique())"
   ]
  },
  {
   "cell_type": "markdown",
   "metadata": {},
   "source": [
    "We now see that both the columns of both datasets i.e `permalink` and `company_permalink` are having `66368` unique records."
   ]
  },
  {
   "cell_type": "code",
   "execution_count": 16,
   "metadata": {},
   "outputs": [
    {
     "data": {
      "text/html": [
       "<div>\n",
       "<style scoped>\n",
       "    .dataframe tbody tr th:only-of-type {\n",
       "        vertical-align: middle;\n",
       "    }\n",
       "\n",
       "    .dataframe tbody tr th {\n",
       "        vertical-align: top;\n",
       "    }\n",
       "\n",
       "    .dataframe thead th {\n",
       "        text-align: right;\n",
       "    }\n",
       "</style>\n",
       "<table border=\"1\" class=\"dataframe\">\n",
       "  <thead>\n",
       "    <tr style=\"text-align: right;\">\n",
       "      <th></th>\n",
       "      <th>company_permalink</th>\n",
       "      <th>funding_round_permalink</th>\n",
       "      <th>funding_round_type</th>\n",
       "      <th>funding_round_code</th>\n",
       "      <th>funded_at</th>\n",
       "      <th>raised_amount_usd</th>\n",
       "    </tr>\n",
       "  </thead>\n",
       "  <tbody>\n",
       "  </tbody>\n",
       "</table>\n",
       "</div>"
      ],
      "text/plain": [
       "Empty DataFrame\n",
       "Columns: [company_permalink, funding_round_permalink, funding_round_type, funding_round_code, funded_at, raised_amount_usd]\n",
       "Index: []"
      ]
     },
     "execution_count": 16,
     "metadata": {},
     "output_type": "execute_result"
    }
   ],
   "source": [
    "#Checking if there are any companies in the rounds2 file which are not present in companies file\n",
    "rounds2.loc[~rounds2['company_permalink'].isin(companies['permalink']), :]"
   ]
  },
  {
   "cell_type": "markdown",
   "metadata": {},
   "source": [
    "We see that the records present for the `permalink` column in the `companies.csv` file are same as records in the `rounds2.csv` file of the `company_permalink` column\n",
    "\n",
    "As the `permalink` column in the `companies.csv` file are same as records in the `rounds2.csv` file of the `company_permalink` column lets rename the `company_permalink` column to `permalink_1`"
   ]
  },
  {
   "cell_type": "code",
   "execution_count": 17,
   "metadata": {},
   "outputs": [],
   "source": [
    "#Renaming \"company_permalink\" column to \"permalink_1\"\n",
    "rounds2 = rounds2.rename(columns={'company_permalink':'permalink1'})"
   ]
  },
  {
   "cell_type": "code",
   "execution_count": 18,
   "metadata": {},
   "outputs": [
    {
     "data": {
      "text/html": [
       "<div>\n",
       "<style scoped>\n",
       "    .dataframe tbody tr th:only-of-type {\n",
       "        vertical-align: middle;\n",
       "    }\n",
       "\n",
       "    .dataframe tbody tr th {\n",
       "        vertical-align: top;\n",
       "    }\n",
       "\n",
       "    .dataframe thead th {\n",
       "        text-align: right;\n",
       "    }\n",
       "</style>\n",
       "<table border=\"1\" class=\"dataframe\">\n",
       "  <thead>\n",
       "    <tr style=\"text-align: right;\">\n",
       "      <th></th>\n",
       "      <th>permalink1</th>\n",
       "      <th>funding_round_permalink</th>\n",
       "      <th>funding_round_type</th>\n",
       "      <th>funding_round_code</th>\n",
       "      <th>funded_at</th>\n",
       "      <th>raised_amount_usd</th>\n",
       "    </tr>\n",
       "  </thead>\n",
       "  <tbody>\n",
       "    <tr>\n",
       "      <th>0</th>\n",
       "      <td>/organization/-fame</td>\n",
       "      <td>/funding-round/9a01d05418af9f794eebff7ace91f638</td>\n",
       "      <td>venture</td>\n",
       "      <td>B</td>\n",
       "      <td>05-01-2015</td>\n",
       "      <td>10000000.0</td>\n",
       "    </tr>\n",
       "    <tr>\n",
       "      <th>1</th>\n",
       "      <td>/organization/-qounter</td>\n",
       "      <td>/funding-round/22dacff496eb7acb2b901dec1dfe5633</td>\n",
       "      <td>venture</td>\n",
       "      <td>A</td>\n",
       "      <td>14-10-2014</td>\n",
       "      <td>NaN</td>\n",
       "    </tr>\n",
       "  </tbody>\n",
       "</table>\n",
       "</div>"
      ],
      "text/plain": [
       "               permalink1                          funding_round_permalink  \\\n",
       "0     /organization/-fame  /funding-round/9a01d05418af9f794eebff7ace91f638   \n",
       "1  /organization/-qounter  /funding-round/22dacff496eb7acb2b901dec1dfe5633   \n",
       "\n",
       "  funding_round_type funding_round_code   funded_at  raised_amount_usd  \n",
       "0            venture                  B  05-01-2015         10000000.0  \n",
       "1            venture                  A  14-10-2014                NaN  "
      ]
     },
     "execution_count": 18,
     "metadata": {},
     "output_type": "execute_result"
    }
   ],
   "source": [
    "rounds2.head(2)"
   ]
  },
  {
   "cell_type": "code",
   "execution_count": 19,
   "metadata": {},
   "outputs": [
    {
     "data": {
      "text/html": [
       "<div>\n",
       "<style scoped>\n",
       "    .dataframe tbody tr th:only-of-type {\n",
       "        vertical-align: middle;\n",
       "    }\n",
       "\n",
       "    .dataframe tbody tr th {\n",
       "        vertical-align: top;\n",
       "    }\n",
       "\n",
       "    .dataframe thead th {\n",
       "        text-align: right;\n",
       "    }\n",
       "</style>\n",
       "<table border=\"1\" class=\"dataframe\">\n",
       "  <thead>\n",
       "    <tr style=\"text-align: right;\">\n",
       "      <th></th>\n",
       "      <th>permalink</th>\n",
       "      <th>name</th>\n",
       "      <th>homepage_url</th>\n",
       "      <th>category_list</th>\n",
       "      <th>status</th>\n",
       "      <th>country_code</th>\n",
       "      <th>state_code</th>\n",
       "      <th>region</th>\n",
       "      <th>city</th>\n",
       "      <th>founded_at</th>\n",
       "    </tr>\n",
       "  </thead>\n",
       "  <tbody>\n",
       "    <tr>\n",
       "      <th>0</th>\n",
       "      <td>/organization/-fame</td>\n",
       "      <td>#fame</td>\n",
       "      <td>http://livfame.com</td>\n",
       "      <td>Media</td>\n",
       "      <td>operating</td>\n",
       "      <td>IND</td>\n",
       "      <td>16</td>\n",
       "      <td>Mumbai</td>\n",
       "      <td>Mumbai</td>\n",
       "      <td>NaN</td>\n",
       "    </tr>\n",
       "    <tr>\n",
       "      <th>1</th>\n",
       "      <td>/organization/-qounter</td>\n",
       "      <td>:Qounter</td>\n",
       "      <td>http://www.qounter.com</td>\n",
       "      <td>Application Platforms|Real Time|Social Network...</td>\n",
       "      <td>operating</td>\n",
       "      <td>USA</td>\n",
       "      <td>DE</td>\n",
       "      <td>DE - Other</td>\n",
       "      <td>Delaware City</td>\n",
       "      <td>04-09-2014</td>\n",
       "    </tr>\n",
       "  </tbody>\n",
       "</table>\n",
       "</div>"
      ],
      "text/plain": [
       "                permalink      name            homepage_url  \\\n",
       "0     /organization/-fame     #fame      http://livfame.com   \n",
       "1  /organization/-qounter  :Qounter  http://www.qounter.com   \n",
       "\n",
       "                                       category_list     status country_code  \\\n",
       "0                                              Media  operating          IND   \n",
       "1  Application Platforms|Real Time|Social Network...  operating          USA   \n",
       "\n",
       "  state_code      region           city  founded_at  \n",
       "0         16      Mumbai         Mumbai         NaN  \n",
       "1         DE  DE - Other  Delaware City  04-09-2014  "
      ]
     },
     "execution_count": 19,
     "metadata": {},
     "output_type": "execute_result"
    }
   ],
   "source": [
    "companies.head(2)"
   ]
  },
  {
   "cell_type": "markdown",
   "metadata": {},
   "source": [
    "##### Checking for missing values in both the datasets"
   ]
  },
  {
   "cell_type": "code",
   "execution_count": 20,
   "metadata": {},
   "outputs": [
    {
     "data": {
      "text/plain": [
       "permalink            0\n",
       "name                 1\n",
       "homepage_url      5058\n",
       "category_list     3148\n",
       "status               0\n",
       "country_code      6958\n",
       "state_code        8547\n",
       "region            8030\n",
       "city              8028\n",
       "founded_at       15221\n",
       "dtype: int64"
      ]
     },
     "execution_count": 20,
     "metadata": {},
     "output_type": "execute_result"
    }
   ],
   "source": [
    "#Checking missing values in companies.csv\n",
    "companies.isnull().sum()"
   ]
  },
  {
   "cell_type": "code",
   "execution_count": 21,
   "metadata": {},
   "outputs": [
    {
     "data": {
      "text/plain": [
       "permalink1                     0\n",
       "funding_round_permalink        0\n",
       "funding_round_type             0\n",
       "funding_round_code         83809\n",
       "funded_at                      0\n",
       "raised_amount_usd          19990\n",
       "dtype: int64"
      ]
     },
     "execution_count": 21,
     "metadata": {},
     "output_type": "execute_result"
    }
   ],
   "source": [
    "#Checking missing values in rounds2.csv\n",
    "rounds2.isnull().sum()"
   ]
  },
  {
   "cell_type": "code",
   "execution_count": 22,
   "metadata": {},
   "outputs": [
    {
     "data": {
      "text/plain": [
       "(114949, 6)"
      ]
     },
     "execution_count": 22,
     "metadata": {},
     "output_type": "execute_result"
    }
   ],
   "source": [
    "rounds2.shape"
   ]
  },
  {
   "cell_type": "markdown",
   "metadata": {},
   "source": [
    "We see that both the data sets have huge number of missing values and as we need to merge the dataframes, we can deal the missing values altogether after merging the dataframes into one `master_frame` dataframe and we can do that on columns which have no missing values which is the `permalink` and `permalink1` columns"
   ]
  },
  {
   "cell_type": "markdown",
   "metadata": {},
   "source": [
    "##### Merging both the dataframes in to one `master_frame` dataframe"
   ]
  },
  {
   "cell_type": "code",
   "execution_count": 23,
   "metadata": {},
   "outputs": [
    {
     "data": {
      "text/html": [
       "<div>\n",
       "<style scoped>\n",
       "    .dataframe tbody tr th:only-of-type {\n",
       "        vertical-align: middle;\n",
       "    }\n",
       "\n",
       "    .dataframe tbody tr th {\n",
       "        vertical-align: top;\n",
       "    }\n",
       "\n",
       "    .dataframe thead th {\n",
       "        text-align: right;\n",
       "    }\n",
       "</style>\n",
       "<table border=\"1\" class=\"dataframe\">\n",
       "  <thead>\n",
       "    <tr style=\"text-align: right;\">\n",
       "      <th></th>\n",
       "      <th>permalink</th>\n",
       "      <th>name</th>\n",
       "      <th>homepage_url</th>\n",
       "      <th>category_list</th>\n",
       "      <th>status</th>\n",
       "      <th>country_code</th>\n",
       "      <th>state_code</th>\n",
       "      <th>region</th>\n",
       "      <th>city</th>\n",
       "      <th>founded_at</th>\n",
       "      <th>permalink1</th>\n",
       "      <th>funding_round_permalink</th>\n",
       "      <th>funding_round_type</th>\n",
       "      <th>funding_round_code</th>\n",
       "      <th>funded_at</th>\n",
       "      <th>raised_amount_usd</th>\n",
       "    </tr>\n",
       "  </thead>\n",
       "  <tbody>\n",
       "    <tr>\n",
       "      <th>0</th>\n",
       "      <td>/organization/-fame</td>\n",
       "      <td>#fame</td>\n",
       "      <td>http://livfame.com</td>\n",
       "      <td>Media</td>\n",
       "      <td>operating</td>\n",
       "      <td>IND</td>\n",
       "      <td>16</td>\n",
       "      <td>Mumbai</td>\n",
       "      <td>Mumbai</td>\n",
       "      <td>NaN</td>\n",
       "      <td>/organization/-fame</td>\n",
       "      <td>/funding-round/9a01d05418af9f794eebff7ace91f638</td>\n",
       "      <td>venture</td>\n",
       "      <td>B</td>\n",
       "      <td>05-01-2015</td>\n",
       "      <td>10000000.0</td>\n",
       "    </tr>\n",
       "    <tr>\n",
       "      <th>1</th>\n",
       "      <td>/organization/-qounter</td>\n",
       "      <td>:Qounter</td>\n",
       "      <td>http://www.qounter.com</td>\n",
       "      <td>Application Platforms|Real Time|Social Network...</td>\n",
       "      <td>operating</td>\n",
       "      <td>USA</td>\n",
       "      <td>DE</td>\n",
       "      <td>DE - Other</td>\n",
       "      <td>Delaware City</td>\n",
       "      <td>04-09-2014</td>\n",
       "      <td>/organization/-qounter</td>\n",
       "      <td>/funding-round/22dacff496eb7acb2b901dec1dfe5633</td>\n",
       "      <td>venture</td>\n",
       "      <td>A</td>\n",
       "      <td>14-10-2014</td>\n",
       "      <td>NaN</td>\n",
       "    </tr>\n",
       "    <tr>\n",
       "      <th>2</th>\n",
       "      <td>/organization/-qounter</td>\n",
       "      <td>:Qounter</td>\n",
       "      <td>http://www.qounter.com</td>\n",
       "      <td>Application Platforms|Real Time|Social Network...</td>\n",
       "      <td>operating</td>\n",
       "      <td>USA</td>\n",
       "      <td>DE</td>\n",
       "      <td>DE - Other</td>\n",
       "      <td>Delaware City</td>\n",
       "      <td>04-09-2014</td>\n",
       "      <td>/organization/-qounter</td>\n",
       "      <td>/funding-round/b44fbb94153f6cdef13083530bb48030</td>\n",
       "      <td>seed</td>\n",
       "      <td>NaN</td>\n",
       "      <td>01-03-2014</td>\n",
       "      <td>700000.0</td>\n",
       "    </tr>\n",
       "    <tr>\n",
       "      <th>3</th>\n",
       "      <td>/organization/-the-one-of-them-inc-</td>\n",
       "      <td>(THE) ONE of THEM,Inc.</td>\n",
       "      <td>http://oneofthem.jp</td>\n",
       "      <td>Apps|Games|Mobile</td>\n",
       "      <td>operating</td>\n",
       "      <td>NaN</td>\n",
       "      <td>NaN</td>\n",
       "      <td>NaN</td>\n",
       "      <td>NaN</td>\n",
       "      <td>NaN</td>\n",
       "      <td>/organization/-the-one-of-them-inc-</td>\n",
       "      <td>/funding-round/650b8f704416801069bb178a1418776b</td>\n",
       "      <td>venture</td>\n",
       "      <td>B</td>\n",
       "      <td>30-01-2014</td>\n",
       "      <td>3406878.0</td>\n",
       "    </tr>\n",
       "    <tr>\n",
       "      <th>4</th>\n",
       "      <td>/organization/0-6-com</td>\n",
       "      <td>0-6.com</td>\n",
       "      <td>http://www.0-6.com</td>\n",
       "      <td>Curated Web</td>\n",
       "      <td>operating</td>\n",
       "      <td>CHN</td>\n",
       "      <td>22</td>\n",
       "      <td>Beijing</td>\n",
       "      <td>Beijing</td>\n",
       "      <td>01-01-2007</td>\n",
       "      <td>/organization/0-6-com</td>\n",
       "      <td>/funding-round/5727accaeaa57461bd22a9bdd945382d</td>\n",
       "      <td>venture</td>\n",
       "      <td>A</td>\n",
       "      <td>19-03-2008</td>\n",
       "      <td>2000000.0</td>\n",
       "    </tr>\n",
       "  </tbody>\n",
       "</table>\n",
       "</div>"
      ],
      "text/plain": [
       "                             permalink                    name  \\\n",
       "0                  /organization/-fame                   #fame   \n",
       "1               /organization/-qounter                :Qounter   \n",
       "2               /organization/-qounter                :Qounter   \n",
       "3  /organization/-the-one-of-them-inc-  (THE) ONE of THEM,Inc.   \n",
       "4                /organization/0-6-com                 0-6.com   \n",
       "\n",
       "             homepage_url                                      category_list  \\\n",
       "0      http://livfame.com                                              Media   \n",
       "1  http://www.qounter.com  Application Platforms|Real Time|Social Network...   \n",
       "2  http://www.qounter.com  Application Platforms|Real Time|Social Network...   \n",
       "3     http://oneofthem.jp                                  Apps|Games|Mobile   \n",
       "4      http://www.0-6.com                                        Curated Web   \n",
       "\n",
       "      status country_code state_code      region           city  founded_at  \\\n",
       "0  operating          IND         16      Mumbai         Mumbai         NaN   \n",
       "1  operating          USA         DE  DE - Other  Delaware City  04-09-2014   \n",
       "2  operating          USA         DE  DE - Other  Delaware City  04-09-2014   \n",
       "3  operating          NaN        NaN         NaN            NaN         NaN   \n",
       "4  operating          CHN         22     Beijing        Beijing  01-01-2007   \n",
       "\n",
       "                            permalink1  \\\n",
       "0                  /organization/-fame   \n",
       "1               /organization/-qounter   \n",
       "2               /organization/-qounter   \n",
       "3  /organization/-the-one-of-them-inc-   \n",
       "4                /organization/0-6-com   \n",
       "\n",
       "                           funding_round_permalink funding_round_type  \\\n",
       "0  /funding-round/9a01d05418af9f794eebff7ace91f638            venture   \n",
       "1  /funding-round/22dacff496eb7acb2b901dec1dfe5633            venture   \n",
       "2  /funding-round/b44fbb94153f6cdef13083530bb48030               seed   \n",
       "3  /funding-round/650b8f704416801069bb178a1418776b            venture   \n",
       "4  /funding-round/5727accaeaa57461bd22a9bdd945382d            venture   \n",
       "\n",
       "  funding_round_code   funded_at  raised_amount_usd  \n",
       "0                  B  05-01-2015         10000000.0  \n",
       "1                  A  14-10-2014                NaN  \n",
       "2                NaN  01-03-2014           700000.0  \n",
       "3                  B  30-01-2014          3406878.0  \n",
       "4                  A  19-03-2008          2000000.0  "
      ]
     },
     "execution_count": 23,
     "metadata": {},
     "output_type": "execute_result"
    }
   ],
   "source": [
    "#Merging companies and rounds2 together\n",
    "master_frame = pd.merge(companies, rounds2, how=\"inner\", left_on=\"permalink\", right_on=\"permalink1\")\n",
    "master_frame.head()"
   ]
  },
  {
   "cell_type": "markdown",
   "metadata": {},
   "source": [
    "Now as the dataframes have been merged we have one extra column that is the `permalink1` which we can go ahead and drop."
   ]
  },
  {
   "cell_type": "code",
   "execution_count": 24,
   "metadata": {},
   "outputs": [
    {
     "data": {
      "text/html": [
       "<div>\n",
       "<style scoped>\n",
       "    .dataframe tbody tr th:only-of-type {\n",
       "        vertical-align: middle;\n",
       "    }\n",
       "\n",
       "    .dataframe tbody tr th {\n",
       "        vertical-align: top;\n",
       "    }\n",
       "\n",
       "    .dataframe thead th {\n",
       "        text-align: right;\n",
       "    }\n",
       "</style>\n",
       "<table border=\"1\" class=\"dataframe\">\n",
       "  <thead>\n",
       "    <tr style=\"text-align: right;\">\n",
       "      <th></th>\n",
       "      <th>permalink</th>\n",
       "      <th>name</th>\n",
       "      <th>homepage_url</th>\n",
       "      <th>category_list</th>\n",
       "      <th>status</th>\n",
       "      <th>country_code</th>\n",
       "      <th>state_code</th>\n",
       "      <th>region</th>\n",
       "      <th>city</th>\n",
       "      <th>founded_at</th>\n",
       "      <th>funding_round_permalink</th>\n",
       "      <th>funding_round_type</th>\n",
       "      <th>funding_round_code</th>\n",
       "      <th>funded_at</th>\n",
       "      <th>raised_amount_usd</th>\n",
       "    </tr>\n",
       "  </thead>\n",
       "  <tbody>\n",
       "    <tr>\n",
       "      <th>0</th>\n",
       "      <td>/organization/-fame</td>\n",
       "      <td>#fame</td>\n",
       "      <td>http://livfame.com</td>\n",
       "      <td>Media</td>\n",
       "      <td>operating</td>\n",
       "      <td>IND</td>\n",
       "      <td>16</td>\n",
       "      <td>Mumbai</td>\n",
       "      <td>Mumbai</td>\n",
       "      <td>NaN</td>\n",
       "      <td>/funding-round/9a01d05418af9f794eebff7ace91f638</td>\n",
       "      <td>venture</td>\n",
       "      <td>B</td>\n",
       "      <td>05-01-2015</td>\n",
       "      <td>10000000.0</td>\n",
       "    </tr>\n",
       "    <tr>\n",
       "      <th>1</th>\n",
       "      <td>/organization/-qounter</td>\n",
       "      <td>:Qounter</td>\n",
       "      <td>http://www.qounter.com</td>\n",
       "      <td>Application Platforms|Real Time|Social Network...</td>\n",
       "      <td>operating</td>\n",
       "      <td>USA</td>\n",
       "      <td>DE</td>\n",
       "      <td>DE - Other</td>\n",
       "      <td>Delaware City</td>\n",
       "      <td>04-09-2014</td>\n",
       "      <td>/funding-round/22dacff496eb7acb2b901dec1dfe5633</td>\n",
       "      <td>venture</td>\n",
       "      <td>A</td>\n",
       "      <td>14-10-2014</td>\n",
       "      <td>NaN</td>\n",
       "    </tr>\n",
       "    <tr>\n",
       "      <th>2</th>\n",
       "      <td>/organization/-qounter</td>\n",
       "      <td>:Qounter</td>\n",
       "      <td>http://www.qounter.com</td>\n",
       "      <td>Application Platforms|Real Time|Social Network...</td>\n",
       "      <td>operating</td>\n",
       "      <td>USA</td>\n",
       "      <td>DE</td>\n",
       "      <td>DE - Other</td>\n",
       "      <td>Delaware City</td>\n",
       "      <td>04-09-2014</td>\n",
       "      <td>/funding-round/b44fbb94153f6cdef13083530bb48030</td>\n",
       "      <td>seed</td>\n",
       "      <td>NaN</td>\n",
       "      <td>01-03-2014</td>\n",
       "      <td>700000.0</td>\n",
       "    </tr>\n",
       "    <tr>\n",
       "      <th>3</th>\n",
       "      <td>/organization/-the-one-of-them-inc-</td>\n",
       "      <td>(THE) ONE of THEM,Inc.</td>\n",
       "      <td>http://oneofthem.jp</td>\n",
       "      <td>Apps|Games|Mobile</td>\n",
       "      <td>operating</td>\n",
       "      <td>NaN</td>\n",
       "      <td>NaN</td>\n",
       "      <td>NaN</td>\n",
       "      <td>NaN</td>\n",
       "      <td>NaN</td>\n",
       "      <td>/funding-round/650b8f704416801069bb178a1418776b</td>\n",
       "      <td>venture</td>\n",
       "      <td>B</td>\n",
       "      <td>30-01-2014</td>\n",
       "      <td>3406878.0</td>\n",
       "    </tr>\n",
       "    <tr>\n",
       "      <th>4</th>\n",
       "      <td>/organization/0-6-com</td>\n",
       "      <td>0-6.com</td>\n",
       "      <td>http://www.0-6.com</td>\n",
       "      <td>Curated Web</td>\n",
       "      <td>operating</td>\n",
       "      <td>CHN</td>\n",
       "      <td>22</td>\n",
       "      <td>Beijing</td>\n",
       "      <td>Beijing</td>\n",
       "      <td>01-01-2007</td>\n",
       "      <td>/funding-round/5727accaeaa57461bd22a9bdd945382d</td>\n",
       "      <td>venture</td>\n",
       "      <td>A</td>\n",
       "      <td>19-03-2008</td>\n",
       "      <td>2000000.0</td>\n",
       "    </tr>\n",
       "  </tbody>\n",
       "</table>\n",
       "</div>"
      ],
      "text/plain": [
       "                             permalink                    name  \\\n",
       "0                  /organization/-fame                   #fame   \n",
       "1               /organization/-qounter                :Qounter   \n",
       "2               /organization/-qounter                :Qounter   \n",
       "3  /organization/-the-one-of-them-inc-  (THE) ONE of THEM,Inc.   \n",
       "4                /organization/0-6-com                 0-6.com   \n",
       "\n",
       "             homepage_url                                      category_list  \\\n",
       "0      http://livfame.com                                              Media   \n",
       "1  http://www.qounter.com  Application Platforms|Real Time|Social Network...   \n",
       "2  http://www.qounter.com  Application Platforms|Real Time|Social Network...   \n",
       "3     http://oneofthem.jp                                  Apps|Games|Mobile   \n",
       "4      http://www.0-6.com                                        Curated Web   \n",
       "\n",
       "      status country_code state_code      region           city  founded_at  \\\n",
       "0  operating          IND         16      Mumbai         Mumbai         NaN   \n",
       "1  operating          USA         DE  DE - Other  Delaware City  04-09-2014   \n",
       "2  operating          USA         DE  DE - Other  Delaware City  04-09-2014   \n",
       "3  operating          NaN        NaN         NaN            NaN         NaN   \n",
       "4  operating          CHN         22     Beijing        Beijing  01-01-2007   \n",
       "\n",
       "                           funding_round_permalink funding_round_type  \\\n",
       "0  /funding-round/9a01d05418af9f794eebff7ace91f638            venture   \n",
       "1  /funding-round/22dacff496eb7acb2b901dec1dfe5633            venture   \n",
       "2  /funding-round/b44fbb94153f6cdef13083530bb48030               seed   \n",
       "3  /funding-round/650b8f704416801069bb178a1418776b            venture   \n",
       "4  /funding-round/5727accaeaa57461bd22a9bdd945382d            venture   \n",
       "\n",
       "  funding_round_code   funded_at  raised_amount_usd  \n",
       "0                  B  05-01-2015         10000000.0  \n",
       "1                  A  14-10-2014                NaN  \n",
       "2                NaN  01-03-2014           700000.0  \n",
       "3                  B  30-01-2014          3406878.0  \n",
       "4                  A  19-03-2008          2000000.0  "
      ]
     },
     "execution_count": 24,
     "metadata": {},
     "output_type": "execute_result"
    }
   ],
   "source": [
    "#Dropping \"permalink1\" column as it is the same as \"permalink\"\n",
    "master_frame =  master_frame.drop(['permalink1'], axis=1) \n",
    "master_frame.head()"
   ]
  },
  {
   "cell_type": "markdown",
   "metadata": {},
   "source": [
    "##### Checking for missing values in master_frame "
   ]
  },
  {
   "cell_type": "code",
   "execution_count": 25,
   "metadata": {},
   "outputs": [
    {
     "data": {
      "text/plain": [
       "permalink                      0\n",
       "name                           1\n",
       "homepage_url                6134\n",
       "category_list               3410\n",
       "status                         0\n",
       "country_code                8678\n",
       "state_code                 10946\n",
       "region                     10167\n",
       "city                       10164\n",
       "founded_at                 20521\n",
       "funding_round_permalink        0\n",
       "funding_round_type             0\n",
       "funding_round_code         83809\n",
       "funded_at                      0\n",
       "raised_amount_usd          19990\n",
       "dtype: int64"
      ]
     },
     "execution_count": 25,
     "metadata": {},
     "output_type": "execute_result"
    }
   ],
   "source": [
    "master_frame.isnull().sum()"
   ]
  },
  {
   "cell_type": "markdown",
   "metadata": {},
   "source": [
    "### Note:"
   ]
  },
  {
   "cell_type": "markdown",
   "metadata": {},
   "source": [
    "As the objective is to identify the best sectors, countries, and a suitable investment type for making investments and the types of analysis we need to perform are :\n",
    "\n",
    "- `Investment analysis`\n",
    "- `Country analysis`\n",
    "- `Sector analysis`\n",
    "\n",
    "Spark Funds has two minor constraints for investments:\n",
    "\n",
    "- `It wants to invest between 5 to 15 million USD per round of investment`\n",
    "- `It wants to invest only in English-speaking countries because of the ease of communication with the companies it would invest in.`\n",
    "\n",
    "*Hence we can go ahead and drop the following columns which are not useful for further analysis so we can focus on variables which are important:*\n",
    "\n",
    "- `homepage_url`\n",
    "- `state_code`\n",
    "- `region`\n",
    "- `city`\n",
    "- `founded_at`\n",
    "\n",
    "Please note that we are not dropping the `country_code` as we need it for `Country analysis`"
   ]
  },
  {
   "cell_type": "code",
   "execution_count": 26,
   "metadata": {},
   "outputs": [
    {
     "data": {
      "text/html": [
       "<div>\n",
       "<style scoped>\n",
       "    .dataframe tbody tr th:only-of-type {\n",
       "        vertical-align: middle;\n",
       "    }\n",
       "\n",
       "    .dataframe tbody tr th {\n",
       "        vertical-align: top;\n",
       "    }\n",
       "\n",
       "    .dataframe thead th {\n",
       "        text-align: right;\n",
       "    }\n",
       "</style>\n",
       "<table border=\"1\" class=\"dataframe\">\n",
       "  <thead>\n",
       "    <tr style=\"text-align: right;\">\n",
       "      <th></th>\n",
       "      <th>permalink</th>\n",
       "      <th>name</th>\n",
       "      <th>category_list</th>\n",
       "      <th>status</th>\n",
       "      <th>country_code</th>\n",
       "      <th>funding_round_permalink</th>\n",
       "      <th>funding_round_type</th>\n",
       "      <th>funding_round_code</th>\n",
       "      <th>funded_at</th>\n",
       "      <th>raised_amount_usd</th>\n",
       "    </tr>\n",
       "  </thead>\n",
       "  <tbody>\n",
       "    <tr>\n",
       "      <th>0</th>\n",
       "      <td>/organization/-fame</td>\n",
       "      <td>#fame</td>\n",
       "      <td>Media</td>\n",
       "      <td>operating</td>\n",
       "      <td>IND</td>\n",
       "      <td>/funding-round/9a01d05418af9f794eebff7ace91f638</td>\n",
       "      <td>venture</td>\n",
       "      <td>B</td>\n",
       "      <td>05-01-2015</td>\n",
       "      <td>10000000.0</td>\n",
       "    </tr>\n",
       "    <tr>\n",
       "      <th>1</th>\n",
       "      <td>/organization/-qounter</td>\n",
       "      <td>:Qounter</td>\n",
       "      <td>Application Platforms|Real Time|Social Network...</td>\n",
       "      <td>operating</td>\n",
       "      <td>USA</td>\n",
       "      <td>/funding-round/22dacff496eb7acb2b901dec1dfe5633</td>\n",
       "      <td>venture</td>\n",
       "      <td>A</td>\n",
       "      <td>14-10-2014</td>\n",
       "      <td>NaN</td>\n",
       "    </tr>\n",
       "    <tr>\n",
       "      <th>2</th>\n",
       "      <td>/organization/-qounter</td>\n",
       "      <td>:Qounter</td>\n",
       "      <td>Application Platforms|Real Time|Social Network...</td>\n",
       "      <td>operating</td>\n",
       "      <td>USA</td>\n",
       "      <td>/funding-round/b44fbb94153f6cdef13083530bb48030</td>\n",
       "      <td>seed</td>\n",
       "      <td>NaN</td>\n",
       "      <td>01-03-2014</td>\n",
       "      <td>700000.0</td>\n",
       "    </tr>\n",
       "  </tbody>\n",
       "</table>\n",
       "</div>"
      ],
      "text/plain": [
       "                permalink      name  \\\n",
       "0     /organization/-fame     #fame   \n",
       "1  /organization/-qounter  :Qounter   \n",
       "2  /organization/-qounter  :Qounter   \n",
       "\n",
       "                                       category_list     status country_code  \\\n",
       "0                                              Media  operating          IND   \n",
       "1  Application Platforms|Real Time|Social Network...  operating          USA   \n",
       "2  Application Platforms|Real Time|Social Network...  operating          USA   \n",
       "\n",
       "                           funding_round_permalink funding_round_type  \\\n",
       "0  /funding-round/9a01d05418af9f794eebff7ace91f638            venture   \n",
       "1  /funding-round/22dacff496eb7acb2b901dec1dfe5633            venture   \n",
       "2  /funding-round/b44fbb94153f6cdef13083530bb48030               seed   \n",
       "\n",
       "  funding_round_code   funded_at  raised_amount_usd  \n",
       "0                  B  05-01-2015         10000000.0  \n",
       "1                  A  14-10-2014                NaN  \n",
       "2                NaN  01-03-2014           700000.0  "
      ]
     },
     "execution_count": 26,
     "metadata": {},
     "output_type": "execute_result"
    }
   ],
   "source": [
    "#Dropping unwanted columns \n",
    "master_frame = master_frame.drop(['homepage_url', 'state_code', 'region', 'city', 'founded_at'], axis=1)\n",
    "master_frame.head(3)"
   ]
  },
  {
   "cell_type": "code",
   "execution_count": 27,
   "metadata": {},
   "outputs": [
    {
     "data": {
      "text/plain": [
       "(114949, 10)"
      ]
     },
     "execution_count": 27,
     "metadata": {},
     "output_type": "execute_result"
    }
   ],
   "source": [
    "#Checking number of observations in master_frame\n",
    "master_frame.shape"
   ]
  },
  {
   "cell_type": "markdown",
   "metadata": {},
   "source": [
    "We see that there are `114949 rows` and `10 columns` in the `master_frame` dataset"
   ]
  },
  {
   "cell_type": "code",
   "execution_count": 28,
   "metadata": {},
   "outputs": [
    {
     "data": {
      "text/plain": [
       "permalink                      0\n",
       "name                           1\n",
       "category_list               3410\n",
       "status                         0\n",
       "country_code                8678\n",
       "funding_round_permalink        0\n",
       "funding_round_type             0\n",
       "funding_round_code         83809\n",
       "funded_at                      0\n",
       "raised_amount_usd          19990\n",
       "dtype: int64"
      ]
     },
     "execution_count": 28,
     "metadata": {},
     "output_type": "execute_result"
    }
   ],
   "source": [
    "#Rechecking all the missing values in master_frame \n",
    "master_frame.isnull().sum()"
   ]
  },
  {
   "cell_type": "markdown",
   "metadata": {},
   "source": [
    "We see that the only variables that have missing values now are `name`, `category_list`, `country_code`, `funding_round_code` and `raised_amount_usd` so lets deal with the missing values order wise, As the target variable here would be `raised_amount_usd` lets deal with it in the end."
   ]
  },
  {
   "cell_type": "code",
   "execution_count": 29,
   "metadata": {},
   "outputs": [
    {
     "data": {
      "text/html": [
       "<div>\n",
       "<style scoped>\n",
       "    .dataframe tbody tr th:only-of-type {\n",
       "        vertical-align: middle;\n",
       "    }\n",
       "\n",
       "    .dataframe tbody tr th {\n",
       "        vertical-align: top;\n",
       "    }\n",
       "\n",
       "    .dataframe thead th {\n",
       "        text-align: right;\n",
       "    }\n",
       "</style>\n",
       "<table border=\"1\" class=\"dataframe\">\n",
       "  <thead>\n",
       "    <tr style=\"text-align: right;\">\n",
       "      <th></th>\n",
       "      <th>permalink</th>\n",
       "      <th>name</th>\n",
       "      <th>category_list</th>\n",
       "      <th>status</th>\n",
       "      <th>country_code</th>\n",
       "      <th>funding_round_permalink</th>\n",
       "      <th>funding_round_type</th>\n",
       "      <th>funding_round_code</th>\n",
       "      <th>funded_at</th>\n",
       "      <th>raised_amount_usd</th>\n",
       "    </tr>\n",
       "  </thead>\n",
       "  <tbody>\n",
       "    <tr>\n",
       "      <th>98692</th>\n",
       "      <td>/organization/tell-it-in</td>\n",
       "      <td>NaN</td>\n",
       "      <td>Startups</td>\n",
       "      <td>closed</td>\n",
       "      <td>USA</td>\n",
       "      <td>/funding-round/9c987e616755a78c51a4aa67c27a2a93</td>\n",
       "      <td>seed</td>\n",
       "      <td>NaN</td>\n",
       "      <td>01-03-2012</td>\n",
       "      <td>25000.0</td>\n",
       "    </tr>\n",
       "  </tbody>\n",
       "</table>\n",
       "</div>"
      ],
      "text/plain": [
       "                      permalink name category_list  status country_code  \\\n",
       "98692  /organization/tell-it-in  NaN      Startups  closed          USA   \n",
       "\n",
       "                               funding_round_permalink funding_round_type  \\\n",
       "98692  /funding-round/9c987e616755a78c51a4aa67c27a2a93               seed   \n",
       "\n",
       "      funding_round_code   funded_at  raised_amount_usd  \n",
       "98692                NaN  01-03-2012            25000.0  "
      ]
     },
     "execution_count": 29,
     "metadata": {},
     "output_type": "execute_result"
    }
   ],
   "source": [
    "#Viewing the record which is a null value in \"name\" column\n",
    "master_frame[master_frame.name.isnull()]"
   ]
  },
  {
   "cell_type": "markdown",
   "metadata": {},
   "source": [
    "As we cannot assume a name or impute one for this record we can go ahead and drop this record"
   ]
  },
  {
   "cell_type": "code",
   "execution_count": 30,
   "metadata": {},
   "outputs": [],
   "source": [
    "#Dropping the row having null values in the name column\n",
    "master_frame = master_frame[~master_frame.name.isnull()]"
   ]
  },
  {
   "cell_type": "code",
   "execution_count": 31,
   "metadata": {},
   "outputs": [
    {
     "data": {
      "text/html": [
       "<div>\n",
       "<style scoped>\n",
       "    .dataframe tbody tr th:only-of-type {\n",
       "        vertical-align: middle;\n",
       "    }\n",
       "\n",
       "    .dataframe tbody tr th {\n",
       "        vertical-align: top;\n",
       "    }\n",
       "\n",
       "    .dataframe thead th {\n",
       "        text-align: right;\n",
       "    }\n",
       "</style>\n",
       "<table border=\"1\" class=\"dataframe\">\n",
       "  <thead>\n",
       "    <tr style=\"text-align: right;\">\n",
       "      <th></th>\n",
       "      <th>permalink</th>\n",
       "      <th>name</th>\n",
       "      <th>category_list</th>\n",
       "      <th>status</th>\n",
       "      <th>country_code</th>\n",
       "      <th>funding_round_permalink</th>\n",
       "      <th>funding_round_type</th>\n",
       "      <th>funding_round_code</th>\n",
       "      <th>funded_at</th>\n",
       "      <th>raised_amount_usd</th>\n",
       "    </tr>\n",
       "  </thead>\n",
       "  <tbody>\n",
       "    <tr>\n",
       "      <th>99</th>\n",
       "      <td>/organization/123feng-com</td>\n",
       "      <td>123Feng.Com</td>\n",
       "      <td>NaN</td>\n",
       "      <td>operating</td>\n",
       "      <td>CHN</td>\n",
       "      <td>/funding-round/9d83084d87dc63a309c9a6fe9bf59d1b</td>\n",
       "      <td>venture</td>\n",
       "      <td>A</td>\n",
       "      <td>27-10-2015</td>\n",
       "      <td>13000000.0</td>\n",
       "    </tr>\n",
       "    <tr>\n",
       "      <th>123</th>\n",
       "      <td>/organization/15fen</td>\n",
       "      <td>15Fen</td>\n",
       "      <td>NaN</td>\n",
       "      <td>operating</td>\n",
       "      <td>CHN</td>\n",
       "      <td>/funding-round/b660e2c345e5cda7db2f1e0176a450b3</td>\n",
       "      <td>seed</td>\n",
       "      <td>NaN</td>\n",
       "      <td>15-12-2013</td>\n",
       "      <td>NaN</td>\n",
       "    </tr>\n",
       "    <tr>\n",
       "      <th>133</th>\n",
       "      <td>/organization/17-media</td>\n",
       "      <td>17 Media</td>\n",
       "      <td>NaN</td>\n",
       "      <td>operating</td>\n",
       "      <td>NaN</td>\n",
       "      <td>/funding-round/f8ffde9fa822843ac6ea9b66cc615df1</td>\n",
       "      <td>venture</td>\n",
       "      <td>A</td>\n",
       "      <td>05-11-2015</td>\n",
       "      <td>10000000.0</td>\n",
       "    </tr>\n",
       "    <tr>\n",
       "      <th>181</th>\n",
       "      <td>/organization/1mxians</td>\n",
       "      <td>1mxians</td>\n",
       "      <td>NaN</td>\n",
       "      <td>operating</td>\n",
       "      <td>CHN</td>\n",
       "      <td>/funding-round/6950448f81c6706abe61f659e15a7c87</td>\n",
       "      <td>venture</td>\n",
       "      <td>A</td>\n",
       "      <td>02-12-2015</td>\n",
       "      <td>15000000.0</td>\n",
       "    </tr>\n",
       "    <tr>\n",
       "      <th>185</th>\n",
       "      <td>/organization/1rp-media</td>\n",
       "      <td>1RP Media</td>\n",
       "      <td>NaN</td>\n",
       "      <td>operating</td>\n",
       "      <td>USA</td>\n",
       "      <td>/funding-round/f7400a94939ef73f70af0c52b54b31ce</td>\n",
       "      <td>seed</td>\n",
       "      <td>NaN</td>\n",
       "      <td>29-06-2012</td>\n",
       "      <td>NaN</td>\n",
       "    </tr>\n",
       "    <tr>\n",
       "      <th>...</th>\n",
       "      <td>...</td>\n",
       "      <td>...</td>\n",
       "      <td>...</td>\n",
       "      <td>...</td>\n",
       "      <td>...</td>\n",
       "      <td>...</td>\n",
       "      <td>...</td>\n",
       "      <td>...</td>\n",
       "      <td>...</td>\n",
       "      <td>...</td>\n",
       "    </tr>\n",
       "    <tr>\n",
       "      <th>114450</th>\n",
       "      <td>/organization/zkey-com</td>\n",
       "      <td>Zkey.com</td>\n",
       "      <td>NaN</td>\n",
       "      <td>closed</td>\n",
       "      <td>NaN</td>\n",
       "      <td>/funding-round/aca95e6dda1b354ebee80bca5f261607</td>\n",
       "      <td>venture</td>\n",
       "      <td>B</td>\n",
       "      <td>22-11-1999</td>\n",
       "      <td>10000000.0</td>\n",
       "    </tr>\n",
       "    <tr>\n",
       "      <th>114453</th>\n",
       "      <td>/organization/zlango</td>\n",
       "      <td>Zlango</td>\n",
       "      <td>NaN</td>\n",
       "      <td>closed</td>\n",
       "      <td>NaN</td>\n",
       "      <td>/funding-round/203baf1c533923de0bc50699a12f447e</td>\n",
       "      <td>venture</td>\n",
       "      <td>A</td>\n",
       "      <td>12-02-2007</td>\n",
       "      <td>12000000.0</td>\n",
       "    </tr>\n",
       "    <tr>\n",
       "      <th>114458</th>\n",
       "      <td>/organization/zlote-mysli</td>\n",
       "      <td>Zlote Mysli</td>\n",
       "      <td>NaN</td>\n",
       "      <td>operating</td>\n",
       "      <td>NaN</td>\n",
       "      <td>/funding-round/0787484a3d22104c752fe8a96d57abe4</td>\n",
       "      <td>venture</td>\n",
       "      <td>A</td>\n",
       "      <td>01-01-2009</td>\n",
       "      <td>NaN</td>\n",
       "    </tr>\n",
       "    <tr>\n",
       "      <th>114806</th>\n",
       "      <td>/organization/zuoyebang</td>\n",
       "      <td>Zuoyebang</td>\n",
       "      <td>NaN</td>\n",
       "      <td>operating</td>\n",
       "      <td>NaN</td>\n",
       "      <td>/funding-round/720cfd18d9f4804df5cf722ca8116ec8</td>\n",
       "      <td>venture</td>\n",
       "      <td>A</td>\n",
       "      <td>03-09-2015</td>\n",
       "      <td>NaN</td>\n",
       "    </tr>\n",
       "    <tr>\n",
       "      <th>114946</th>\n",
       "      <td>/organization/ãeron</td>\n",
       "      <td>ÃERON</td>\n",
       "      <td>NaN</td>\n",
       "      <td>operating</td>\n",
       "      <td>NaN</td>\n",
       "      <td>/funding-round/59f4dce44723b794f21ded3daed6e4fe</td>\n",
       "      <td>venture</td>\n",
       "      <td>A</td>\n",
       "      <td>01-08-2014</td>\n",
       "      <td>NaN</td>\n",
       "    </tr>\n",
       "  </tbody>\n",
       "</table>\n",
       "<p>3410 rows × 10 columns</p>\n",
       "</div>"
      ],
      "text/plain": [
       "                        permalink         name category_list     status  \\\n",
       "99      /organization/123feng-com  123Feng.Com           NaN  operating   \n",
       "123           /organization/15fen        15Fen           NaN  operating   \n",
       "133        /organization/17-media     17 Media           NaN  operating   \n",
       "181         /organization/1mxians      1mxians           NaN  operating   \n",
       "185       /organization/1rp-media    1RP Media           NaN  operating   \n",
       "...                           ...          ...           ...        ...   \n",
       "114450     /organization/zkey-com     Zkey.com           NaN     closed   \n",
       "114453       /organization/zlango       Zlango           NaN     closed   \n",
       "114458  /organization/zlote-mysli  Zlote Mysli           NaN  operating   \n",
       "114806    /organization/zuoyebang    Zuoyebang           NaN  operating   \n",
       "114946       /organization/ãeron       ÃERON           NaN  operating   \n",
       "\n",
       "       country_code                          funding_round_permalink  \\\n",
       "99              CHN  /funding-round/9d83084d87dc63a309c9a6fe9bf59d1b   \n",
       "123             CHN  /funding-round/b660e2c345e5cda7db2f1e0176a450b3   \n",
       "133             NaN  /funding-round/f8ffde9fa822843ac6ea9b66cc615df1   \n",
       "181             CHN  /funding-round/6950448f81c6706abe61f659e15a7c87   \n",
       "185             USA  /funding-round/f7400a94939ef73f70af0c52b54b31ce   \n",
       "...             ...                                              ...   \n",
       "114450          NaN  /funding-round/aca95e6dda1b354ebee80bca5f261607   \n",
       "114453          NaN  /funding-round/203baf1c533923de0bc50699a12f447e   \n",
       "114458          NaN  /funding-round/0787484a3d22104c752fe8a96d57abe4   \n",
       "114806          NaN  /funding-round/720cfd18d9f4804df5cf722ca8116ec8   \n",
       "114946          NaN  /funding-round/59f4dce44723b794f21ded3daed6e4fe   \n",
       "\n",
       "       funding_round_type funding_round_code   funded_at  raised_amount_usd  \n",
       "99                venture                  A  27-10-2015         13000000.0  \n",
       "123                  seed                NaN  15-12-2013                NaN  \n",
       "133               venture                  A  05-11-2015         10000000.0  \n",
       "181               venture                  A  02-12-2015         15000000.0  \n",
       "185                  seed                NaN  29-06-2012                NaN  \n",
       "...                   ...                ...         ...                ...  \n",
       "114450            venture                  B  22-11-1999         10000000.0  \n",
       "114453            venture                  A  12-02-2007         12000000.0  \n",
       "114458            venture                  A  01-01-2009                NaN  \n",
       "114806            venture                  A  03-09-2015                NaN  \n",
       "114946            venture                  A  01-08-2014                NaN  \n",
       "\n",
       "[3410 rows x 10 columns]"
      ]
     },
     "execution_count": 31,
     "metadata": {},
     "output_type": "execute_result"
    }
   ],
   "source": [
    "#Viewing the records which are null values in \"category_list\" column\n",
    "master_frame[master_frame.category_list.isnull()]"
   ]
  },
  {
   "cell_type": "markdown",
   "metadata": {},
   "source": [
    "As we cannot assume the categories or impute `3410` categories for this column we can go ahead and drop these as well"
   ]
  },
  {
   "cell_type": "code",
   "execution_count": 32,
   "metadata": {},
   "outputs": [],
   "source": [
    "#Dropping the rows having null values in the category_list column\n",
    "master_frame = master_frame[~master_frame.category_list.isnull()]"
   ]
  },
  {
   "cell_type": "code",
   "execution_count": 33,
   "metadata": {},
   "outputs": [
    {
     "data": {
      "text/html": [
       "<div>\n",
       "<style scoped>\n",
       "    .dataframe tbody tr th:only-of-type {\n",
       "        vertical-align: middle;\n",
       "    }\n",
       "\n",
       "    .dataframe tbody tr th {\n",
       "        vertical-align: top;\n",
       "    }\n",
       "\n",
       "    .dataframe thead th {\n",
       "        text-align: right;\n",
       "    }\n",
       "</style>\n",
       "<table border=\"1\" class=\"dataframe\">\n",
       "  <thead>\n",
       "    <tr style=\"text-align: right;\">\n",
       "      <th></th>\n",
       "      <th>permalink</th>\n",
       "      <th>name</th>\n",
       "      <th>category_list</th>\n",
       "      <th>status</th>\n",
       "      <th>country_code</th>\n",
       "      <th>funding_round_permalink</th>\n",
       "      <th>funding_round_type</th>\n",
       "      <th>funding_round_code</th>\n",
       "      <th>funded_at</th>\n",
       "      <th>raised_amount_usd</th>\n",
       "    </tr>\n",
       "  </thead>\n",
       "  <tbody>\n",
       "    <tr>\n",
       "      <th>3</th>\n",
       "      <td>/organization/-the-one-of-them-inc-</td>\n",
       "      <td>(THE) ONE of THEM,Inc.</td>\n",
       "      <td>Apps|Games|Mobile</td>\n",
       "      <td>operating</td>\n",
       "      <td>NaN</td>\n",
       "      <td>/funding-round/650b8f704416801069bb178a1418776b</td>\n",
       "      <td>venture</td>\n",
       "      <td>B</td>\n",
       "      <td>30-01-2014</td>\n",
       "      <td>3406878.0</td>\n",
       "    </tr>\n",
       "    <tr>\n",
       "      <th>32</th>\n",
       "      <td>/organization/1000chi</td>\n",
       "      <td>Beijing 1000CHI Software Technology</td>\n",
       "      <td>Mobile</td>\n",
       "      <td>operating</td>\n",
       "      <td>NaN</td>\n",
       "      <td>/funding-round/854fae13c5b26b2ea6b32b06c2e5890c</td>\n",
       "      <td>angel</td>\n",
       "      <td>NaN</td>\n",
       "      <td>01-04-2010</td>\n",
       "      <td>43923865.0</td>\n",
       "    </tr>\n",
       "    <tr>\n",
       "      <th>66</th>\n",
       "      <td>/organization/10k-2</td>\n",
       "      <td>Beans Around</td>\n",
       "      <td>Coffee|Delivery|Subscription Service</td>\n",
       "      <td>operating</td>\n",
       "      <td>NaN</td>\n",
       "      <td>/funding-round/95401c8e8336892bf375ad94efd6c725</td>\n",
       "      <td>seed</td>\n",
       "      <td>NaN</td>\n",
       "      <td>04-09-2015</td>\n",
       "      <td>100000.0</td>\n",
       "    </tr>\n",
       "    <tr>\n",
       "      <th>71</th>\n",
       "      <td>/organization/10tracks-2</td>\n",
       "      <td>10tracks</td>\n",
       "      <td>iOS|Mobile|Music</td>\n",
       "      <td>operating</td>\n",
       "      <td>NaN</td>\n",
       "      <td>/funding-round/74606b480fe509973a3d72c9017876ca</td>\n",
       "      <td>venture</td>\n",
       "      <td>NaN</td>\n",
       "      <td>03-02-2014</td>\n",
       "      <td>NaN</td>\n",
       "    </tr>\n",
       "    <tr>\n",
       "      <th>72</th>\n",
       "      <td>/organization/10tracks-2</td>\n",
       "      <td>10tracks</td>\n",
       "      <td>iOS|Mobile|Music</td>\n",
       "      <td>operating</td>\n",
       "      <td>NaN</td>\n",
       "      <td>/funding-round/e31e2474786f930fd72e292ec34e9126</td>\n",
       "      <td>seed</td>\n",
       "      <td>NaN</td>\n",
       "      <td>31-07-2013</td>\n",
       "      <td>NaN</td>\n",
       "    </tr>\n",
       "    <tr>\n",
       "      <th>...</th>\n",
       "      <td>...</td>\n",
       "      <td>...</td>\n",
       "      <td>...</td>\n",
       "      <td>...</td>\n",
       "      <td>...</td>\n",
       "      <td>...</td>\n",
       "      <td>...</td>\n",
       "      <td>...</td>\n",
       "      <td>...</td>\n",
       "      <td>...</td>\n",
       "    </tr>\n",
       "    <tr>\n",
       "      <th>114835</th>\n",
       "      <td>/organization/zuumtel</td>\n",
       "      <td>ZUUMTEL</td>\n",
       "      <td>Automotive|Design|Real Time</td>\n",
       "      <td>closed</td>\n",
       "      <td>NaN</td>\n",
       "      <td>/funding-round/785ed8667f9d950257f94089050d6eb0</td>\n",
       "      <td>angel</td>\n",
       "      <td>NaN</td>\n",
       "      <td>16-09-2014</td>\n",
       "      <td>200000.0</td>\n",
       "    </tr>\n",
       "    <tr>\n",
       "      <th>114836</th>\n",
       "      <td>/organization/zuumtel</td>\n",
       "      <td>ZUUMTEL</td>\n",
       "      <td>Automotive|Design|Real Time</td>\n",
       "      <td>closed</td>\n",
       "      <td>NaN</td>\n",
       "      <td>/funding-round/d5d97d7c8a5e923715b15495d44e7cb8</td>\n",
       "      <td>seed</td>\n",
       "      <td>NaN</td>\n",
       "      <td>01-04-2013</td>\n",
       "      <td>100000.0</td>\n",
       "    </tr>\n",
       "    <tr>\n",
       "      <th>114849</th>\n",
       "      <td>/organization/zwayo-\"on-demand-valet-parking\"</td>\n",
       "      <td>Zwayo \"On-Demand Valet Parking\"</td>\n",
       "      <td>Apps|Cars|Parking</td>\n",
       "      <td>operating</td>\n",
       "      <td>NaN</td>\n",
       "      <td>/funding-round/eb5163bb6feea4384121e27699bb7b25</td>\n",
       "      <td>seed</td>\n",
       "      <td>NaN</td>\n",
       "      <td>01-09-2014</td>\n",
       "      <td>60000.0</td>\n",
       "    </tr>\n",
       "    <tr>\n",
       "      <th>114860</th>\n",
       "      <td>/organization/zyfin</td>\n",
       "      <td>Zyfin</td>\n",
       "      <td>Finance</td>\n",
       "      <td>operating</td>\n",
       "      <td>NaN</td>\n",
       "      <td>/funding-round/98cef3afd5e88487a9829ff182fb1a25</td>\n",
       "      <td>venture</td>\n",
       "      <td>A</td>\n",
       "      <td>01-11-2011</td>\n",
       "      <td>NaN</td>\n",
       "    </tr>\n",
       "    <tr>\n",
       "      <th>114948</th>\n",
       "      <td>/organization/ä°novatiff-reklam-ve-tanä±tä±m-h...</td>\n",
       "      <td>Ä°novatiff Reklam ve TanÄ±tÄ±m Hizmetleri Tic</td>\n",
       "      <td>Consumer Goods|E-Commerce|Internet</td>\n",
       "      <td>operating</td>\n",
       "      <td>NaN</td>\n",
       "      <td>/funding-round/af942869878d2cd788ef5189b435ebc4</td>\n",
       "      <td>grant</td>\n",
       "      <td>NaN</td>\n",
       "      <td>01-10-2013</td>\n",
       "      <td>14851.0</td>\n",
       "    </tr>\n",
       "  </tbody>\n",
       "</table>\n",
       "<p>7007 rows × 10 columns</p>\n",
       "</div>"
      ],
      "text/plain": [
       "                                                permalink  \\\n",
       "3                     /organization/-the-one-of-them-inc-   \n",
       "32                                  /organization/1000chi   \n",
       "66                                    /organization/10k-2   \n",
       "71                               /organization/10tracks-2   \n",
       "72                               /organization/10tracks-2   \n",
       "...                                                   ...   \n",
       "114835                              /organization/zuumtel   \n",
       "114836                              /organization/zuumtel   \n",
       "114849      /organization/zwayo-\"on-demand-valet-parking\"   \n",
       "114860                                /organization/zyfin   \n",
       "114948  /organization/ä°novatiff-reklam-ve-tanä±tä±m-h...   \n",
       "\n",
       "                                                 name  \\\n",
       "3                              (THE) ONE of THEM,Inc.   \n",
       "32                Beijing 1000CHI Software Technology   \n",
       "66                                       Beans Around   \n",
       "71                                           10tracks   \n",
       "72                                           10tracks   \n",
       "...                                               ...   \n",
       "114835                                        ZUUMTEL   \n",
       "114836                                        ZUUMTEL   \n",
       "114849                Zwayo \"On-Demand Valet Parking\"   \n",
       "114860                                          Zyfin   \n",
       "114948  Ä°novatiff Reklam ve TanÄ±tÄ±m Hizmetleri Tic   \n",
       "\n",
       "                               category_list     status country_code  \\\n",
       "3                          Apps|Games|Mobile  operating          NaN   \n",
       "32                                    Mobile  operating          NaN   \n",
       "66      Coffee|Delivery|Subscription Service  operating          NaN   \n",
       "71                          iOS|Mobile|Music  operating          NaN   \n",
       "72                          iOS|Mobile|Music  operating          NaN   \n",
       "...                                      ...        ...          ...   \n",
       "114835           Automotive|Design|Real Time     closed          NaN   \n",
       "114836           Automotive|Design|Real Time     closed          NaN   \n",
       "114849                     Apps|Cars|Parking  operating          NaN   \n",
       "114860                               Finance  operating          NaN   \n",
       "114948    Consumer Goods|E-Commerce|Internet  operating          NaN   \n",
       "\n",
       "                                funding_round_permalink funding_round_type  \\\n",
       "3       /funding-round/650b8f704416801069bb178a1418776b            venture   \n",
       "32      /funding-round/854fae13c5b26b2ea6b32b06c2e5890c              angel   \n",
       "66      /funding-round/95401c8e8336892bf375ad94efd6c725               seed   \n",
       "71      /funding-round/74606b480fe509973a3d72c9017876ca            venture   \n",
       "72      /funding-round/e31e2474786f930fd72e292ec34e9126               seed   \n",
       "...                                                 ...                ...   \n",
       "114835  /funding-round/785ed8667f9d950257f94089050d6eb0              angel   \n",
       "114836  /funding-round/d5d97d7c8a5e923715b15495d44e7cb8               seed   \n",
       "114849  /funding-round/eb5163bb6feea4384121e27699bb7b25               seed   \n",
       "114860  /funding-round/98cef3afd5e88487a9829ff182fb1a25            venture   \n",
       "114948  /funding-round/af942869878d2cd788ef5189b435ebc4              grant   \n",
       "\n",
       "       funding_round_code   funded_at  raised_amount_usd  \n",
       "3                       B  30-01-2014          3406878.0  \n",
       "32                    NaN  01-04-2010         43923865.0  \n",
       "66                    NaN  04-09-2015           100000.0  \n",
       "71                    NaN  03-02-2014                NaN  \n",
       "72                    NaN  31-07-2013                NaN  \n",
       "...                   ...         ...                ...  \n",
       "114835                NaN  16-09-2014           200000.0  \n",
       "114836                NaN  01-04-2013           100000.0  \n",
       "114849                NaN  01-09-2014            60000.0  \n",
       "114860                  A  01-11-2011                NaN  \n",
       "114948                NaN  01-10-2013            14851.0  \n",
       "\n",
       "[7007 rows x 10 columns]"
      ]
     },
     "execution_count": 33,
     "metadata": {},
     "output_type": "execute_result"
    }
   ],
   "source": [
    "#Viewing the records which are null values in \"country_code\" column\n",
    "master_frame[master_frame.country_code.isnull()]"
   ]
  },
  {
   "cell_type": "markdown",
   "metadata": {},
   "source": [
    "As we cannot assume the country codes or impute `8678` country codes for these records we can go ahead and drop these as well"
   ]
  },
  {
   "cell_type": "code",
   "execution_count": 34,
   "metadata": {},
   "outputs": [],
   "source": [
    "#Dropping the rows having null values in the country_code column\n",
    "master_frame = master_frame[~master_frame.country_code.isnull()]"
   ]
  },
  {
   "cell_type": "code",
   "execution_count": 35,
   "metadata": {},
   "outputs": [
    {
     "data": {
      "text/html": [
       "<div>\n",
       "<style scoped>\n",
       "    .dataframe tbody tr th:only-of-type {\n",
       "        vertical-align: middle;\n",
       "    }\n",
       "\n",
       "    .dataframe tbody tr th {\n",
       "        vertical-align: top;\n",
       "    }\n",
       "\n",
       "    .dataframe thead th {\n",
       "        text-align: right;\n",
       "    }\n",
       "</style>\n",
       "<table border=\"1\" class=\"dataframe\">\n",
       "  <thead>\n",
       "    <tr style=\"text-align: right;\">\n",
       "      <th></th>\n",
       "      <th>permalink</th>\n",
       "      <th>name</th>\n",
       "      <th>category_list</th>\n",
       "      <th>status</th>\n",
       "      <th>country_code</th>\n",
       "      <th>funding_round_permalink</th>\n",
       "      <th>funding_round_type</th>\n",
       "      <th>funding_round_code</th>\n",
       "      <th>funded_at</th>\n",
       "      <th>raised_amount_usd</th>\n",
       "    </tr>\n",
       "  </thead>\n",
       "  <tbody>\n",
       "    <tr>\n",
       "      <th>2</th>\n",
       "      <td>/organization/-qounter</td>\n",
       "      <td>:Qounter</td>\n",
       "      <td>Application Platforms|Real Time|Social Network...</td>\n",
       "      <td>operating</td>\n",
       "      <td>USA</td>\n",
       "      <td>/funding-round/b44fbb94153f6cdef13083530bb48030</td>\n",
       "      <td>seed</td>\n",
       "      <td>NaN</td>\n",
       "      <td>01-03-2014</td>\n",
       "      <td>700000.0</td>\n",
       "    </tr>\n",
       "    <tr>\n",
       "      <th>5</th>\n",
       "      <td>/organization/004-technologies</td>\n",
       "      <td>004 Technologies</td>\n",
       "      <td>Software</td>\n",
       "      <td>operating</td>\n",
       "      <td>USA</td>\n",
       "      <td>/funding-round/1278dd4e6a37fa4b7d7e06c21b3c1830</td>\n",
       "      <td>venture</td>\n",
       "      <td>NaN</td>\n",
       "      <td>24-07-2014</td>\n",
       "      <td>NaN</td>\n",
       "    </tr>\n",
       "    <tr>\n",
       "      <th>6</th>\n",
       "      <td>/organization/01games-technology</td>\n",
       "      <td>01Games Technology</td>\n",
       "      <td>Games</td>\n",
       "      <td>operating</td>\n",
       "      <td>HKG</td>\n",
       "      <td>/funding-round/7d53696f2b4f607a2f2a8cbb83d01839</td>\n",
       "      <td>undisclosed</td>\n",
       "      <td>NaN</td>\n",
       "      <td>01-07-2014</td>\n",
       "      <td>41250.0</td>\n",
       "    </tr>\n",
       "    <tr>\n",
       "      <th>7</th>\n",
       "      <td>/organization/0ndine-biomedical-inc</td>\n",
       "      <td>Ondine Biomedical Inc.</td>\n",
       "      <td>Biotechnology</td>\n",
       "      <td>operating</td>\n",
       "      <td>CAN</td>\n",
       "      <td>/funding-round/2b9d3ac293d5cdccbecff5c8cb0f327d</td>\n",
       "      <td>seed</td>\n",
       "      <td>NaN</td>\n",
       "      <td>11-09-2009</td>\n",
       "      <td>43360.0</td>\n",
       "    </tr>\n",
       "    <tr>\n",
       "      <th>8</th>\n",
       "      <td>/organization/0ndine-biomedical-inc</td>\n",
       "      <td>Ondine Biomedical Inc.</td>\n",
       "      <td>Biotechnology</td>\n",
       "      <td>operating</td>\n",
       "      <td>CAN</td>\n",
       "      <td>/funding-round/954b9499724b946ad8c396a57a5f3b72</td>\n",
       "      <td>venture</td>\n",
       "      <td>NaN</td>\n",
       "      <td>21-12-2009</td>\n",
       "      <td>719491.0</td>\n",
       "    </tr>\n",
       "    <tr>\n",
       "      <th>...</th>\n",
       "      <td>...</td>\n",
       "      <td>...</td>\n",
       "      <td>...</td>\n",
       "      <td>...</td>\n",
       "      <td>...</td>\n",
       "      <td>...</td>\n",
       "      <td>...</td>\n",
       "      <td>...</td>\n",
       "      <td>...</td>\n",
       "      <td>...</td>\n",
       "    </tr>\n",
       "    <tr>\n",
       "      <th>114942</th>\n",
       "      <td>/organization/zzzzapp-com</td>\n",
       "      <td>Zzzzapp Wireless ltd.</td>\n",
       "      <td>Advertising|Mobile|Web Development|Wireless</td>\n",
       "      <td>operating</td>\n",
       "      <td>HRV</td>\n",
       "      <td>/funding-round/22ef2fafb4d20ac3aa4b86143dbf6c8e</td>\n",
       "      <td>seed</td>\n",
       "      <td>NaN</td>\n",
       "      <td>01-11-2011</td>\n",
       "      <td>7000.0</td>\n",
       "    </tr>\n",
       "    <tr>\n",
       "      <th>114943</th>\n",
       "      <td>/organization/zzzzapp-com</td>\n",
       "      <td>Zzzzapp Wireless ltd.</td>\n",
       "      <td>Advertising|Mobile|Web Development|Wireless</td>\n",
       "      <td>operating</td>\n",
       "      <td>HRV</td>\n",
       "      <td>/funding-round/6ba41360588bc6e3f77e9b50a0ebfafa</td>\n",
       "      <td>seed</td>\n",
       "      <td>NaN</td>\n",
       "      <td>01-08-2013</td>\n",
       "      <td>33149.0</td>\n",
       "    </tr>\n",
       "    <tr>\n",
       "      <th>114944</th>\n",
       "      <td>/organization/zzzzapp-com</td>\n",
       "      <td>Zzzzapp Wireless ltd.</td>\n",
       "      <td>Advertising|Mobile|Web Development|Wireless</td>\n",
       "      <td>operating</td>\n",
       "      <td>HRV</td>\n",
       "      <td>/funding-round/8f6d25b8ee4199e586484d817bceda05</td>\n",
       "      <td>convertible_note</td>\n",
       "      <td>NaN</td>\n",
       "      <td>01-03-2014</td>\n",
       "      <td>41313.0</td>\n",
       "    </tr>\n",
       "    <tr>\n",
       "      <th>114945</th>\n",
       "      <td>/organization/zzzzapp-com</td>\n",
       "      <td>Zzzzapp Wireless ltd.</td>\n",
       "      <td>Advertising|Mobile|Web Development|Wireless</td>\n",
       "      <td>operating</td>\n",
       "      <td>HRV</td>\n",
       "      <td>/funding-round/ff1aa06ed5da186c84f101549035d4ae</td>\n",
       "      <td>seed</td>\n",
       "      <td>NaN</td>\n",
       "      <td>01-05-2013</td>\n",
       "      <td>32842.0</td>\n",
       "    </tr>\n",
       "    <tr>\n",
       "      <th>114947</th>\n",
       "      <td>/organization/ã”asys-2</td>\n",
       "      <td>Ã”asys</td>\n",
       "      <td>Consumer Electronics|Internet of Things|Teleco...</td>\n",
       "      <td>operating</td>\n",
       "      <td>USA</td>\n",
       "      <td>/funding-round/35f09d0794651719b02bbfd859ba9ff5</td>\n",
       "      <td>seed</td>\n",
       "      <td>NaN</td>\n",
       "      <td>01-01-2015</td>\n",
       "      <td>18192.0</td>\n",
       "    </tr>\n",
       "  </tbody>\n",
       "</table>\n",
       "<p>75197 rows × 10 columns</p>\n",
       "</div>"
      ],
      "text/plain": [
       "                                  permalink                    name  \\\n",
       "2                    /organization/-qounter                :Qounter   \n",
       "5            /organization/004-technologies        004 Technologies   \n",
       "6          /organization/01games-technology      01Games Technology   \n",
       "7       /organization/0ndine-biomedical-inc  Ondine Biomedical Inc.   \n",
       "8       /organization/0ndine-biomedical-inc  Ondine Biomedical Inc.   \n",
       "...                                     ...                     ...   \n",
       "114942            /organization/zzzzapp-com   Zzzzapp Wireless ltd.   \n",
       "114943            /organization/zzzzapp-com   Zzzzapp Wireless ltd.   \n",
       "114944            /organization/zzzzapp-com   Zzzzapp Wireless ltd.   \n",
       "114945            /organization/zzzzapp-com   Zzzzapp Wireless ltd.   \n",
       "114947               /organization/ã”asys-2                  Ã”asys   \n",
       "\n",
       "                                            category_list     status  \\\n",
       "2       Application Platforms|Real Time|Social Network...  operating   \n",
       "5                                                Software  operating   \n",
       "6                                                   Games  operating   \n",
       "7                                           Biotechnology  operating   \n",
       "8                                           Biotechnology  operating   \n",
       "...                                                   ...        ...   \n",
       "114942        Advertising|Mobile|Web Development|Wireless  operating   \n",
       "114943        Advertising|Mobile|Web Development|Wireless  operating   \n",
       "114944        Advertising|Mobile|Web Development|Wireless  operating   \n",
       "114945        Advertising|Mobile|Web Development|Wireless  operating   \n",
       "114947  Consumer Electronics|Internet of Things|Teleco...  operating   \n",
       "\n",
       "       country_code                          funding_round_permalink  \\\n",
       "2               USA  /funding-round/b44fbb94153f6cdef13083530bb48030   \n",
       "5               USA  /funding-round/1278dd4e6a37fa4b7d7e06c21b3c1830   \n",
       "6               HKG  /funding-round/7d53696f2b4f607a2f2a8cbb83d01839   \n",
       "7               CAN  /funding-round/2b9d3ac293d5cdccbecff5c8cb0f327d   \n",
       "8               CAN  /funding-round/954b9499724b946ad8c396a57a5f3b72   \n",
       "...             ...                                              ...   \n",
       "114942          HRV  /funding-round/22ef2fafb4d20ac3aa4b86143dbf6c8e   \n",
       "114943          HRV  /funding-round/6ba41360588bc6e3f77e9b50a0ebfafa   \n",
       "114944          HRV  /funding-round/8f6d25b8ee4199e586484d817bceda05   \n",
       "114945          HRV  /funding-round/ff1aa06ed5da186c84f101549035d4ae   \n",
       "114947          USA  /funding-round/35f09d0794651719b02bbfd859ba9ff5   \n",
       "\n",
       "       funding_round_type funding_round_code   funded_at  raised_amount_usd  \n",
       "2                    seed                NaN  01-03-2014           700000.0  \n",
       "5                 venture                NaN  24-07-2014                NaN  \n",
       "6             undisclosed                NaN  01-07-2014            41250.0  \n",
       "7                    seed                NaN  11-09-2009            43360.0  \n",
       "8                 venture                NaN  21-12-2009           719491.0  \n",
       "...                   ...                ...         ...                ...  \n",
       "114942               seed                NaN  01-11-2011             7000.0  \n",
       "114943               seed                NaN  01-08-2013            33149.0  \n",
       "114944   convertible_note                NaN  01-03-2014            41313.0  \n",
       "114945               seed                NaN  01-05-2013            32842.0  \n",
       "114947               seed                NaN  01-01-2015            18192.0  \n",
       "\n",
       "[75197 rows x 10 columns]"
      ]
     },
     "execution_count": 35,
     "metadata": {},
     "output_type": "execute_result"
    }
   ],
   "source": [
    "#Viewing the records which are null values in \"funding_round_code\" column\n",
    "master_frame[master_frame.funding_round_code.isnull()]"
   ]
  },
  {
   "cell_type": "markdown",
   "metadata": {},
   "source": [
    "As we cannot assume the funding round codes or impute `83809` funding round codes for this column we can go ahead and drop these as well as they are of no significant value for the analysis."
   ]
  },
  {
   "cell_type": "code",
   "execution_count": 36,
   "metadata": {},
   "outputs": [],
   "source": [
    "#Dropping the rows having null values in the funding_round_code column\n",
    "master_frame = master_frame[~master_frame.funding_round_code.isnull()]"
   ]
  },
  {
   "cell_type": "code",
   "execution_count": 37,
   "metadata": {},
   "outputs": [
    {
     "data": {
      "text/html": [
       "<div>\n",
       "<style scoped>\n",
       "    .dataframe tbody tr th:only-of-type {\n",
       "        vertical-align: middle;\n",
       "    }\n",
       "\n",
       "    .dataframe tbody tr th {\n",
       "        vertical-align: top;\n",
       "    }\n",
       "\n",
       "    .dataframe thead th {\n",
       "        text-align: right;\n",
       "    }\n",
       "</style>\n",
       "<table border=\"1\" class=\"dataframe\">\n",
       "  <thead>\n",
       "    <tr style=\"text-align: right;\">\n",
       "      <th></th>\n",
       "      <th>permalink</th>\n",
       "      <th>name</th>\n",
       "      <th>category_list</th>\n",
       "      <th>status</th>\n",
       "      <th>country_code</th>\n",
       "      <th>funding_round_permalink</th>\n",
       "      <th>funding_round_type</th>\n",
       "      <th>funding_round_code</th>\n",
       "      <th>funded_at</th>\n",
       "      <th>raised_amount_usd</th>\n",
       "    </tr>\n",
       "  </thead>\n",
       "  <tbody>\n",
       "    <tr>\n",
       "      <th>1</th>\n",
       "      <td>/organization/-qounter</td>\n",
       "      <td>:Qounter</td>\n",
       "      <td>Application Platforms|Real Time|Social Network...</td>\n",
       "      <td>operating</td>\n",
       "      <td>USA</td>\n",
       "      <td>/funding-round/22dacff496eb7acb2b901dec1dfe5633</td>\n",
       "      <td>venture</td>\n",
       "      <td>A</td>\n",
       "      <td>14-10-2014</td>\n",
       "      <td>NaN</td>\n",
       "    </tr>\n",
       "    <tr>\n",
       "      <th>53</th>\n",
       "      <td>/organization/1006-tv</td>\n",
       "      <td>1006.tv</td>\n",
       "      <td>Games|Media</td>\n",
       "      <td>operating</td>\n",
       "      <td>CHN</td>\n",
       "      <td>/funding-round/c4dd206906e8f6834dde0eb9681002ac</td>\n",
       "      <td>venture</td>\n",
       "      <td>A</td>\n",
       "      <td>01-01-2013</td>\n",
       "      <td>NaN</td>\n",
       "    </tr>\n",
       "    <tr>\n",
       "      <th>54</th>\n",
       "      <td>/organization/100du-tv</td>\n",
       "      <td>100du.tv</td>\n",
       "      <td>Hospitality</td>\n",
       "      <td>operating</td>\n",
       "      <td>CHN</td>\n",
       "      <td>/funding-round/46a9d3228f69c036e8076f1362ac58cd</td>\n",
       "      <td>venture</td>\n",
       "      <td>C</td>\n",
       "      <td>13-08-2010</td>\n",
       "      <td>NaN</td>\n",
       "    </tr>\n",
       "    <tr>\n",
       "      <th>117</th>\n",
       "      <td>/organization/139shop</td>\n",
       "      <td>139shop</td>\n",
       "      <td>E-Commerce</td>\n",
       "      <td>operating</td>\n",
       "      <td>CHN</td>\n",
       "      <td>/funding-round/ab94379ae87be8a333b45496f0dcb8e2</td>\n",
       "      <td>venture</td>\n",
       "      <td>A</td>\n",
       "      <td>01-02-2007</td>\n",
       "      <td>NaN</td>\n",
       "    </tr>\n",
       "    <tr>\n",
       "      <th>151</th>\n",
       "      <td>/organization/1bib</td>\n",
       "      <td>1bib</td>\n",
       "      <td>Cars|Curated Web</td>\n",
       "      <td>closed</td>\n",
       "      <td>CHN</td>\n",
       "      <td>/funding-round/db9507d458c110af3916ade1f6140e1a</td>\n",
       "      <td>venture</td>\n",
       "      <td>A</td>\n",
       "      <td>07-02-2008</td>\n",
       "      <td>NaN</td>\n",
       "    </tr>\n",
       "    <tr>\n",
       "      <th>...</th>\n",
       "      <td>...</td>\n",
       "      <td>...</td>\n",
       "      <td>...</td>\n",
       "      <td>...</td>\n",
       "      <td>...</td>\n",
       "      <td>...</td>\n",
       "      <td>...</td>\n",
       "      <td>...</td>\n",
       "      <td>...</td>\n",
       "      <td>...</td>\n",
       "    </tr>\n",
       "    <tr>\n",
       "      <th>114538</th>\n",
       "      <td>/organization/zonbo-media</td>\n",
       "      <td>Zonbo Media</td>\n",
       "      <td>News</td>\n",
       "      <td>operating</td>\n",
       "      <td>CHN</td>\n",
       "      <td>/funding-round/67d0acb57bc55fd19f01d2ba19a0a488</td>\n",
       "      <td>venture</td>\n",
       "      <td>B</td>\n",
       "      <td>01-06-2006</td>\n",
       "      <td>NaN</td>\n",
       "    </tr>\n",
       "    <tr>\n",
       "      <th>114539</th>\n",
       "      <td>/organization/zonbo-media</td>\n",
       "      <td>Zonbo Media</td>\n",
       "      <td>News</td>\n",
       "      <td>operating</td>\n",
       "      <td>CHN</td>\n",
       "      <td>/funding-round/d857aab27f50bc1f0cf2a8ca3bab9004</td>\n",
       "      <td>venture</td>\n",
       "      <td>C</td>\n",
       "      <td>01-03-2007</td>\n",
       "      <td>NaN</td>\n",
       "    </tr>\n",
       "    <tr>\n",
       "      <th>114623</th>\n",
       "      <td>/organization/zoomvy</td>\n",
       "      <td>Zoomvy</td>\n",
       "      <td>E-Commerce|Online Shopping</td>\n",
       "      <td>operating</td>\n",
       "      <td>USA</td>\n",
       "      <td>/funding-round/88756cdd3a8e4cbd7140f024a558df34</td>\n",
       "      <td>venture</td>\n",
       "      <td>A</td>\n",
       "      <td>14-05-2014</td>\n",
       "      <td>NaN</td>\n",
       "    </tr>\n",
       "    <tr>\n",
       "      <th>114662</th>\n",
       "      <td>/organization/zopa</td>\n",
       "      <td>Zopa</td>\n",
       "      <td>Finance|FinTech</td>\n",
       "      <td>operating</td>\n",
       "      <td>GBR</td>\n",
       "      <td>/funding-round/51b67c36a1c7ecfa2bcfeaabc2930257</td>\n",
       "      <td>venture</td>\n",
       "      <td>D</td>\n",
       "      <td>11-12-2012</td>\n",
       "      <td>NaN</td>\n",
       "    </tr>\n",
       "    <tr>\n",
       "      <th>114807</th>\n",
       "      <td>/organization/zup-it-innovation</td>\n",
       "      <td>Zup IT Innovation</td>\n",
       "      <td>Innovation Management|Project Management|Services</td>\n",
       "      <td>operating</td>\n",
       "      <td>BRA</td>\n",
       "      <td>/funding-round/9f145a5b14422f9475070b87421fb3ab</td>\n",
       "      <td>venture</td>\n",
       "      <td>A</td>\n",
       "      <td>27-10-2015</td>\n",
       "      <td>NaN</td>\n",
       "    </tr>\n",
       "  </tbody>\n",
       "</table>\n",
       "<p>2558 rows × 10 columns</p>\n",
       "</div>"
      ],
      "text/plain": [
       "                              permalink               name  \\\n",
       "1                /organization/-qounter           :Qounter   \n",
       "53                /organization/1006-tv            1006.tv   \n",
       "54               /organization/100du-tv           100du.tv   \n",
       "117               /organization/139shop            139shop   \n",
       "151                  /organization/1bib               1bib   \n",
       "...                                 ...                ...   \n",
       "114538        /organization/zonbo-media        Zonbo Media   \n",
       "114539        /organization/zonbo-media        Zonbo Media   \n",
       "114623             /organization/zoomvy             Zoomvy   \n",
       "114662               /organization/zopa               Zopa   \n",
       "114807  /organization/zup-it-innovation  Zup IT Innovation   \n",
       "\n",
       "                                            category_list     status  \\\n",
       "1       Application Platforms|Real Time|Social Network...  operating   \n",
       "53                                            Games|Media  operating   \n",
       "54                                            Hospitality  operating   \n",
       "117                                            E-Commerce  operating   \n",
       "151                                      Cars|Curated Web     closed   \n",
       "...                                                   ...        ...   \n",
       "114538                                               News  operating   \n",
       "114539                                               News  operating   \n",
       "114623                         E-Commerce|Online Shopping  operating   \n",
       "114662                                    Finance|FinTech  operating   \n",
       "114807  Innovation Management|Project Management|Services  operating   \n",
       "\n",
       "       country_code                          funding_round_permalink  \\\n",
       "1               USA  /funding-round/22dacff496eb7acb2b901dec1dfe5633   \n",
       "53              CHN  /funding-round/c4dd206906e8f6834dde0eb9681002ac   \n",
       "54              CHN  /funding-round/46a9d3228f69c036e8076f1362ac58cd   \n",
       "117             CHN  /funding-round/ab94379ae87be8a333b45496f0dcb8e2   \n",
       "151             CHN  /funding-round/db9507d458c110af3916ade1f6140e1a   \n",
       "...             ...                                              ...   \n",
       "114538          CHN  /funding-round/67d0acb57bc55fd19f01d2ba19a0a488   \n",
       "114539          CHN  /funding-round/d857aab27f50bc1f0cf2a8ca3bab9004   \n",
       "114623          USA  /funding-round/88756cdd3a8e4cbd7140f024a558df34   \n",
       "114662          GBR  /funding-round/51b67c36a1c7ecfa2bcfeaabc2930257   \n",
       "114807          BRA  /funding-round/9f145a5b14422f9475070b87421fb3ab   \n",
       "\n",
       "       funding_round_type funding_round_code   funded_at  raised_amount_usd  \n",
       "1                 venture                  A  14-10-2014                NaN  \n",
       "53                venture                  A  01-01-2013                NaN  \n",
       "54                venture                  C  13-08-2010                NaN  \n",
       "117               venture                  A  01-02-2007                NaN  \n",
       "151               venture                  A  07-02-2008                NaN  \n",
       "...                   ...                ...         ...                ...  \n",
       "114538            venture                  B  01-06-2006                NaN  \n",
       "114539            venture                  C  01-03-2007                NaN  \n",
       "114623            venture                  A  14-05-2014                NaN  \n",
       "114662            venture                  D  11-12-2012                NaN  \n",
       "114807            venture                  A  27-10-2015                NaN  \n",
       "\n",
       "[2558 rows x 10 columns]"
      ]
     },
     "execution_count": 37,
     "metadata": {},
     "output_type": "execute_result"
    }
   ],
   "source": [
    "#Viewing the records which are null values in \"raised_amount_usd\" column\n",
    "master_frame[master_frame.raised_amount_usd.isnull()]"
   ]
  },
  {
   "cell_type": "markdown",
   "metadata": {},
   "source": [
    "There are about `16003` observations for this column and as this is our target variable lets see if we can impute the values using mean, median or any such metric"
   ]
  },
  {
   "cell_type": "code",
   "execution_count": 38,
   "metadata": {},
   "outputs": [
    {
     "data": {
      "text/plain": [
       "count    2.677600e+04\n",
       "mean     1.473508e+07\n",
       "std      4.421146e+07\n",
       "min      0.000000e+00\n",
       "25%      3.400000e+06\n",
       "50%      7.500000e+06\n",
       "75%      1.500000e+07\n",
       "max      4.700000e+09\n",
       "Name: raised_amount_usd, dtype: float64"
      ]
     },
     "execution_count": 38,
     "metadata": {},
     "output_type": "execute_result"
    }
   ],
   "source": [
    "#Viewing the Descriptive statistics of \"raised_amount_usd\" column\n",
    "master_frame.raised_amount_usd.describe()"
   ]
  },
  {
   "cell_type": "code",
   "execution_count": 39,
   "metadata": {},
   "outputs": [
    {
     "data": {
      "text/plain": [
       "14735076"
      ]
     },
     "execution_count": 39,
     "metadata": {},
     "output_type": "execute_result"
    }
   ],
   "source": [
    "#Viewing the mean of raised_amount_usd\n",
    "round(master_frame.raised_amount_usd.mean())"
   ]
  },
  {
   "cell_type": "code",
   "execution_count": 40,
   "metadata": {},
   "outputs": [
    {
     "data": {
      "text/plain": [
       "7500000"
      ]
     },
     "execution_count": 40,
     "metadata": {},
     "output_type": "execute_result"
    }
   ],
   "source": [
    "#Viewing the median of raised_amount_usd\n",
    "round(master_frame.raised_amount_usd.median())"
   ]
  },
  {
   "cell_type": "markdown",
   "metadata": {},
   "source": [
    "As we have about `16003` and see a huge difference in both the statistical metrics the best way to deal with this is by dropping those records."
   ]
  },
  {
   "cell_type": "code",
   "execution_count": 41,
   "metadata": {},
   "outputs": [],
   "source": [
    "#Dropping the rows having null values in the raised_amount_usd column\n",
    "master_frame = master_frame[~master_frame.raised_amount_usd.isnull()]"
   ]
  },
  {
   "cell_type": "code",
   "execution_count": 42,
   "metadata": {},
   "outputs": [
    {
     "data": {
      "text/plain": [
       "permalink                  0\n",
       "name                       0\n",
       "category_list              0\n",
       "status                     0\n",
       "country_code               0\n",
       "funding_round_permalink    0\n",
       "funding_round_type         0\n",
       "funding_round_code         0\n",
       "funded_at                  0\n",
       "raised_amount_usd          0\n",
       "dtype: int64"
      ]
     },
     "execution_count": 42,
     "metadata": {},
     "output_type": "execute_result"
    }
   ],
   "source": [
    "#Rechecking all the missing values in master_frame \n",
    "master_frame.isnull().sum()"
   ]
  },
  {
   "cell_type": "code",
   "execution_count": 43,
   "metadata": {},
   "outputs": [
    {
     "data": {
      "text/plain": [
       "permalink                   object\n",
       "name                        object\n",
       "category_list               object\n",
       "status                      object\n",
       "country_code                object\n",
       "funding_round_permalink     object\n",
       "funding_round_type          object\n",
       "funding_round_code          object\n",
       "funded_at                   object\n",
       "raised_amount_usd          float64\n",
       "dtype: object"
      ]
     },
     "execution_count": 43,
     "metadata": {},
     "output_type": "execute_result"
    }
   ],
   "source": [
    "#Rechecking all the data types in master_frame\n",
    "master_frame.dtypes"
   ]
  },
  {
   "cell_type": "code",
   "execution_count": 44,
   "metadata": {},
   "outputs": [],
   "source": [
    "#converting \"funded_at\" to datatime dtype\n",
    "master_frame.funded_at = master_frame.funded_at.astype('datetime64[ns]')"
   ]
  },
  {
   "cell_type": "code",
   "execution_count": 45,
   "metadata": {},
   "outputs": [
    {
     "data": {
      "text/plain": [
       "permalink                          object\n",
       "name                               object\n",
       "category_list                      object\n",
       "status                             object\n",
       "country_code                       object\n",
       "funding_round_permalink            object\n",
       "funding_round_type                 object\n",
       "funding_round_code                 object\n",
       "funded_at                  datetime64[ns]\n",
       "raised_amount_usd                 float64\n",
       "dtype: object"
      ]
     },
     "execution_count": 45,
     "metadata": {},
     "output_type": "execute_result"
    }
   ],
   "source": [
    "#Rechecking all the data types in master_frame\n",
    "master_frame.dtypes"
   ]
  },
  {
   "cell_type": "markdown",
   "metadata": {},
   "source": [
    "As we have cleaned our data and dealt with all the missing values and other anomalies we can proceed with the analysis."
   ]
  },
  {
   "cell_type": "markdown",
   "metadata": {},
   "source": [
    "## <u>Investment Data Analysis</u>"
   ]
  },
  {
   "cell_type": "markdown",
   "metadata": {},
   "source": [
    "### ‣ Funding Type Analysis\n",
    "\n",
    "\n",
    " - The funding types such as seed, venture, angel, etc. depend on the type of the company (startup, corporate, etc.), its stage (early stage startup, funded startup, etc.), the amount of funding (a few million USD to a billion USD)\n",
    " \n",
    " - Seed/angel funding refer to early stage startups whereas venture funding occurs after seed or angel stage/s and involves a relatively higher amount of investment.\n",
    " \n",
    " - Private equity type investments are associated with much larger companies and involve much higher investments than venture type. Startups which have grown in scale may also receive private equity funding. This means that if a company has reached the venture stage, it would have already passed through the angel or seed stage/s.\n",
    " \n",
    " "
   ]
  },
  {
   "cell_type": "markdown",
   "metadata": {},
   "source": [
    "#### Objectives of Funding Type Analysis:\n",
    "\n",
    "1) Calculate the most representative value of the investment amount for each of the four funding types:\n",
    "  - venture \n",
    "  - angel\n",
    "  - seed\n",
    "  - private equity\n",
    "\n",
    "2) Based on the most representative investment amount calculated above, which investment type is the most suitable for Spark Funds keeping in mind the first constraint where Sparks funds wants to invest between 5 to 15 million USD per round of investment "
   ]
  },
  {
   "cell_type": "markdown",
   "metadata": {},
   "source": [
    "#### First we need to filter the data so it only contains the selected investment type."
   ]
  },
  {
   "cell_type": "code",
   "execution_count": 46,
   "metadata": {},
   "outputs": [
    {
     "data": {
      "text/plain": [
       "venture             26658\n",
       "seed                   82\n",
       "angel                  16\n",
       "undisclosed             6\n",
       "convertible_note        5\n",
       "debt_financing          4\n",
       "private_equity          4\n",
       "post_ipo_equity         1\n",
       "Name: funding_round_type, dtype: int64"
      ]
     },
     "execution_count": 46,
     "metadata": {},
     "output_type": "execute_result"
    }
   ],
   "source": [
    "# Checking the types of funding \n",
    "master_frame.funding_round_type.value_counts()"
   ]
  },
  {
   "cell_type": "code",
   "execution_count": 47,
   "metadata": {},
   "outputs": [
    {
     "data": {
      "text/plain": [
       "count    2.677600e+04\n",
       "mean     1.473508e+07\n",
       "std      4.421146e+07\n",
       "min      0.000000e+00\n",
       "25%      3.400000e+06\n",
       "50%      7.500000e+06\n",
       "75%      1.500000e+07\n",
       "max      4.700000e+09\n",
       "Name: raised_amount_usd, dtype: float64"
      ]
     },
     "execution_count": 47,
     "metadata": {},
     "output_type": "execute_result"
    }
   ],
   "source": [
    "#Checking the statistical summary of the raised amount\n",
    "master_frame.raised_amount_usd.describe()"
   ]
  },
  {
   "cell_type": "markdown",
   "metadata": {},
   "source": [
    "##### Filtering by venture, angel, seed, and private equity funding types"
   ]
  },
  {
   "cell_type": "code",
   "execution_count": 48,
   "metadata": {},
   "outputs": [],
   "source": [
    "master_frame_alltype = master_frame[master_frame['funding_round_type'].isin(['seed',\n",
    "                                                                     'angel',\n",
    "                                                                     'venture',\n",
    "                                                                     'private_equity'])]\n",
    "funding_type_filter = master_frame_alltype.groupby('funding_round_type')"
   ]
  },
  {
   "cell_type": "code",
   "execution_count": 49,
   "metadata": {},
   "outputs": [
    {
     "data": {
      "image/png": "[encoded data removed]",
      "text/plain": [
       "<Figure size 1296x504 with 3 Axes>"
      ]
     },
     "metadata": {
      "needs_background": "light"
     },
     "output_type": "display_data"
    }
   ],
   "source": [
    "plt.figure(figsize=(18, 7))\n",
    "\n",
    "# Plot 1: Total number of Investments \n",
    "plt.subplot(1, 3, 1)\n",
    "axcs = sns.countplot(x=\"funding_round_type\", data=master_frame_alltype,)\n",
    "for p in axcs.patches:\n",
    "    axcs.annotate(format(p.get_height(), '.2f'), (p.get_x() + p.get_width() / 2., p.get_height()), ha = 'center', va = 'center', xytext = (0, 10), textcoords = 'offset points')\n",
    "plt.title(\"Total number of investments\", weight ='bold')\n",
    "\n",
    "# Plot 2: Mean\n",
    "plt.subplot(1, 3, 2)\n",
    "sns.barplot(y='raised_amount_usd', x=\"funding_round_type\", data=master_frame_alltype, estimator=np.mean)\n",
    "plt.title(\"Mean\", weight ='bold')\n",
    "plt.axhline(y=5000000, linewidth=1, color = 'black', ls='--')\n",
    "plt.axhline(y=15000000, linewidth=1, color = 'black', ls='--')\n",
    "\n",
    "# Plot 3: Median\n",
    "plt.subplot(1, 3, 3)\n",
    "sns.barplot(x='funding_round_type', y='raised_amount_usd', data=master_frame_alltype, estimator=np.median)\n",
    "plt.title(\"Median\", weight ='bold')\n",
    "plt.axhline(y=5000000, linewidth=1, color = 'black', ls='--')\n",
    "plt.axhline(y=15000000, linewidth=1, color = 'black', ls='--')\n",
    "\n",
    "plt.show()"
   ]
  },
  {
   "cell_type": "markdown",
   "metadata": {},
   "source": [
    "We see that most investments are made in the **`Venture`** funding type with about **`26658`** investments."
   ]
  },
  {
   "cell_type": "code",
   "execution_count": 50,
   "metadata": {
    "scrolled": false
   },
   "outputs": [
    {
     "data": {
      "text/plain": [
       "funding_round_type\n",
       "private_equity    35225293.0\n",
       "venture           14778214.0\n",
       "seed               3490743.0\n",
       "angel              1812189.0\n",
       "Name: raised_amount_usd, dtype: float64"
      ]
     },
     "execution_count": 50,
     "metadata": {},
     "output_type": "execute_result"
    }
   ],
   "source": [
    "#Finding mean values of selected funding types\n",
    "round(funding_type_filter['raised_amount_usd'].mean().sort_values(ascending = False))"
   ]
  },
  {
   "cell_type": "code",
   "execution_count": 51,
   "metadata": {
    "scrolled": true
   },
   "outputs": [
    {
     "data": {
      "text/plain": [
       "funding_round_type\n",
       "private_equity    33000000.0\n",
       "venture            7500000.0\n",
       "seed               2000000.0\n",
       "angel              1353460.0\n",
       "Name: raised_amount_usd, dtype: float64"
      ]
     },
     "execution_count": 51,
     "metadata": {},
     "output_type": "execute_result"
    }
   ],
   "source": [
    "#Finding median values of selected funding types\n",
    "round(funding_type_filter['raised_amount_usd'].median().sort_values(ascending = False))"
   ]
  },
  {
   "cell_type": "markdown",
   "metadata": {},
   "source": [
    "##### Mean value of Venture funding type = 14 million (estimate)\n",
    "##### Median value of Venture funding type = 7 million (estimate)"
   ]
  },
  {
   "cell_type": "markdown",
   "metadata": {},
   "source": [
    "*We observe that **`Median`** is the most representative value of the investment amount and **`Venture`** funding investment type is the most suitable as it is around **`Seven million`** and it satisfies the constraints of investing between 5 to 15 million USD per round of investment and also the business requirement of investing where most number of investments are made*"
   ]
  },
  {
   "cell_type": "markdown",
   "metadata": {},
   "source": [
    "### ‣ Country Type Analysis"
   ]
  },
  {
   "cell_type": "markdown",
   "metadata": {},
   "source": [
    "Spark Funds wants to invest in countries with the highest amount of funding for the chosen investment type. This is a part of its broader strategy to invest where most investments are occurring.  Spark Funds wants to see the top nine countries which have received the highest total funding (across ALL sectors for the chosen investment type)\n"
   ]
  },
  {
   "cell_type": "markdown",
   "metadata": {},
   "source": [
    "\n",
    "Hence For the chosen investment type, Lets make a data frame named top9 with the top nine countries (based on the total investment amount each country has received)"
   ]
  },
  {
   "cell_type": "markdown",
   "metadata": {},
   "source": [
    "##### Lets filter the data so that it only contains the data for the investment type \"venture\""
   ]
  },
  {
   "cell_type": "code",
   "execution_count": 52,
   "metadata": {},
   "outputs": [
    {
     "data": {
      "text/html": [
       "<div>\n",
       "<style scoped>\n",
       "    .dataframe tbody tr th:only-of-type {\n",
       "        vertical-align: middle;\n",
       "    }\n",
       "\n",
       "    .dataframe tbody tr th {\n",
       "        vertical-align: top;\n",
       "    }\n",
       "\n",
       "    .dataframe thead th {\n",
       "        text-align: right;\n",
       "    }\n",
       "</style>\n",
       "<table border=\"1\" class=\"dataframe\">\n",
       "  <thead>\n",
       "    <tr style=\"text-align: right;\">\n",
       "      <th></th>\n",
       "      <th>permalink</th>\n",
       "      <th>name</th>\n",
       "      <th>category_list</th>\n",
       "      <th>status</th>\n",
       "      <th>country_code</th>\n",
       "      <th>funding_round_permalink</th>\n",
       "      <th>funding_round_type</th>\n",
       "      <th>funding_round_code</th>\n",
       "      <th>funded_at</th>\n",
       "      <th>raised_amount_usd</th>\n",
       "    </tr>\n",
       "  </thead>\n",
       "  <tbody>\n",
       "    <tr>\n",
       "      <th>0</th>\n",
       "      <td>/organization/-fame</td>\n",
       "      <td>#fame</td>\n",
       "      <td>Media</td>\n",
       "      <td>operating</td>\n",
       "      <td>IND</td>\n",
       "      <td>/funding-round/9a01d05418af9f794eebff7ace91f638</td>\n",
       "      <td>venture</td>\n",
       "      <td>B</td>\n",
       "      <td>2015-05-01</td>\n",
       "      <td>10000000.0</td>\n",
       "    </tr>\n",
       "    <tr>\n",
       "      <th>4</th>\n",
       "      <td>/organization/0-6-com</td>\n",
       "      <td>0-6.com</td>\n",
       "      <td>Curated Web</td>\n",
       "      <td>operating</td>\n",
       "      <td>CHN</td>\n",
       "      <td>/funding-round/5727accaeaa57461bd22a9bdd945382d</td>\n",
       "      <td>venture</td>\n",
       "      <td>A</td>\n",
       "      <td>2008-03-19</td>\n",
       "      <td>2000000.0</td>\n",
       "    </tr>\n",
       "    <tr>\n",
       "      <th>10</th>\n",
       "      <td>/organization/0xdata</td>\n",
       "      <td>H2O.ai</td>\n",
       "      <td>Analytics</td>\n",
       "      <td>operating</td>\n",
       "      <td>USA</td>\n",
       "      <td>/funding-round/3bb2ee4a2d89251a10aaa735b1180e44</td>\n",
       "      <td>venture</td>\n",
       "      <td>B</td>\n",
       "      <td>2015-09-11</td>\n",
       "      <td>20000000.0</td>\n",
       "    </tr>\n",
       "    <tr>\n",
       "      <th>12</th>\n",
       "      <td>/organization/0xdata</td>\n",
       "      <td>H2O.ai</td>\n",
       "      <td>Analytics</td>\n",
       "      <td>operating</td>\n",
       "      <td>USA</td>\n",
       "      <td>/funding-round/e1cfcbe1bdf4c70277c5f29a3482f24e</td>\n",
       "      <td>venture</td>\n",
       "      <td>A</td>\n",
       "      <td>2014-07-19</td>\n",
       "      <td>8900000.0</td>\n",
       "    </tr>\n",
       "    <tr>\n",
       "      <th>28</th>\n",
       "      <td>/organization/10-minutes-with</td>\n",
       "      <td>10 Minutes With</td>\n",
       "      <td>Education</td>\n",
       "      <td>operating</td>\n",
       "      <td>GBR</td>\n",
       "      <td>/funding-round/0faccbbcc5818dc5326469f13f5a8ac8</td>\n",
       "      <td>venture</td>\n",
       "      <td>A</td>\n",
       "      <td>2014-09-10</td>\n",
       "      <td>4000000.0</td>\n",
       "    </tr>\n",
       "  </tbody>\n",
       "</table>\n",
       "</div>"
      ],
      "text/plain": [
       "                        permalink             name category_list     status  \\\n",
       "0             /organization/-fame            #fame         Media  operating   \n",
       "4           /organization/0-6-com          0-6.com   Curated Web  operating   \n",
       "10           /organization/0xdata           H2O.ai     Analytics  operating   \n",
       "12           /organization/0xdata           H2O.ai     Analytics  operating   \n",
       "28  /organization/10-minutes-with  10 Minutes With     Education  operating   \n",
       "\n",
       "   country_code                          funding_round_permalink  \\\n",
       "0           IND  /funding-round/9a01d05418af9f794eebff7ace91f638   \n",
       "4           CHN  /funding-round/5727accaeaa57461bd22a9bdd945382d   \n",
       "10          USA  /funding-round/3bb2ee4a2d89251a10aaa735b1180e44   \n",
       "12          USA  /funding-round/e1cfcbe1bdf4c70277c5f29a3482f24e   \n",
       "28          GBR  /funding-round/0faccbbcc5818dc5326469f13f5a8ac8   \n",
       "\n",
       "   funding_round_type funding_round_code  funded_at  raised_amount_usd  \n",
       "0             venture                  B 2015-05-01         10000000.0  \n",
       "4             venture                  A 2008-03-19          2000000.0  \n",
       "10            venture                  B 2015-09-11         20000000.0  \n",
       "12            venture                  A 2014-07-19          8900000.0  \n",
       "28            venture                  A 2014-09-10          4000000.0  "
      ]
     },
     "execution_count": 52,
     "metadata": {},
     "output_type": "execute_result"
    }
   ],
   "source": [
    "master_frame =  master_frame[master_frame.funding_round_type==\"venture\"]\n",
    "master_frame.head()"
   ]
  },
  {
   "cell_type": "code",
   "execution_count": 53,
   "metadata": {},
   "outputs": [
    {
     "data": {
      "text/plain": [
       "country_code\n",
       "USA    2.938900e+11\n",
       "CHN    3.374326e+10\n",
       "GBR    1.271288e+10\n",
       "IND    1.033477e+10\n",
       "CAN    6.158663e+09\n",
       "ISR    5.168712e+09\n",
       "FRA    4.763956e+09\n",
       "DEU    4.675268e+09\n",
       "SWE    2.350291e+09\n",
       "Name: raised_amount_usd, dtype: float64"
      ]
     },
     "execution_count": 53,
     "metadata": {},
     "output_type": "execute_result"
    }
   ],
   "source": [
    "master_frame.groupby('country_code')['raised_amount_usd'].sum().sort_values(ascending=False).head(9)"
   ]
  },
  {
   "cell_type": "markdown",
   "metadata": {},
   "source": [
    "Lets now create a new data frame called `top9` with the list of `top 9 countries` with the highest raised amount"
   ]
  },
  {
   "cell_type": "code",
   "execution_count": 54,
   "metadata": {},
   "outputs": [],
   "source": [
    "top9 = master_frame[master_frame['country_code'].isin([\"USA\",\"CHN\",\"GBR\",\"IND\",\"CAN\",\"ISR\",\"FRA\",\"DEU\",\"SWE\"])]"
   ]
  },
  {
   "cell_type": "markdown",
   "metadata": {},
   "source": [
    "We see that `United states of America - USA`, `GBR - United Kingdom` and `India -IND` are the top 3 countries where English is an official language."
   ]
  },
  {
   "cell_type": "code",
   "execution_count": 55,
   "metadata": {},
   "outputs": [
    {
     "data": {
      "text/html": [
       "<div>\n",
       "<style scoped>\n",
       "    .dataframe tbody tr th:only-of-type {\n",
       "        vertical-align: middle;\n",
       "    }\n",
       "\n",
       "    .dataframe tbody tr th {\n",
       "        vertical-align: top;\n",
       "    }\n",
       "\n",
       "    .dataframe thead th {\n",
       "        text-align: right;\n",
       "    }\n",
       "</style>\n",
       "<table border=\"1\" class=\"dataframe\">\n",
       "  <thead>\n",
       "    <tr style=\"text-align: right;\">\n",
       "      <th></th>\n",
       "      <th>permalink</th>\n",
       "      <th>name</th>\n",
       "      <th>category_list</th>\n",
       "      <th>status</th>\n",
       "      <th>country_code</th>\n",
       "      <th>funding_round_permalink</th>\n",
       "      <th>funding_round_type</th>\n",
       "      <th>funding_round_code</th>\n",
       "      <th>funded_at</th>\n",
       "      <th>raised_amount_usd</th>\n",
       "    </tr>\n",
       "  </thead>\n",
       "  <tbody>\n",
       "    <tr>\n",
       "      <th>0</th>\n",
       "      <td>/organization/-fame</td>\n",
       "      <td>#fame</td>\n",
       "      <td>Media</td>\n",
       "      <td>operating</td>\n",
       "      <td>IND</td>\n",
       "      <td>/funding-round/9a01d05418af9f794eebff7ace91f638</td>\n",
       "      <td>venture</td>\n",
       "      <td>B</td>\n",
       "      <td>2015-05-01</td>\n",
       "      <td>10000000.0</td>\n",
       "    </tr>\n",
       "    <tr>\n",
       "      <th>10</th>\n",
       "      <td>/organization/0xdata</td>\n",
       "      <td>H2O.ai</td>\n",
       "      <td>Analytics</td>\n",
       "      <td>operating</td>\n",
       "      <td>USA</td>\n",
       "      <td>/funding-round/3bb2ee4a2d89251a10aaa735b1180e44</td>\n",
       "      <td>venture</td>\n",
       "      <td>B</td>\n",
       "      <td>2015-09-11</td>\n",
       "      <td>20000000.0</td>\n",
       "    </tr>\n",
       "    <tr>\n",
       "      <th>12</th>\n",
       "      <td>/organization/0xdata</td>\n",
       "      <td>H2O.ai</td>\n",
       "      <td>Analytics</td>\n",
       "      <td>operating</td>\n",
       "      <td>USA</td>\n",
       "      <td>/funding-round/e1cfcbe1bdf4c70277c5f29a3482f24e</td>\n",
       "      <td>venture</td>\n",
       "      <td>A</td>\n",
       "      <td>2014-07-19</td>\n",
       "      <td>8900000.0</td>\n",
       "    </tr>\n",
       "    <tr>\n",
       "      <th>28</th>\n",
       "      <td>/organization/10-minutes-with</td>\n",
       "      <td>10 Minutes With</td>\n",
       "      <td>Education</td>\n",
       "      <td>operating</td>\n",
       "      <td>GBR</td>\n",
       "      <td>/funding-round/0faccbbcc5818dc5326469f13f5a8ac8</td>\n",
       "      <td>venture</td>\n",
       "      <td>A</td>\n",
       "      <td>2014-09-10</td>\n",
       "      <td>4000000.0</td>\n",
       "    </tr>\n",
       "    <tr>\n",
       "      <th>34</th>\n",
       "      <td>/organization/1000memories</td>\n",
       "      <td>1000memories</td>\n",
       "      <td>Curated Web</td>\n",
       "      <td>acquired</td>\n",
       "      <td>USA</td>\n",
       "      <td>/funding-round/502bd0e50c27616995e4bdad24605ef8</td>\n",
       "      <td>venture</td>\n",
       "      <td>A</td>\n",
       "      <td>2011-02-16</td>\n",
       "      <td>2520000.0</td>\n",
       "    </tr>\n",
       "  </tbody>\n",
       "</table>\n",
       "</div>"
      ],
      "text/plain": [
       "                        permalink             name category_list     status  \\\n",
       "0             /organization/-fame            #fame         Media  operating   \n",
       "10           /organization/0xdata           H2O.ai     Analytics  operating   \n",
       "12           /organization/0xdata           H2O.ai     Analytics  operating   \n",
       "28  /organization/10-minutes-with  10 Minutes With     Education  operating   \n",
       "34     /organization/1000memories     1000memories   Curated Web   acquired   \n",
       "\n",
       "   country_code                          funding_round_permalink  \\\n",
       "0           IND  /funding-round/9a01d05418af9f794eebff7ace91f638   \n",
       "10          USA  /funding-round/3bb2ee4a2d89251a10aaa735b1180e44   \n",
       "12          USA  /funding-round/e1cfcbe1bdf4c70277c5f29a3482f24e   \n",
       "28          GBR  /funding-round/0faccbbcc5818dc5326469f13f5a8ac8   \n",
       "34          USA  /funding-round/502bd0e50c27616995e4bdad24605ef8   \n",
       "\n",
       "   funding_round_type funding_round_code  funded_at  raised_amount_usd  \n",
       "0             venture                  B 2015-05-01         10000000.0  \n",
       "10            venture                  B 2015-09-11         20000000.0  \n",
       "12            venture                  A 2014-07-19          8900000.0  \n",
       "28            venture                  A 2014-09-10          4000000.0  \n",
       "34            venture                  A 2011-02-16          2520000.0  "
      ]
     },
     "execution_count": 55,
     "metadata": {},
     "output_type": "execute_result"
    }
   ],
   "source": [
    "# filtering for the top three countries\n",
    "top3 = master_frame[master_frame['country_code'].isin(['USA','GBR','IND'])]\n",
    "top3.head()"
   ]
  },
  {
   "cell_type": "code",
   "execution_count": 56,
   "metadata": {},
   "outputs": [
    {
     "data": {
      "image/png": "[encoded data removed]",
      "text/plain": [
       "<Figure size 1440x288 with 1 Axes>"
      ]
     },
     "metadata": {
      "needs_background": "light"
     },
     "output_type": "display_data"
    },
    {
     "data": {
      "image/png": "[encoded data removed]",
      "text/plain": [
       "<Figure size 1440x288 with 1 Axes>"
      ]
     },
     "metadata": {
      "needs_background": "light"
     },
     "output_type": "display_data"
    }
   ],
   "source": [
    "plt.figure(figsize=(20, 4))\n",
    "\n",
    "# barplot to see distributions of funding amount across top 3 english speaking countries\n",
    "plt.subplot(1, 2, 1)\n",
    "sns.barplot(x='country_code', y='raised_amount_usd', data=top3)\n",
    "plt.title('Funding distribution - top 3 countries', weight=\"bold\")\n",
    "plt.show()\n",
    "\n",
    "plt.figure(figsize=(20, 4))\n",
    "# countplot to see number of investments across top 3 english speaking countries\n",
    "plt.subplot(1, 2, 2)\n",
    "sns.countplot(\"country_code\", data=top3)\n",
    "plt.title('Number of investments - top 3 countries', weight=\"bold\")\n",
    "plt.show()"
   ]
  },
  {
   "cell_type": "markdown",
   "metadata": {},
   "source": [
    "We observe that across the top 3 english speaking countries, `India -IND` raised more amount and `USA` made more investments."
   ]
  },
  {
   "cell_type": "markdown",
   "metadata": {},
   "source": [
    "### ‣ Sector Type Analysis"
   ]
  },
  {
   "cell_type": "markdown",
   "metadata": {},
   "source": [
    "When we say sector analysis, we refer to one of the eight main sectors (named main_sector) listed in the mapping file (note that ‘Other’ is one of the eight main sectors). This is to simplify the analysis by grouping the numerous category lists (named ‘category_list’) in the mapping file. For example, in the mapping file, category_lists such as ‘3D’, ‘3D Printing’, ‘3D Technology’, etc. are mapped to the main sector ‘Manufacturing’.\n",
    "\n",
    "\n",
    "Also, for some companies, the category list is a list of multiple sub-sectors separated by a pipe (vertical bar |). For example, one of the companies’ category_list is Application Platforms|Real Time|Social Network Media.\n",
    "\n",
    " \n",
    "We discuss with the CEO and come up with the business rule that the first string before the vertical bar will be considered the primary sector. In the example above, ‘Application Platforms’ will be considered the primary sector."
   ]
  },
  {
   "cell_type": "markdown",
   "metadata": {},
   "source": [
    "##### Reading the mapping.csv file"
   ]
  },
  {
   "cell_type": "code",
   "execution_count": 57,
   "metadata": {},
   "outputs": [
    {
     "data": {
      "text/html": [
       "<div>\n",
       "<style scoped>\n",
       "    .dataframe tbody tr th:only-of-type {\n",
       "        vertical-align: middle;\n",
       "    }\n",
       "\n",
       "    .dataframe tbody tr th {\n",
       "        vertical-align: top;\n",
       "    }\n",
       "\n",
       "    .dataframe thead th {\n",
       "        text-align: right;\n",
       "    }\n",
       "</style>\n",
       "<table border=\"1\" class=\"dataframe\">\n",
       "  <thead>\n",
       "    <tr style=\"text-align: right;\">\n",
       "      <th></th>\n",
       "      <th>category_list</th>\n",
       "      <th>Automotive &amp; Sports</th>\n",
       "      <th>Blanks</th>\n",
       "      <th>Cleantech / Semiconductors</th>\n",
       "      <th>Entertainment</th>\n",
       "      <th>Health</th>\n",
       "      <th>Manufacturing</th>\n",
       "      <th>News, Search and Messaging</th>\n",
       "      <th>Others</th>\n",
       "      <th>Social, Finance, Analytics, Advertising</th>\n",
       "    </tr>\n",
       "  </thead>\n",
       "  <tbody>\n",
       "    <tr>\n",
       "      <th>0</th>\n",
       "      <td>NaN</td>\n",
       "      <td>0</td>\n",
       "      <td>1</td>\n",
       "      <td>0</td>\n",
       "      <td>0</td>\n",
       "      <td>0</td>\n",
       "      <td>0</td>\n",
       "      <td>0</td>\n",
       "      <td>0</td>\n",
       "      <td>0</td>\n",
       "    </tr>\n",
       "    <tr>\n",
       "      <th>1</th>\n",
       "      <td>3D</td>\n",
       "      <td>0</td>\n",
       "      <td>0</td>\n",
       "      <td>0</td>\n",
       "      <td>0</td>\n",
       "      <td>0</td>\n",
       "      <td>1</td>\n",
       "      <td>0</td>\n",
       "      <td>0</td>\n",
       "      <td>0</td>\n",
       "    </tr>\n",
       "    <tr>\n",
       "      <th>2</th>\n",
       "      <td>3D Printing</td>\n",
       "      <td>0</td>\n",
       "      <td>0</td>\n",
       "      <td>0</td>\n",
       "      <td>0</td>\n",
       "      <td>0</td>\n",
       "      <td>1</td>\n",
       "      <td>0</td>\n",
       "      <td>0</td>\n",
       "      <td>0</td>\n",
       "    </tr>\n",
       "    <tr>\n",
       "      <th>3</th>\n",
       "      <td>3D Technology</td>\n",
       "      <td>0</td>\n",
       "      <td>0</td>\n",
       "      <td>0</td>\n",
       "      <td>0</td>\n",
       "      <td>0</td>\n",
       "      <td>1</td>\n",
       "      <td>0</td>\n",
       "      <td>0</td>\n",
       "      <td>0</td>\n",
       "    </tr>\n",
       "    <tr>\n",
       "      <th>4</th>\n",
       "      <td>Accounting</td>\n",
       "      <td>0</td>\n",
       "      <td>0</td>\n",
       "      <td>0</td>\n",
       "      <td>0</td>\n",
       "      <td>0</td>\n",
       "      <td>0</td>\n",
       "      <td>0</td>\n",
       "      <td>0</td>\n",
       "      <td>1</td>\n",
       "    </tr>\n",
       "  </tbody>\n",
       "</table>\n",
       "</div>"
      ],
      "text/plain": [
       "   category_list  Automotive & Sports  Blanks  Cleantech / Semiconductors  \\\n",
       "0            NaN                    0       1                           0   \n",
       "1             3D                    0       0                           0   \n",
       "2    3D Printing                    0       0                           0   \n",
       "3  3D Technology                    0       0                           0   \n",
       "4     Accounting                    0       0                           0   \n",
       "\n",
       "   Entertainment  Health  Manufacturing  News, Search and Messaging  Others  \\\n",
       "0              0       0              0                           0       0   \n",
       "1              0       0              1                           0       0   \n",
       "2              0       0              1                           0       0   \n",
       "3              0       0              1                           0       0   \n",
       "4              0       0              0                           0       0   \n",
       "\n",
       "   Social, Finance, Analytics, Advertising  \n",
       "0                                        0  \n",
       "1                                        0  \n",
       "2                                        0  \n",
       "3                                        0  \n",
       "4                                        1  "
      ]
     },
     "execution_count": 57,
     "metadata": {},
     "output_type": "execute_result"
    }
   ],
   "source": [
    "mapping = pd.read_csv('mapping.csv')\n",
    "mapping.head()"
   ]
  },
  {
   "cell_type": "code",
   "execution_count": 58,
   "metadata": {},
   "outputs": [
    {
     "data": {
      "text/plain": [
       "category_list                              object\n",
       "Automotive & Sports                         int64\n",
       "Blanks                                      int64\n",
       "Cleantech / Semiconductors                  int64\n",
       "Entertainment                               int64\n",
       "Health                                      int64\n",
       "Manufacturing                               int64\n",
       "News, Search and Messaging                  int64\n",
       "Others                                      int64\n",
       "Social, Finance, Analytics, Advertising     int64\n",
       "dtype: object"
      ]
     },
     "execution_count": 58,
     "metadata": {},
     "output_type": "execute_result"
    }
   ],
   "source": [
    "#Checking the datatypes\n",
    "mapping.dtypes"
   ]
  },
  {
   "cell_type": "code",
   "execution_count": 59,
   "metadata": {},
   "outputs": [
    {
     "name": "stdout",
     "output_type": "stream",
     "text": [
      "<class 'pandas.core.frame.DataFrame'>\n",
      "RangeIndex: 688 entries, 0 to 687\n",
      "Data columns (total 10 columns):\n",
      " #   Column                                   Non-Null Count  Dtype \n",
      "---  ------                                   --------------  ----- \n",
      " 0   category_list                            687 non-null    object\n",
      " 1   Automotive & Sports                      688 non-null    int64 \n",
      " 2   Blanks                                   688 non-null    int64 \n",
      " 3   Cleantech / Semiconductors               688 non-null    int64 \n",
      " 4   Entertainment                            688 non-null    int64 \n",
      " 5   Health                                   688 non-null    int64 \n",
      " 6   Manufacturing                            688 non-null    int64 \n",
      " 7   News, Search and Messaging               688 non-null    int64 \n",
      " 8   Others                                   688 non-null    int64 \n",
      " 9   Social, Finance, Analytics, Advertising  688 non-null    int64 \n",
      "dtypes: int64(9), object(1)\n",
      "memory usage: 53.9+ KB\n"
     ]
    }
   ],
   "source": [
    "#checking the information\n",
    "mapping.info()"
   ]
  },
  {
   "cell_type": "markdown",
   "metadata": {},
   "source": [
    "We see that there are 7 main categories excluding `Others` and `Blank data`"
   ]
  },
  {
   "cell_type": "markdown",
   "metadata": {},
   "source": [
    "##### Splitting items in category list which is list of multiple sub-sectors separated by a pipe (\"|\")"
   ]
  },
  {
   "cell_type": "code",
   "execution_count": 60,
   "metadata": {},
   "outputs": [
    {
     "data": {
      "text/html": [
       "<div>\n",
       "<style scoped>\n",
       "    .dataframe tbody tr th:only-of-type {\n",
       "        vertical-align: middle;\n",
       "    }\n",
       "\n",
       "    .dataframe tbody tr th {\n",
       "        vertical-align: top;\n",
       "    }\n",
       "\n",
       "    .dataframe thead th {\n",
       "        text-align: right;\n",
       "    }\n",
       "</style>\n",
       "<table border=\"1\" class=\"dataframe\">\n",
       "  <thead>\n",
       "    <tr style=\"text-align: right;\">\n",
       "      <th></th>\n",
       "      <th>permalink</th>\n",
       "      <th>name</th>\n",
       "      <th>category_list</th>\n",
       "      <th>status</th>\n",
       "      <th>country_code</th>\n",
       "      <th>funding_round_permalink</th>\n",
       "      <th>funding_round_type</th>\n",
       "      <th>funding_round_code</th>\n",
       "      <th>funded_at</th>\n",
       "      <th>raised_amount_usd</th>\n",
       "    </tr>\n",
       "  </thead>\n",
       "  <tbody>\n",
       "    <tr>\n",
       "      <th>0</th>\n",
       "      <td>/organization/-fame</td>\n",
       "      <td>#fame</td>\n",
       "      <td>Media</td>\n",
       "      <td>operating</td>\n",
       "      <td>IND</td>\n",
       "      <td>/funding-round/9a01d05418af9f794eebff7ace91f638</td>\n",
       "      <td>venture</td>\n",
       "      <td>B</td>\n",
       "      <td>2015-05-01</td>\n",
       "      <td>10000000.0</td>\n",
       "    </tr>\n",
       "    <tr>\n",
       "      <th>4</th>\n",
       "      <td>/organization/0-6-com</td>\n",
       "      <td>0-6.com</td>\n",
       "      <td>Curated Web</td>\n",
       "      <td>operating</td>\n",
       "      <td>CHN</td>\n",
       "      <td>/funding-round/5727accaeaa57461bd22a9bdd945382d</td>\n",
       "      <td>venture</td>\n",
       "      <td>A</td>\n",
       "      <td>2008-03-19</td>\n",
       "      <td>2000000.0</td>\n",
       "    </tr>\n",
       "    <tr>\n",
       "      <th>10</th>\n",
       "      <td>/organization/0xdata</td>\n",
       "      <td>H2O.ai</td>\n",
       "      <td>Analytics</td>\n",
       "      <td>operating</td>\n",
       "      <td>USA</td>\n",
       "      <td>/funding-round/3bb2ee4a2d89251a10aaa735b1180e44</td>\n",
       "      <td>venture</td>\n",
       "      <td>B</td>\n",
       "      <td>2015-09-11</td>\n",
       "      <td>20000000.0</td>\n",
       "    </tr>\n",
       "    <tr>\n",
       "      <th>12</th>\n",
       "      <td>/organization/0xdata</td>\n",
       "      <td>H2O.ai</td>\n",
       "      <td>Analytics</td>\n",
       "      <td>operating</td>\n",
       "      <td>USA</td>\n",
       "      <td>/funding-round/e1cfcbe1bdf4c70277c5f29a3482f24e</td>\n",
       "      <td>venture</td>\n",
       "      <td>A</td>\n",
       "      <td>2014-07-19</td>\n",
       "      <td>8900000.0</td>\n",
       "    </tr>\n",
       "    <tr>\n",
       "      <th>28</th>\n",
       "      <td>/organization/10-minutes-with</td>\n",
       "      <td>10 Minutes With</td>\n",
       "      <td>Education</td>\n",
       "      <td>operating</td>\n",
       "      <td>GBR</td>\n",
       "      <td>/funding-round/0faccbbcc5818dc5326469f13f5a8ac8</td>\n",
       "      <td>venture</td>\n",
       "      <td>A</td>\n",
       "      <td>2014-09-10</td>\n",
       "      <td>4000000.0</td>\n",
       "    </tr>\n",
       "  </tbody>\n",
       "</table>\n",
       "</div>"
      ],
      "text/plain": [
       "                        permalink             name category_list     status  \\\n",
       "0             /organization/-fame            #fame         Media  operating   \n",
       "4           /organization/0-6-com          0-6.com   Curated Web  operating   \n",
       "10           /organization/0xdata           H2O.ai     Analytics  operating   \n",
       "12           /organization/0xdata           H2O.ai     Analytics  operating   \n",
       "28  /organization/10-minutes-with  10 Minutes With     Education  operating   \n",
       "\n",
       "   country_code                          funding_round_permalink  \\\n",
       "0           IND  /funding-round/9a01d05418af9f794eebff7ace91f638   \n",
       "4           CHN  /funding-round/5727accaeaa57461bd22a9bdd945382d   \n",
       "10          USA  /funding-round/3bb2ee4a2d89251a10aaa735b1180e44   \n",
       "12          USA  /funding-round/e1cfcbe1bdf4c70277c5f29a3482f24e   \n",
       "28          GBR  /funding-round/0faccbbcc5818dc5326469f13f5a8ac8   \n",
       "\n",
       "   funding_round_type funding_round_code  funded_at  raised_amount_usd  \n",
       "0             venture                  B 2015-05-01         10000000.0  \n",
       "4             venture                  A 2008-03-19          2000000.0  \n",
       "10            venture                  B 2015-09-11         20000000.0  \n",
       "12            venture                  A 2014-07-19          8900000.0  \n",
       "28            venture                  A 2014-09-10          4000000.0  "
      ]
     },
     "execution_count": 60,
     "metadata": {},
     "output_type": "execute_result"
    }
   ],
   "source": [
    "master_frame[\"category_list\"] = master_frame[\"category_list\"].str.split(\"|\").str.get(0)\n",
    "master_frame.head()"
   ]
  },
  {
   "cell_type": "code",
   "execution_count": 61,
   "metadata": {},
   "outputs": [
    {
     "data": {
      "text/plain": [
       "array(['0notechnology', '0tural Language Processing', '0tural Resources',\n",
       "       '0vigation', '3D', '3D Printing', '3D Technology', 'A0lytics',\n",
       "       'Accounting', 'Active Lifestyle', 'Ad Targeting',\n",
       "       'Advanced Materials', 'Adventure Travel', 'Advertising',\n",
       "       'Advertising Exchanges', 'Advertising Networks',\n",
       "       'Advertising Platforms', 'Advice', 'Aerospace', 'Agriculture',\n",
       "       'Air Pollution Control', 'Algorithms', 'All Markets',\n",
       "       'All Students', 'Alter0tive Medicine', 'Alumni', 'Android',\n",
       "       'Angels', 'Animal Feed', 'Anything Capital Intensive',\n",
       "       'App Discovery', 'App Marketing', 'App Stores',\n",
       "       'Application Performance Monitoring', 'Application Platforms',\n",
       "       'Apps', 'Aquaculture', 'Architecture', 'Archiving', 'Art',\n",
       "       'Artificial Intelligence', 'Artists Globally',\n",
       "       'Assisitive Technology', 'Assisted Living', 'Auctions', 'Audio',\n",
       "       'Audiobooks', 'Augmented Reality', 'Auto', 'Automated Kiosk',\n",
       "       'Automotive', 'B2B', 'B2B Express Delivery', 'BPO Services',\n",
       "       'Babies', 'Baby Accessories', 'Baby Boomers', 'Baby Safety',\n",
       "       'Banking', 'Batteries', 'Beauty', 'Bicycles', 'Big Data',\n",
       "       'Big Data A0lytics', 'Billing', 'Bio-Pharm', 'Biofuels',\n",
       "       'Bioinformatics', 'Biomass Power Generation', 'Biometrics',\n",
       "       'Biotechnology', 'Bitcoin', 'Blogging Platforms',\n",
       "       'Boating Industry', 'Brand Marketing', 'Brewing',\n",
       "       'Bridging Online and Offline', 'Broadcasting', 'Brokers',\n",
       "       'Browser Extensions', 'Building Owners', 'Building Products',\n",
       "       'Business A0lytics', 'Business Development',\n",
       "       'Business Information Systems', 'Business Intelligence',\n",
       "       'Business Productivity', 'Business Services', 'Business Travelers',\n",
       "       'CAD', 'CRM', 'Cable', 'Call Center Automation', 'Can0bis',\n",
       "       'Carbon', 'Career Ma0gement', 'Career Planning', 'Cars',\n",
       "       'Casual Games', 'Celebrity', 'Certification Test', 'Charities',\n",
       "       'Charity', 'Charter Schools', 'Chat', 'Chemicals', 'Chi0 Internet',\n",
       "       'Child Care', 'Civil Engineers', 'Classifieds', 'Clean Energy',\n",
       "       'Clean Technology', 'Clean Technology IT', 'Clinical Trials',\n",
       "       'Cloud Computing', 'Cloud Data Services', 'Cloud Infrastructure',\n",
       "       'Cloud Ma0gement', 'Cloud Security', 'Cloud-Based Music', 'Coffee',\n",
       "       'Collaboration', 'Collaborative Consumption', 'Collectibles',\n",
       "       'College Campuses', 'College Recruiting', 'Colleges', 'Comics',\n",
       "       'Commercial Real Estate', 'Commercial Solar', 'Commodities',\n",
       "       'Communications Hardware', 'Communications Infrastructure',\n",
       "       'Communities', 'Comparison Shopping', 'Computer Vision',\n",
       "       'Computers', 'Concentrated Solar Power', 'Concerts',\n",
       "       'Console Gaming', 'Construction', 'Consulting',\n",
       "       'Consumer Behavior', 'Consumer Electronics', 'Consumer Goods',\n",
       "       'Consumer Internet', 'Consumer Lending', 'Consumers',\n",
       "       'Contact Centers', 'Contact Ma0gement', 'Content',\n",
       "       'Content Creators', 'Content Delivery', 'Content Discovery',\n",
       "       'Content Syndication', 'Contests', 'Cooking', 'Corporate IT',\n",
       "       'Corporate Training', 'Corporate Wellness', 'Cosmetic Surgery',\n",
       "       'Cosmetics', 'Coupons', 'Coworking', 'Craft Beer', 'Creative',\n",
       "       'Creative Industries', 'Credit', 'Credit Cards', 'Crowdfunding',\n",
       "       'Crowdsourcing', 'Curated Web', 'Custom Retail',\n",
       "       'Customer Service', 'Customer Support Tools', 'Cyber',\n",
       "       'Cyber Security', 'DIY', 'DOD/Military', 'Data Center Automation',\n",
       "       'Data Center Infrastructure', 'Data Centers', 'Data Integration',\n",
       "       'Data Mining', 'Data Privacy', 'Data Security',\n",
       "       'Data Visualization', 'Databases', 'Debt Collecting', 'Defense',\n",
       "       'Delivery', 'Demographies', 'Dental', 'Design', 'Designers',\n",
       "       'Developer APIs', 'Developer Tools', 'Development Platforms',\n",
       "       'Diabetes', 'Diagnostics', 'Dietary Supplements',\n",
       "       'Digital Entertainment', 'Digital Media',\n",
       "       'Digital Rights Ma0gement', 'Digital Sig0ge', 'Direct Advertising',\n",
       "       'Direct Marketing', 'Direct Sales', 'Discounts', 'Displays',\n",
       "       'Disruptive Models', 'Distribution', 'Distributors', 'Doctors',\n",
       "       'Document Ma0gement', 'Domains', 'Drones', 'E-Books', 'E-Commerce',\n",
       "       'E-Commerce Platforms', 'EBooks', 'EDA Tools',\n",
       "       'Early-Stage Technology', 'EdTech', 'Ediscovery',\n",
       "       'Educatio0l Games', 'Education', 'Edutainment', 'Elder Care',\n",
       "       'Electric Vehicles', 'Electrical Distribution',\n",
       "       'Electronic Health Records', 'Electronics', 'Email',\n",
       "       'Email Marketing', 'Email Newsletters',\n",
       "       'Embedded Hardware and Software', 'Emerging Markets',\n",
       "       'Employer Benefits Programs', 'Employment', 'Energy',\n",
       "       'Energy Efficiency', 'Energy IT', 'Energy Ma0gement',\n",
       "       'Energy Storage', 'Engineering Firms', 'Enterprise 2.0',\n",
       "       'Enterprise Application', 'Enterprise Purchasing',\n",
       "       'Enterprise Resource Planning', 'Enterprise Search',\n",
       "       'Enterprise Security', 'Enterprise Software', 'Enterprises',\n",
       "       'Entertainment', 'Entertainment Industry', 'Entrepreneur',\n",
       "       'Environmental Innovation', 'Estimation and Quoting',\n",
       "       'Event Ma0gement', 'Events', 'Exercise', 'Eyewear',\n",
       "       'Face Recognition', 'Facebook Applications', 'Families',\n",
       "       'Fantasy Sports', 'Farmers Market', 'Farming', 'Fashion',\n",
       "       'Fertility', 'Fi0nce', 'Fi0nce Technology', 'Fi0ncial Exchanges',\n",
       "       'Fi0ncial Services', 'Field Support Services', 'File Sharing',\n",
       "       'Film', 'Film Distribution', 'Film Production', 'FinTech',\n",
       "       'Fitness', 'Flash Sales', 'Flash Storage', 'Fleet Ma0gement',\n",
       "       'Flowers', 'Fmcg', 'Food Processing', 'Forums', 'Fraud Detection',\n",
       "       'Freelancers', 'Freemium', 'FreetoPlay Gaming', 'Fruit',\n",
       "       'Fuel Cells', 'Fuels', 'Funeral Industry', 'Furniture', 'Gadget',\n",
       "       'Gambling', 'Game', 'Game Mechanics', 'Games', 'Gamification',\n",
       "       'Gas', 'Gay & Lesbian', 'General Public Worldwide',\n",
       "       'Genetic Testing', 'Geospatial', 'Gift Card', 'Gift Exchange',\n",
       "       'Gift Registries', 'Gold', 'Gover0nce', 'Government Innovation',\n",
       "       'Governments', 'Gps', 'Graphics', 'Green', 'Green Consumer Goods',\n",
       "       'Groceries', 'Group Buying', 'Group SMS', 'Guides', 'Handmade',\n",
       "       'Hardware', 'Hardware + Software', 'Health Care',\n",
       "       'Health Care Information Technology', 'Health Diagnostics',\n",
       "       'Health Services Industry', 'Health and Insurance',\n",
       "       'Health and Wellness', 'Healthcare Services', 'Heavy Industry',\n",
       "       'Hedge Funds', 'High School Students', 'High Schools', 'High Tech',\n",
       "       'Home & Garden', 'Home Automation', 'Home Decor', 'Home Owners',\n",
       "       'Home Renovation', 'Homeland Security', 'Homeless Shelter',\n",
       "       'Hospitality', 'Hospitals', 'Hotels', 'Human Computer Interaction',\n",
       "       'Human Resource Automation', 'Human Resources', 'Humanitarian',\n",
       "       'ICT', 'IT Ma0gement', 'IT and Cybersecurity', 'IaaS', 'Identity',\n",
       "       'Identity Ma0gement', 'Image Recognition', 'Impact Investing',\n",
       "       'In-Flight Entertainment', 'Incentives', 'Incubators',\n",
       "       'Independent Music Labels', 'Independent Pharmacies', 'Indians',\n",
       "       'Indoor Positioning', 'Industrial', 'Industrial Automation',\n",
       "       'Information Security', 'Information Services',\n",
       "       'Information Technology', 'Infrastructure',\n",
       "       'Innovation Engineering', 'Innovation Ma0gement', 'Insurance',\n",
       "       'Intellectual Asset Ma0gement', 'Intellectual Property',\n",
       "       'Intelligent Systems', 'Interest Graph', 'Interface Design',\n",
       "       'Interior Design', 'Internet', 'Internet Infrastructure',\n",
       "       'Internet Marketing', 'Internet Radio Market',\n",
       "       'Internet Service Providers', 'Internet of Things',\n",
       "       'Investment Ma0gement', 'Jewelry', 'Jour0lism', 'K-12 Education',\n",
       "       'Kids', 'Knowledge Ma0gement', 'Landscaping', 'Language Learning',\n",
       "       'Lasers', 'Law Enforcement', 'Lead Generation', 'Lead Ma0gement',\n",
       "       'Legal', 'Leisure', 'Licensing', 'Life Sciences', 'Lifestyle',\n",
       "       'Lifestyle Businesses', 'Lifestyle Products', 'Lighting',\n",
       "       'Limousines', 'Linux', 'Local', 'Local Advertising',\n",
       "       'Local Based Services', 'Local Businesses', 'Local Commerce',\n",
       "       'Local Search', 'Location Based Services', 'Logistics',\n",
       "       'Logistics Company', 'Lotteries', 'Low Bid Auctions',\n",
       "       'Loyalty Programs', 'M2M', 'Machine Learning', 'Manufacturing',\n",
       "       'Maps', 'Market Research', 'Marketing Automation', 'Marketplaces',\n",
       "       'Mass Customization', 'Match-Making', 'Material Science',\n",
       "       'Mechanical Solutions', 'Media', 'Medical', 'Medical Devices',\n",
       "       'Medical Professio0ls', 'Meeting Software', 'Mens Specific',\n",
       "       'Messaging', 'Micro-Enterprises', 'MicroBlogging', 'Minerals',\n",
       "       'Mining Technologies', 'Mobile', 'Mobile A0lytics',\n",
       "       'Mobile Advertising', 'Mobile Commerce', 'Mobile Devices',\n",
       "       'Mobile Enterprise', 'Mobile Games', 'Mobile Health',\n",
       "       'Mobile Infrastructure', 'Mobile Payments', 'Mobile Security',\n",
       "       'Mobile Shopping', 'Mobile Social', 'Mobile Software Tools',\n",
       "       'Mobile Video', 'Mobility', 'Monetization', 'Moneymaking',\n",
       "       'Multi-level Marketing', 'Music', 'Music Education',\n",
       "       'Music Services', 'Music Venues', 'Musical Instruments',\n",
       "       'Musicians', 'Network Security', 'Networking', 'Neuroscience',\n",
       "       'New Product Development', 'New Technologies', 'News',\n",
       "       'Non Profit', 'Non-Tech', 'Nonprofits', 'Nutrition',\n",
       "       'Office Space', 'Oil', 'Oil & Gas', 'Oil and Gas', 'Online Dating',\n",
       "       'Online Education', 'Online Gaming', 'Online Identity',\n",
       "       'Online Rental', 'Online Reservations', 'Online Scheduling',\n",
       "       'Online Shopping', 'Online Travel', 'Online Video Advertising',\n",
       "       'Open Source', 'Opinions', 'Optical Communications',\n",
       "       'Optimization', 'Organic', 'Organic Food', 'Outdoors',\n",
       "       'Outsourcing', 'P2P Money Transfer', 'PaaS', 'Parenting',\n",
       "       'Parking', 'Payments', 'Peer-to-Peer', 'Performance Marketing',\n",
       "       'Perso0l Branding', 'Perso0l Data', 'Perso0l Fi0nce',\n",
       "       'Perso0l Health', 'Perso0lization', 'Pervasive Computing', 'Pets',\n",
       "       'Pharmaceuticals', 'Photo Editing', 'Photo Sharing', 'Photography',\n",
       "       'Physical Security', 'Physicians', 'Plumbers', 'Point of Sale',\n",
       "       'Politics', 'Polling', 'Portals', 'Postal and Courier Services',\n",
       "       'Pre Seed', 'Predictive A0lytics', 'Presentations',\n",
       "       'Price Comparison', 'Printing', 'Privacy', 'Private School',\n",
       "       'Private Social Networking', 'Procurement', 'Product Design',\n",
       "       'Product Development Services', 'Productivity',\n",
       "       'Productivity Software', 'Professio0l Networking',\n",
       "       'Professio0l Services', 'Project Ma0gement', 'Promotio0l',\n",
       "       'Property Ma0gement', 'Public Relations', 'Public Safety',\n",
       "       'Public Transportation', 'Publishing', 'Q&A', 'QR Codes', 'RFID',\n",
       "       'Real Estate', 'Real Time', 'Realtors', 'Recreation', 'Recruiting',\n",
       "       'Recycling', 'Religion', 'Renewable Energies', 'Renewable Tech',\n",
       "       'Rental Housing', 'Reputation', 'Resorts', 'Restaurants', 'Retail',\n",
       "       'Retail Technology', 'Reviews and Recommendations', 'Ride Sharing',\n",
       "       'Risk Ma0gement', 'Robotics', 'SEO', 'SNS', 'SaaS',\n",
       "       'Sales Automation', 'Sales and Marketing', 'Search',\n",
       "       'Search Marketing', 'Security',\n",
       "       'Semiconductor Manufacturing Equipment', 'Semiconductors',\n",
       "       'Senior Citizens', 'Senior Health', 'Sensors',\n",
       "       'Service Industries', 'Service Providers', 'Services', 'SexTech',\n",
       "       'Shared Services', 'Shipping', 'Shoes', 'Shopping', 'Simulation',\n",
       "       'Skill Assessment', 'Small and Medium Businesses', 'Smart Grid',\n",
       "       'Soccer', 'Social + Mobile + Local', 'Social Bookmarking',\n",
       "       'Social Business', 'Social Buying', 'Social CRM',\n",
       "       'Social Commerce', 'Social Fundraising', 'Social Games',\n",
       "       'Social Media', 'Social Media Ma0gement', 'Social Media Marketing',\n",
       "       'Social Media Platforms', 'Social Network Media', 'Social News',\n",
       "       'Social Recruiting', 'Social Television', 'Social Travel',\n",
       "       'Software', 'Solar', 'Space Travel', 'Specialty Chemicals',\n",
       "       'Specialty Foods', 'Speech Recognition', 'Sporting Goods',\n",
       "       'Sports', 'Staffing Firms', 'Startups', 'Stock Exchanges',\n",
       "       'Storage', 'Subscription Service', 'Supply Chain Ma0gement',\n",
       "       'Surveys', 'Synchronization', 'Systems', 'Task Ma0gement', 'Taxis',\n",
       "       'Tea', 'Technology', 'Telecommunications', 'Television',\n",
       "       'Textiles', 'Theatre', 'Therapeutics', 'Ticketing', 'Tourism',\n",
       "       'Tracking', 'Trading', 'Training', 'Translation', 'Transportation',\n",
       "       'Travel', 'Travel & Tourism', 'Universities',\n",
       "       'University Students', 'Unmanned Air Systems', 'Usability',\n",
       "       'User Experience Design', 'User Interface', 'Utilities',\n",
       "       'Vending and Concessions', 'Venture Capital', 'Veteri0ry', 'Video',\n",
       "       'Video Conferencing', 'Video Games', 'Video Streaming',\n",
       "       'Video on Demand', 'Virtual Workforces', 'VoIP', 'Waste Ma0gement',\n",
       "       'Watch', 'Water', 'Water Purification', 'Wearables',\n",
       "       'Web Browsers', 'Web Design', 'Web Development', 'Web Hosting',\n",
       "       'Web Tools', 'Weddings', 'Wholesale', 'Wine And Spirits',\n",
       "       'Wireless', 'Women', 'Young Adults', 'iOS', 'iPad', 'iPhone',\n",
       "       'mHealth', nan], dtype=object)"
      ]
     },
     "execution_count": 61,
     "metadata": {},
     "output_type": "execute_result"
    }
   ],
   "source": [
    "# Checking the unique values in the column \"category_list\"\n",
    "mapping.category_list.sort_values(ascending=True).unique()"
   ]
  },
  {
   "cell_type": "markdown",
   "metadata": {},
   "source": [
    "We see that some categories have been mis-spelled where letters \"na\" have been converted to \"0\", we can go ahead and correct them (Eg : 'Business A0lytics')."
   ]
  },
  {
   "cell_type": "code",
   "execution_count": 62,
   "metadata": {},
   "outputs": [
    {
     "data": {
      "text/plain": [
       "array(['3D', '3D Printing', '3D Technology', 'Accounting',\n",
       "       'Active Lifestyle', 'Ad Targeting', 'Advanced Materials',\n",
       "       'Adventure Travel', 'Advertising', 'Advertising Exchanges',\n",
       "       'Advertising Networks', 'Advertising Platforms', 'Advice',\n",
       "       'Aerospace', 'Agriculture', 'Air Pollution Control', 'Algorithms',\n",
       "       'All Markets', 'All Students', 'Alternative Medicine', 'Alumni',\n",
       "       'Analytics', 'Android', 'Angels', 'Animal Feed',\n",
       "       'Anything Capital Intensive', 'App Discovery', 'App Marketing',\n",
       "       'App Stores', 'Application Performance Monitoring',\n",
       "       'Application Platforms', 'Apps', 'Aquaculture', 'Architecture',\n",
       "       'Archiving', 'Art', 'Artificial Intelligence', 'Artists Globally',\n",
       "       'Assisitive Technology', 'Assisted Living', 'Auctions', 'Audio',\n",
       "       'Audiobooks', 'Augmented Reality', 'Auto', 'Automated Kiosk',\n",
       "       'Automotive', 'B2B', 'B2B Express Delivery', 'BPO Services',\n",
       "       'Babies', 'Baby Accessories', 'Baby Boomers', 'Baby Safety',\n",
       "       'Banking', 'Batteries', 'Beauty', 'Bicycles', 'Big Data',\n",
       "       'Big Data Analytics', 'Billing', 'Bio-Pharm', 'Biofuels',\n",
       "       'Bioinformatics', 'Biomass Power Generation', 'Biometrics',\n",
       "       'Biotechnology', 'Bitcoin', 'Blogging Platforms',\n",
       "       'Boating Industry', 'Brand Marketing', 'Brewing',\n",
       "       'Bridging Online and Offline', 'Broadcasting', 'Brokers',\n",
       "       'Browser Extensions', 'Building Owners', 'Building Products',\n",
       "       'Business Analytics', 'Business Development',\n",
       "       'Business Information Systems', 'Business Intelligence',\n",
       "       'Business Productivity', 'Business Services', 'Business Travelers',\n",
       "       'CAD', 'CRM', 'Cable', 'Call Center Automation', 'Cannabis',\n",
       "       'Carbon', 'Career Management', 'Career Planning', 'Cars',\n",
       "       'Casual Games', 'Celebrity', 'Certification Test', 'Charities',\n",
       "       'Charity', 'Charter Schools', 'Chat', 'Chemicals', 'Child Care',\n",
       "       'China Internet', 'Civil Engineers', 'Classifieds', 'Clean Energy',\n",
       "       'Clean Technology', 'Clean Technology IT', 'Clinical Trials',\n",
       "       'Cloud Computing', 'Cloud Data Services', 'Cloud Infrastructure',\n",
       "       'Cloud Management', 'Cloud Security', 'Cloud-Based Music',\n",
       "       'Coffee', 'Collaboration', 'Collaborative Consumption',\n",
       "       'Collectibles', 'College Campuses', 'College Recruiting',\n",
       "       'Colleges', 'Comics', 'Commercial Real Estate', 'Commercial Solar',\n",
       "       'Commodities', 'Communications Hardware',\n",
       "       'Communications Infrastructure', 'Communities',\n",
       "       'Comparison Shopping', 'Computer Vision', 'Computers',\n",
       "       'Concentrated Solar Power', 'Concerts', 'Console Gaming',\n",
       "       'Construction', 'Consulting', 'Consumer Behavior',\n",
       "       'Consumer Electronics', 'Consumer Goods', 'Consumer Internet',\n",
       "       'Consumer Lending', 'Consumers', 'Contact Centers',\n",
       "       'Contact Management', 'Content', 'Content Creators',\n",
       "       'Content Delivery', 'Content Discovery', 'Content Syndication',\n",
       "       'Contests', 'Cooking', 'Corporate IT', 'Corporate Training',\n",
       "       'Corporate Wellness', 'Cosmetic Surgery', 'Cosmetics', 'Coupons',\n",
       "       'Coworking', 'Craft Beer', 'Creative', 'Creative Industries',\n",
       "       'Credit', 'Credit Cards', 'Crowdfunding', 'Crowdsourcing',\n",
       "       'Curated Web', 'Custom Retail', 'Customer Service',\n",
       "       'Customer Support Tools', 'Cyber', 'Cyber Security', 'DIY',\n",
       "       'DOD/Military', 'Data Center Automation',\n",
       "       'Data Center Infrastructure', 'Data Centers', 'Data Integration',\n",
       "       'Data Mining', 'Data Privacy', 'Data Security',\n",
       "       'Data Visualization', 'Databases', 'Debt Collecting', 'Defense',\n",
       "       'Delivery', 'Demographies', 'Dental', 'Design', 'Designers',\n",
       "       'Developer APIs', 'Developer Tools', 'Development Platforms',\n",
       "       'Diabetes', 'Diagnostics', 'Dietary Supplements',\n",
       "       'Digital Entertainment', 'Digital Media',\n",
       "       'Digital Rights Management', 'Digital Signage',\n",
       "       'Direct Advertising', 'Direct Marketing', 'Direct Sales',\n",
       "       'Discounts', 'Displays', 'Disruptive Models', 'Distribution',\n",
       "       'Distributors', 'Doctors', 'Document Management', 'Domains',\n",
       "       'Drones', 'E-Books', 'E-Commerce', 'E-Commerce Platforms',\n",
       "       'EBooks', 'EDA Tools', 'Early-Stage Technology', 'EdTech',\n",
       "       'Ediscovery', 'Education', 'Educational Games', 'Edutainment',\n",
       "       'Elder Care', 'Electric Vehicles', 'Electrical Distribution',\n",
       "       'Electronic Health Records', 'Electronics', 'Email',\n",
       "       'Email Marketing', 'Email Newsletters',\n",
       "       'Embedded Hardware and Software', 'Emerging Markets',\n",
       "       'Employer Benefits Programs', 'Employment', 'Energy',\n",
       "       'Energy Efficiency', 'Energy IT', 'Energy Management',\n",
       "       'Energy Storage', 'Engineering Firms', 'Enterprise 2.na',\n",
       "       'Enterprise Application', 'Enterprise Purchasing',\n",
       "       'Enterprise Resource Planning', 'Enterprise Search',\n",
       "       'Enterprise Security', 'Enterprise Software', 'Enterprises',\n",
       "       'Entertainment', 'Entertainment Industry', 'Entrepreneur',\n",
       "       'Environmental Innovation', 'Estimation and Quoting',\n",
       "       'Event Management', 'Events', 'Exercise', 'Eyewear',\n",
       "       'Face Recognition', 'Facebook Applications', 'Families',\n",
       "       'Fantasy Sports', 'Farmers Market', 'Farming', 'Fashion',\n",
       "       'Fertility', 'Field Support Services', 'File Sharing', 'Film',\n",
       "       'Film Distribution', 'Film Production', 'FinTech', 'Finance',\n",
       "       'Finance Technology', 'Financial Exchanges', 'Financial Services',\n",
       "       'Fitness', 'Flash Sales', 'Flash Storage', 'Fleet Management',\n",
       "       'Flowers', 'Fmcg', 'Food Processing', 'Forums', 'Fraud Detection',\n",
       "       'Freelancers', 'Freemium', 'FreetoPlay Gaming', 'Fruit',\n",
       "       'Fuel Cells', 'Fuels', 'Funeral Industry', 'Furniture', 'Gadget',\n",
       "       'Gambling', 'Game', 'Game Mechanics', 'Games', 'Gamification',\n",
       "       'Gas', 'Gay & Lesbian', 'General Public Worldwide',\n",
       "       'Genetic Testing', 'Geospatial', 'Gift Card', 'Gift Exchange',\n",
       "       'Gift Registries', 'Gold', 'Governance', 'Government Innovation',\n",
       "       'Governments', 'Gps', 'Graphics', 'Green', 'Green Consumer Goods',\n",
       "       'Groceries', 'Group Buying', 'Group SMS', 'Guides', 'Handmade',\n",
       "       'Hardware', 'Hardware + Software', 'Health Care',\n",
       "       'Health Care Information Technology', 'Health Diagnostics',\n",
       "       'Health Services Industry', 'Health and Insurance',\n",
       "       'Health and Wellness', 'Healthcare Services', 'Heavy Industry',\n",
       "       'Hedge Funds', 'High School Students', 'High Schools', 'High Tech',\n",
       "       'Home & Garden', 'Home Automation', 'Home Decor', 'Home Owners',\n",
       "       'Home Renovation', 'Homeland Security', 'Homeless Shelter',\n",
       "       'Hospitality', 'Hospitals', 'Hotels', 'Human Computer Interaction',\n",
       "       'Human Resource Automation', 'Human Resources', 'Humanitarian',\n",
       "       'ICT', 'IT Management', 'IT and Cybersecurity', 'IaaS', 'Identity',\n",
       "       'Identity Management', 'Image Recognition', 'Impact Investing',\n",
       "       'In-Flight Entertainment', 'Incentives', 'Incubators',\n",
       "       'Independent Music Labels', 'Independent Pharmacies', 'Indians',\n",
       "       'Indoor Positioning', 'Industrial', 'Industrial Automation',\n",
       "       'Information Security', 'Information Services',\n",
       "       'Information Technology', 'Infrastructure',\n",
       "       'Innovation Engineering', 'Innovation Management', 'Insurance',\n",
       "       'Intellectual Asset Management', 'Intellectual Property',\n",
       "       'Intelligent Systems', 'Interest Graph', 'Interface Design',\n",
       "       'Interior Design', 'Internet', 'Internet Infrastructure',\n",
       "       'Internet Marketing', 'Internet Radio Market',\n",
       "       'Internet Service Providers', 'Internet of Things',\n",
       "       'Investment Management', 'Jewelry', 'Journalism', 'K-12 Education',\n",
       "       'Kids', 'Knowledge Management', 'Landscaping', 'Language Learning',\n",
       "       'Lasers', 'Law Enforcement', 'Lead Generation', 'Lead Management',\n",
       "       'Legal', 'Leisure', 'Licensing', 'Life Sciences', 'Lifestyle',\n",
       "       'Lifestyle Businesses', 'Lifestyle Products', 'Lighting',\n",
       "       'Limousines', 'Linux', 'Local', 'Local Advertising',\n",
       "       'Local Based Services', 'Local Businesses', 'Local Commerce',\n",
       "       'Local Search', 'Location Based Services', 'Logistics',\n",
       "       'Logistics Company', 'Lotteries', 'Low Bid Auctions',\n",
       "       'Loyalty Programs', 'M2M', 'Machine Learning', 'Manufacturing',\n",
       "       'Maps', 'Market Research', 'Marketing Automation', 'Marketplaces',\n",
       "       'Mass Customization', 'Match-Making', 'Material Science',\n",
       "       'Mechanical Solutions', 'Media', 'Medical', 'Medical Devices',\n",
       "       'Medical Professionals', 'Meeting Software', 'Mens Specific',\n",
       "       'Messaging', 'Micro-Enterprises', 'MicroBlogging', 'Minerals',\n",
       "       'Mining Technologies', 'Mobile', 'Mobile Advertising',\n",
       "       'Mobile Analytics', 'Mobile Commerce', 'Mobile Devices',\n",
       "       'Mobile Enterprise', 'Mobile Games', 'Mobile Health',\n",
       "       'Mobile Infrastructure', 'Mobile Payments', 'Mobile Security',\n",
       "       'Mobile Shopping', 'Mobile Social', 'Mobile Software Tools',\n",
       "       'Mobile Video', 'Mobility', 'Monetization', 'Moneymaking',\n",
       "       'Multi-level Marketing', 'Music', 'Music Education',\n",
       "       'Music Services', 'Music Venues', 'Musical Instruments',\n",
       "       'Musicians', 'Network Security', 'Networking', 'Neuroscience',\n",
       "       'New Product Development', 'New Technologies', 'News',\n",
       "       'Non Profit', 'Non-Tech', 'Nonprofits', 'Nutrition',\n",
       "       'Office Space', 'Oil', 'Oil & Gas', 'Oil and Gas', 'Online Dating',\n",
       "       'Online Education', 'Online Gaming', 'Online Identity',\n",
       "       'Online Rental', 'Online Reservations', 'Online Scheduling',\n",
       "       'Online Shopping', 'Online Travel', 'Online Video Advertising',\n",
       "       'Open Source', 'Opinions', 'Optical Communications',\n",
       "       'Optimization', 'Organic', 'Organic Food', 'Outdoors',\n",
       "       'Outsourcing', 'P2P Money Transfer', 'PaaS', 'Parenting',\n",
       "       'Parking', 'Payments', 'Peer-to-Peer', 'Performance Marketing',\n",
       "       'Personal Branding', 'Personal Data', 'Personal Finance',\n",
       "       'Personal Health', 'Personalization', 'Pervasive Computing',\n",
       "       'Pets', 'Pharmaceuticals', 'Photo Editing', 'Photo Sharing',\n",
       "       'Photography', 'Physical Security', 'Physicians', 'Plumbers',\n",
       "       'Point of Sale', 'Politics', 'Polling', 'Portals',\n",
       "       'Postal and Courier Services', 'Pre Seed', 'Predictive Analytics',\n",
       "       'Presentations', 'Price Comparison', 'Printing', 'Privacy',\n",
       "       'Private School', 'Private Social Networking', 'Procurement',\n",
       "       'Product Design', 'Product Development Services', 'Productivity',\n",
       "       'Productivity Software', 'Professional Networking',\n",
       "       'Professional Services', 'Project Management', 'Promotional',\n",
       "       'Property Management', 'Public Relations', 'Public Safety',\n",
       "       'Public Transportation', 'Publishing', 'Q&A', 'QR Codes', 'RFID',\n",
       "       'Real Estate', 'Real Time', 'Realtors', 'Recreation', 'Recruiting',\n",
       "       'Recycling', 'Religion', 'Renewable Energies', 'Renewable Tech',\n",
       "       'Rental Housing', 'Reputation', 'Resorts', 'Restaurants', 'Retail',\n",
       "       'Retail Technology', 'Reviews and Recommendations', 'Ride Sharing',\n",
       "       'Risk Management', 'Robotics', 'SEO', 'SNS', 'SaaS',\n",
       "       'Sales Automation', 'Sales and Marketing', 'Search',\n",
       "       'Search Marketing', 'Security',\n",
       "       'Semiconductor Manufacturing Equipment', 'Semiconductors',\n",
       "       'Senior Citizens', 'Senior Health', 'Sensors',\n",
       "       'Service Industries', 'Service Providers', 'Services', 'SexTech',\n",
       "       'Shared Services', 'Shipping', 'Shoes', 'Shopping', 'Simulation',\n",
       "       'Skill Assessment', 'Small and Medium Businesses', 'Smart Grid',\n",
       "       'Soccer', 'Social + Mobile + Local', 'Social Bookmarking',\n",
       "       'Social Business', 'Social Buying', 'Social CRM',\n",
       "       'Social Commerce', 'Social Fundraising', 'Social Games',\n",
       "       'Social Media', 'Social Media Management',\n",
       "       'Social Media Marketing', 'Social Media Platforms',\n",
       "       'Social Network Media', 'Social News', 'Social Recruiting',\n",
       "       'Social Television', 'Social Travel', 'Software', 'Solar',\n",
       "       'Space Travel', 'Specialty Chemicals', 'Specialty Foods',\n",
       "       'Speech Recognition', 'Sporting Goods', 'Sports', 'Staffing Firms',\n",
       "       'Startups', 'Stock Exchanges', 'Storage', 'Subscription Service',\n",
       "       'Supply Chain Management', 'Surveys', 'Synchronization', 'Systems',\n",
       "       'Task Management', 'Taxis', 'Tea', 'Technology',\n",
       "       'Telecommunications', 'Television', 'Textiles', 'Theatre',\n",
       "       'Therapeutics', 'Ticketing', 'Tourism', 'Tracking', 'Trading',\n",
       "       'Training', 'Translation', 'Transportation', 'Travel',\n",
       "       'Travel & Tourism', 'Universities', 'University Students',\n",
       "       'Unmanned Air Systems', 'Usability', 'User Experience Design',\n",
       "       'User Interface', 'Utilities', 'Vending and Concessions',\n",
       "       'Venture Capital', 'Veterinary', 'Video', 'Video Conferencing',\n",
       "       'Video Games', 'Video Streaming', 'Video on Demand',\n",
       "       'Virtual Workforces', 'VoIP', 'Waste Management', 'Watch', 'Water',\n",
       "       'Water Purification', 'Wearables', 'Web Browsers', 'Web Design',\n",
       "       'Web Development', 'Web Hosting', 'Web Tools', 'Weddings',\n",
       "       'Wholesale', 'Wine And Spirits', 'Wireless', 'Women',\n",
       "       'Young Adults', 'iOS', 'iPad', 'iPhone', 'mHealth', 'nan',\n",
       "       'nanotechnology', 'natural Language Processing',\n",
       "       'natural Resources', 'navigation'], dtype=object)"
      ]
     },
     "execution_count": 62,
     "metadata": {},
     "output_type": "execute_result"
    }
   ],
   "source": [
    "#Converting the datatype to \"string\"\n",
    "mapping['category_list'] = mapping.category_list.astype(str)\n",
    "\n",
    "# Correcting categories which have been mis-spelled where letters \"na\" have been converted to \"0\",\n",
    "mapping['category_list'] = mapping.category_list.apply(lambda x: x.replace('0', 'na'))\n",
    "mapping.category_list.sort_values(ascending=True).unique()"
   ]
  },
  {
   "cell_type": "markdown",
   "metadata": {},
   "source": [
    "##### Creating a merged dataframe with each primary sector mapped to its main sector where primary sector is a separate column"
   ]
  },
  {
   "cell_type": "code",
   "execution_count": 63,
   "metadata": {},
   "outputs": [
    {
     "data": {
      "text/html": [
       "<div>\n",
       "<style scoped>\n",
       "    .dataframe tbody tr th:only-of-type {\n",
       "        vertical-align: middle;\n",
       "    }\n",
       "\n",
       "    .dataframe tbody tr th {\n",
       "        vertical-align: top;\n",
       "    }\n",
       "\n",
       "    .dataframe thead th {\n",
       "        text-align: right;\n",
       "    }\n",
       "</style>\n",
       "<table border=\"1\" class=\"dataframe\">\n",
       "  <thead>\n",
       "    <tr style=\"text-align: right;\">\n",
       "      <th></th>\n",
       "      <th>category_list</th>\n",
       "      <th>main_sector</th>\n",
       "    </tr>\n",
       "  </thead>\n",
       "  <tbody>\n",
       "    <tr>\n",
       "      <th>8</th>\n",
       "      <td>Adventure Travel</td>\n",
       "      <td>Automotive &amp; Sports</td>\n",
       "    </tr>\n",
       "    <tr>\n",
       "      <th>14</th>\n",
       "      <td>Aerospace</td>\n",
       "      <td>Automotive &amp; Sports</td>\n",
       "    </tr>\n",
       "    <tr>\n",
       "      <th>45</th>\n",
       "      <td>Auto</td>\n",
       "      <td>Automotive &amp; Sports</td>\n",
       "    </tr>\n",
       "    <tr>\n",
       "      <th>46</th>\n",
       "      <td>Automated Kiosk</td>\n",
       "      <td>Automotive &amp; Sports</td>\n",
       "    </tr>\n",
       "    <tr>\n",
       "      <th>47</th>\n",
       "      <td>Automotive</td>\n",
       "      <td>Automotive &amp; Sports</td>\n",
       "    </tr>\n",
       "  </tbody>\n",
       "</table>\n",
       "</div>"
      ],
      "text/plain": [
       "       category_list          main_sector\n",
       "8   Adventure Travel  Automotive & Sports\n",
       "14         Aerospace  Automotive & Sports\n",
       "45              Auto  Automotive & Sports\n",
       "46   Automated Kiosk  Automotive & Sports\n",
       "47        Automotive  Automotive & Sports"
      ]
     },
     "execution_count": 63,
     "metadata": {},
     "output_type": "execute_result"
    }
   ],
   "source": [
    "#Converting \"mapping\" from wide format to long format and naming the resultant column as 'main_sector'\n",
    "mapping = pd.melt(mapping, id_vars=[\"category_list\"], var_name='main_sector')\n",
    "\n",
    "#filtering relevant rows where value is not equal to 0\n",
    "mapping = mapping[mapping.value != 0]\n",
    "\n",
    "#Dropping the additional \"value\" column\n",
    "mapping = mapping.drop('value', axis=1)\n",
    "\n",
    "mapping.head()"
   ]
  },
  {
   "cell_type": "code",
   "execution_count": 64,
   "metadata": {},
   "outputs": [
    {
     "data": {
      "text/html": [
       "<div>\n",
       "<style scoped>\n",
       "    .dataframe tbody tr th:only-of-type {\n",
       "        vertical-align: middle;\n",
       "    }\n",
       "\n",
       "    .dataframe tbody tr th {\n",
       "        vertical-align: top;\n",
       "    }\n",
       "\n",
       "    .dataframe thead th {\n",
       "        text-align: right;\n",
       "    }\n",
       "</style>\n",
       "<table border=\"1\" class=\"dataframe\">\n",
       "  <thead>\n",
       "    <tr style=\"text-align: right;\">\n",
       "      <th></th>\n",
       "      <th>permalink</th>\n",
       "      <th>name</th>\n",
       "      <th>primary_sector</th>\n",
       "      <th>status</th>\n",
       "      <th>country_code</th>\n",
       "      <th>funding_round_permalink</th>\n",
       "      <th>funding_round_type</th>\n",
       "      <th>funding_round_code</th>\n",
       "      <th>funded_at</th>\n",
       "      <th>raised_amount_usd</th>\n",
       "      <th>main_sector</th>\n",
       "    </tr>\n",
       "  </thead>\n",
       "  <tbody>\n",
       "    <tr>\n",
       "      <th>0</th>\n",
       "      <td>/organization/-fame</td>\n",
       "      <td>#fame</td>\n",
       "      <td>Media</td>\n",
       "      <td>operating</td>\n",
       "      <td>IND</td>\n",
       "      <td>/funding-round/9a01d05418af9f794eebff7ace91f638</td>\n",
       "      <td>venture</td>\n",
       "      <td>B</td>\n",
       "      <td>2015-05-01</td>\n",
       "      <td>10000000.0</td>\n",
       "      <td>Entertainment</td>\n",
       "    </tr>\n",
       "    <tr>\n",
       "      <th>1</th>\n",
       "      <td>/organization/all-def-digital</td>\n",
       "      <td>All Def Digital</td>\n",
       "      <td>Media</td>\n",
       "      <td>operating</td>\n",
       "      <td>USA</td>\n",
       "      <td>/funding-round/452a2342fe720285c3b92e9bd927d9ba</td>\n",
       "      <td>venture</td>\n",
       "      <td>A</td>\n",
       "      <td>2014-06-08</td>\n",
       "      <td>5000000.0</td>\n",
       "      <td>Entertainment</td>\n",
       "    </tr>\n",
       "    <tr>\n",
       "      <th>2</th>\n",
       "      <td>/organization/audiosocket</td>\n",
       "      <td>Audiosocket</td>\n",
       "      <td>Media</td>\n",
       "      <td>operating</td>\n",
       "      <td>USA</td>\n",
       "      <td>/funding-round/4e3a53eec6c609943df752206070b23f</td>\n",
       "      <td>venture</td>\n",
       "      <td>A</td>\n",
       "      <td>2009-02-09</td>\n",
       "      <td>750000.0</td>\n",
       "      <td>Entertainment</td>\n",
       "    </tr>\n",
       "    <tr>\n",
       "      <th>3</th>\n",
       "      <td>/organization/babble</td>\n",
       "      <td>Babble</td>\n",
       "      <td>Media</td>\n",
       "      <td>acquired</td>\n",
       "      <td>USA</td>\n",
       "      <td>/funding-round/43cc678b39be3e684bb88501af05ff9b</td>\n",
       "      <td>venture</td>\n",
       "      <td>A</td>\n",
       "      <td>2009-05-02</td>\n",
       "      <td>2000000.0</td>\n",
       "      <td>Entertainment</td>\n",
       "    </tr>\n",
       "    <tr>\n",
       "      <th>4</th>\n",
       "      <td>/organization/babble</td>\n",
       "      <td>Babble</td>\n",
       "      <td>Media</td>\n",
       "      <td>acquired</td>\n",
       "      <td>USA</td>\n",
       "      <td>/funding-round/5fdb3dbeeb6eea0243702adc372130f3</td>\n",
       "      <td>venture</td>\n",
       "      <td>A</td>\n",
       "      <td>2009-12-05</td>\n",
       "      <td>1250000.0</td>\n",
       "      <td>Entertainment</td>\n",
       "    </tr>\n",
       "  </tbody>\n",
       "</table>\n",
       "</div>"
      ],
      "text/plain": [
       "                       permalink             name primary_sector     status  \\\n",
       "0            /organization/-fame            #fame          Media  operating   \n",
       "1  /organization/all-def-digital  All Def Digital          Media  operating   \n",
       "2      /organization/audiosocket      Audiosocket          Media  operating   \n",
       "3           /organization/babble           Babble          Media   acquired   \n",
       "4           /organization/babble           Babble          Media   acquired   \n",
       "\n",
       "  country_code                          funding_round_permalink  \\\n",
       "0          IND  /funding-round/9a01d05418af9f794eebff7ace91f638   \n",
       "1          USA  /funding-round/452a2342fe720285c3b92e9bd927d9ba   \n",
       "2          USA  /funding-round/4e3a53eec6c609943df752206070b23f   \n",
       "3          USA  /funding-round/43cc678b39be3e684bb88501af05ff9b   \n",
       "4          USA  /funding-round/5fdb3dbeeb6eea0243702adc372130f3   \n",
       "\n",
       "  funding_round_type funding_round_code  funded_at  raised_amount_usd  \\\n",
       "0            venture                  B 2015-05-01         10000000.0   \n",
       "1            venture                  A 2014-06-08          5000000.0   \n",
       "2            venture                  A 2009-02-09           750000.0   \n",
       "3            venture                  A 2009-05-02          2000000.0   \n",
       "4            venture                  A 2009-12-05          1250000.0   \n",
       "\n",
       "     main_sector  \n",
       "0  Entertainment  \n",
       "1  Entertainment  \n",
       "2  Entertainment  \n",
       "3  Entertainment  \n",
       "4  Entertainment  "
      ]
     },
     "execution_count": 64,
     "metadata": {},
     "output_type": "execute_result"
    }
   ],
   "source": [
    "#Merging \"master_frame\" and \"mapping\" dataframes \n",
    "master_frame = pd.merge(master_frame, mapping, how='inner', on='category_list')\n",
    "\n",
    "#Renaming category_list to primary_sector\n",
    "master_frame.rename(columns={'category_list':'primary_sector'}, inplace=True)\n",
    "master_frame.head()"
   ]
  },
  {
   "cell_type": "code",
   "execution_count": 65,
   "metadata": {},
   "outputs": [
    {
     "data": {
      "text/html": [
       "<div>\n",
       "<style scoped>\n",
       "    .dataframe tbody tr th:only-of-type {\n",
       "        vertical-align: middle;\n",
       "    }\n",
       "\n",
       "    .dataframe tbody tr th {\n",
       "        vertical-align: top;\n",
       "    }\n",
       "\n",
       "    .dataframe thead th {\n",
       "        text-align: right;\n",
       "    }\n",
       "</style>\n",
       "<table border=\"1\" class=\"dataframe\">\n",
       "  <thead>\n",
       "    <tr style=\"text-align: right;\">\n",
       "      <th></th>\n",
       "      <th>permalink</th>\n",
       "      <th>name</th>\n",
       "      <th>status</th>\n",
       "      <th>country_code</th>\n",
       "      <th>primary_sector</th>\n",
       "      <th>main_sector</th>\n",
       "      <th>funding_round_type</th>\n",
       "      <th>raised_amount_usd</th>\n",
       "      <th>funding_round_permalink</th>\n",
       "      <th>funding_round_code</th>\n",
       "      <th>funded_at</th>\n",
       "    </tr>\n",
       "  </thead>\n",
       "  <tbody>\n",
       "    <tr>\n",
       "      <th>0</th>\n",
       "      <td>/organization/-fame</td>\n",
       "      <td>#fame</td>\n",
       "      <td>operating</td>\n",
       "      <td>IND</td>\n",
       "      <td>Media</td>\n",
       "      <td>Entertainment</td>\n",
       "      <td>venture</td>\n",
       "      <td>10000000.0</td>\n",
       "      <td>/funding-round/9a01d05418af9f794eebff7ace91f638</td>\n",
       "      <td>B</td>\n",
       "      <td>2015-05-01</td>\n",
       "    </tr>\n",
       "    <tr>\n",
       "      <th>1</th>\n",
       "      <td>/organization/all-def-digital</td>\n",
       "      <td>All Def Digital</td>\n",
       "      <td>operating</td>\n",
       "      <td>USA</td>\n",
       "      <td>Media</td>\n",
       "      <td>Entertainment</td>\n",
       "      <td>venture</td>\n",
       "      <td>5000000.0</td>\n",
       "      <td>/funding-round/452a2342fe720285c3b92e9bd927d9ba</td>\n",
       "      <td>A</td>\n",
       "      <td>2014-06-08</td>\n",
       "    </tr>\n",
       "    <tr>\n",
       "      <th>2</th>\n",
       "      <td>/organization/audiosocket</td>\n",
       "      <td>Audiosocket</td>\n",
       "      <td>operating</td>\n",
       "      <td>USA</td>\n",
       "      <td>Media</td>\n",
       "      <td>Entertainment</td>\n",
       "      <td>venture</td>\n",
       "      <td>750000.0</td>\n",
       "      <td>/funding-round/4e3a53eec6c609943df752206070b23f</td>\n",
       "      <td>A</td>\n",
       "      <td>2009-02-09</td>\n",
       "    </tr>\n",
       "  </tbody>\n",
       "</table>\n",
       "</div>"
      ],
      "text/plain": [
       "                       permalink             name     status country_code  \\\n",
       "0            /organization/-fame            #fame  operating          IND   \n",
       "1  /organization/all-def-digital  All Def Digital  operating          USA   \n",
       "2      /organization/audiosocket      Audiosocket  operating          USA   \n",
       "\n",
       "  primary_sector    main_sector funding_round_type  raised_amount_usd  \\\n",
       "0          Media  Entertainment            venture         10000000.0   \n",
       "1          Media  Entertainment            venture          5000000.0   \n",
       "2          Media  Entertainment            venture           750000.0   \n",
       "\n",
       "                           funding_round_permalink funding_round_code  \\\n",
       "0  /funding-round/9a01d05418af9f794eebff7ace91f638                  B   \n",
       "1  /funding-round/452a2342fe720285c3b92e9bd927d9ba                  A   \n",
       "2  /funding-round/4e3a53eec6c609943df752206070b23f                  A   \n",
       "\n",
       "   funded_at  \n",
       "0 2015-05-01  \n",
       "1 2014-06-08  \n",
       "2 2009-02-09  "
      ]
     },
     "execution_count": 65,
     "metadata": {},
     "output_type": "execute_result"
    }
   ],
   "source": [
    "#Rearranging the columns in the \"master_frame\" for ease of understanding\n",
    "master_frame = master_frame[['permalink',\n",
    "                             'name',\n",
    "                             'status',\n",
    "                             'country_code',\n",
    "                             'primary_sector',\n",
    "                             'main_sector',\n",
    "                             'funding_round_type',\n",
    "                             'raised_amount_usd',\n",
    "                             'funding_round_permalink',\n",
    "                             'funding_round_code',\n",
    "                             'funded_at',]]\n",
    "master_frame.head(3)"
   ]
  },
  {
   "cell_type": "markdown",
   "metadata": {},
   "source": [
    "##### Now, the aim is to find out the most heavily invested main sectors in each of the three countries (for funding type - venture and investments range of 5-15 Million USD)."
   ]
  },
  {
   "cell_type": "markdown",
   "metadata": {},
   "source": [
    "Lets create three separate data frames `D1`, `D2` and `D3` for each of the three countries containing the observations of funding type `venture` falling within the `5-15 million USD` range. The three data frames should contain:\n",
    "\n",
    "- All the columns of the 'master_frame' along with the 'primary sector' and the 'main sector'\n",
    "\n",
    "- The `total number (or count) of investments` for each main sector in a separate column\n",
    "\n",
    "- The `total amount invested` in each main sector in a separate column"
   ]
  },
  {
   "cell_type": "code",
   "execution_count": 66,
   "metadata": {},
   "outputs": [],
   "source": [
    "#Setting the filters for investment range between 5 and 15 million USD, top three countries and funding type\n",
    "master_frame = master_frame[(master_frame['raised_amount_usd'] >= 5000000) & (master_frame['raised_amount_usd'] <= 15000000)]\n",
    "master_frame = master_frame[master_frame['country_code'].isin(['USA','GBR','IND'])]\n",
    "master_frame = master_frame[master_frame['funding_round_type'].isin(['venture'])]"
   ]
  },
  {
   "cell_type": "code",
   "execution_count": 67,
   "metadata": {},
   "outputs": [],
   "source": [
    "# First english speaking country 'USA' for funding type venture\n",
    "D1 = master_frame[master_frame.country_code == 'USA']\n",
    "# Second english speaking country 'Great Britain' for funding type venture\n",
    "D2 = master_frame[master_frame.country_code == 'GBR']\n",
    "# Third english speaking country 'India' for funding type venture\n",
    "D3 = master_frame[master_frame.country_code == 'IND']"
   ]
  },
  {
   "cell_type": "markdown",
   "metadata": {},
   "source": [
    "### U.S.A (United States of America) "
   ]
  },
  {
   "cell_type": "code",
   "execution_count": 68,
   "metadata": {},
   "outputs": [
    {
     "name": "stdout",
     "output_type": "stream",
     "text": [
      "Total number of investments made - USA :\n",
      "8585\n",
      "\n",
      "\n",
      "Total investment amount - USA :\n",
      "77920593466.0\n"
     ]
    }
   ],
   "source": [
    "#Finding the total number of investments made - USA\n",
    "print(\"Total number of investments made - USA :\")\n",
    "print(D1.raised_amount_usd.count())\n",
    "\n",
    "print(\"\\n\")\n",
    "\n",
    "#Finding total investment amount - USA\n",
    "print(\"Total investment amount - USA :\")\n",
    "print(D1.raised_amount_usd.sum())"
   ]
  },
  {
   "cell_type": "code",
   "execution_count": 69,
   "metadata": {},
   "outputs": [
    {
     "data": {
      "text/plain": [
       "main_sector\n",
       "Others                                     2167\n",
       "Social, Finance, Analytics, Advertising    2157\n",
       "Cleantech / Semiconductors                 1378\n",
       "Name: raised_amount_usd, dtype: int64"
      ]
     },
     "execution_count": 69,
     "metadata": {},
     "output_type": "execute_result"
    }
   ],
   "source": [
    "#finding the 3 Top sectors (based on count of investments) - USA\n",
    "D1.groupby('main_sector')['raised_amount_usd'].count().sort_values(ascending = False).head(3)"
   ]
  },
  {
   "cell_type": "code",
   "execution_count": 70,
   "metadata": {},
   "outputs": [
    {
     "data": {
      "text/plain": [
       "main_sector  name                  \n",
       "Others       Virtustream               54750000.0\n",
       "             Black Duck Software       51000000.0\n",
       "             AirTight Networks         46750000.0\n",
       "             Redfin                    44800000.0\n",
       "             Elemental Technologies    44100000.0\n",
       "Name: raised_amount_usd, dtype: float64"
      ]
     },
     "execution_count": 70,
     "metadata": {},
     "output_type": "execute_result"
    }
   ],
   "source": [
    "#finding the highest invested company among the 1st Top sector of the country - USA\n",
    "D1[D1['main_sector']=='Others'].groupby(['main_sector','name']).raised_amount_usd.sum().sort_values(ascending=False).head()"
   ]
  },
  {
   "cell_type": "code",
   "execution_count": 71,
   "metadata": {},
   "outputs": [
    {
     "data": {
      "text/plain": [
       "main_sector                              name             \n",
       "Social, Finance, Analytics, Advertising  Demandbase           63000000.0\n",
       "                                         NetBase Solutions    60600000.0\n",
       "                                         Lotame               59700000.0\n",
       "                                         Xactly Corp          54500000.0\n",
       "                                         INRIX                51100018.0\n",
       "Name: raised_amount_usd, dtype: float64"
      ]
     },
     "execution_count": 71,
     "metadata": {},
     "output_type": "execute_result"
    }
   ],
   "source": [
    "#finding the highest invested company among the 2nd Top sector of the country - USA\n",
    "D1[D1['main_sector']=='Social, Finance, Analytics, Advertising'].groupby(['main_sector','name']).raised_amount_usd.sum().sort_values(ascending=False).head()"
   ]
  },
  {
   "cell_type": "code",
   "execution_count": 72,
   "metadata": {},
   "outputs": [
    {
     "data": {
      "image/png": "[encoded data removed]",
      "text/plain": [
       "<Figure size 3960x720 with 1 Axes>"
      ]
     },
     "metadata": {
      "needs_background": "light"
     },
     "output_type": "display_data"
    },
    {
     "data": {
      "image/png": "[encoded data removed]",
      "text/plain": [
       "<Figure size 3960x720 with 1 Axes>"
      ]
     },
     "metadata": {
      "needs_background": "light"
     },
     "output_type": "display_data"
    }
   ],
   "source": [
    "#Plots identifying the total number & Sum of investments in 3 main sectors of USA\n",
    "\n",
    "plt.figure(figsize=(55, 10))\n",
    "plt.subplot(1, 2, 1)\n",
    "sns.countplot(y=\"main_sector\", data=D1)\n",
    "plt.title(\"Number of Investments in main sectors of USA\", weight = 'bold', fontsize =18)\n",
    "\n",
    "plt.figure(figsize=(55, 10))\n",
    "plt.subplot(1, 2, 2)\n",
    "sns.barplot(y=\"raised_amount_usd\", x=\"main_sector\", data=D1, estimator=sum)\n",
    "plt.title(\"Sum of Investments in main sectors of USA\", weight = 'bold', fontsize =18)\n",
    "plt.show()"
   ]
  },
  {
   "cell_type": "markdown",
   "metadata": {},
   "source": [
    "### GBR - (Great Britain / United Kingdom)"
   ]
  },
  {
   "cell_type": "code",
   "execution_count": 73,
   "metadata": {},
   "outputs": [
    {
     "name": "stdout",
     "output_type": "stream",
     "text": [
      "Total number of investments made - GBR :\n",
      "383\n",
      "\n",
      "\n",
      "Total investment amount - GBR :\n",
      "3438842990.0\n"
     ]
    }
   ],
   "source": [
    "#Finding the total number of investments made - GBR\n",
    "print(\"Total number of investments made - GBR :\")\n",
    "print(D2.raised_amount_usd.count())\n",
    "\n",
    "print(\"\\n\")\n",
    "\n",
    "#Finding total investment amount - GBR\n",
    "print(\"Total investment amount - GBR :\")\n",
    "print(D2.raised_amount_usd.sum())"
   ]
  },
  {
   "cell_type": "code",
   "execution_count": 74,
   "metadata": {},
   "outputs": [
    {
     "data": {
      "text/plain": [
       "main_sector\n",
       "Social, Finance, Analytics, Advertising    98\n",
       "Cleantech / Semiconductors                 82\n",
       "Others                                     81\n",
       "Name: raised_amount_usd, dtype: int64"
      ]
     },
     "execution_count": 74,
     "metadata": {},
     "output_type": "execute_result"
    }
   ],
   "source": [
    "#finding the 3 Top sectors (based on count of investments) - GBR\n",
    "round(D2.groupby('main_sector')['raised_amount_usd'].count().sort_values(ascending = False).head(3))"
   ]
  },
  {
   "cell_type": "code",
   "execution_count": 75,
   "metadata": {},
   "outputs": [
    {
     "data": {
      "text/plain": [
       "main_sector                              name                 \n",
       "Social, Finance, Analytics, Advertising  Celltick Technologies    37500000.0\n",
       "                                         myThings                 34000000.0\n",
       "                                         Zopa                     32900000.0\n",
       "                                         SumUp                    24293649.0\n",
       "                                         Amplience                24200000.0\n",
       "Name: raised_amount_usd, dtype: float64"
      ]
     },
     "execution_count": 75,
     "metadata": {},
     "output_type": "execute_result"
    }
   ],
   "source": [
    "#finding the highest invested company among the 1st Top sector of the country - GBR\n",
    "D2[D2['main_sector']=='Social, Finance, Analytics, Advertising'].groupby(['main_sector','name']).raised_amount_usd.sum().sort_values(ascending=False).head()"
   ]
  },
  {
   "cell_type": "code",
   "execution_count": 76,
   "metadata": {},
   "outputs": [
    {
     "data": {
      "text/plain": [
       "main_sector                 name                        \n",
       "Cleantech / Semiconductors  Horizon Discovery               31353719.0\n",
       "                            F-star Biotechnology Limited    29132906.0\n",
       "                            Elixent                         25000000.0\n",
       "                            Immune Targeting Systems        20320961.0\n",
       "                            Plaxica                         19940192.0\n",
       "Name: raised_amount_usd, dtype: float64"
      ]
     },
     "execution_count": 76,
     "metadata": {},
     "output_type": "execute_result"
    }
   ],
   "source": [
    "#finding the highest invested company among the 2nd Top sector of the country - GBR\n",
    "D2[D2['main_sector']=='Cleantech / Semiconductors'].groupby(['main_sector','name']).raised_amount_usd.sum().sort_values(ascending=False).head()"
   ]
  },
  {
   "cell_type": "code",
   "execution_count": 77,
   "metadata": {},
   "outputs": [
    {
     "data": {
      "image/png": "[encoded data removed]",
      "text/plain": [
       "<Figure size 3960x720 with 1 Axes>"
      ]
     },
     "metadata": {
      "needs_background": "light"
     },
     "output_type": "display_data"
    },
    {
     "data": {
      "image/png": "[encoded data removed]",
      "text/plain": [
       "<Figure size 3960x720 with 1 Axes>"
      ]
     },
     "metadata": {
      "needs_background": "light"
     },
     "output_type": "display_data"
    }
   ],
   "source": [
    "#Plots identifying the total number & Sum of investments in 3 main sectors of GBR\n",
    "plt.figure(figsize=(55, 10))\n",
    "plt.subplot(1, 2, 1)\n",
    "sns.countplot(y=\"main_sector\", data=D2)\n",
    "plt.title(\"Number of Investments in main sectors of GBR\", weight = 'bold', fontsize =18)\n",
    "\n",
    "plt.figure(figsize=(55, 10))\n",
    "plt.subplot(1, 2, 2)\n",
    "sns.barplot(y=\"raised_amount_usd\", x=\"main_sector\", data=D2, estimator=sum)\n",
    "plt.title(\"Sum of Investments in main sectors of GBR\", weight = 'bold', fontsize =18)\n",
    "plt.show()"
   ]
  },
  {
   "cell_type": "markdown",
   "metadata": {},
   "source": [
    "### IND (India)"
   ]
  },
  {
   "cell_type": "code",
   "execution_count": 78,
   "metadata": {},
   "outputs": [
    {
     "name": "stdout",
     "output_type": "stream",
     "text": [
      "Total number of investments made - IND :\n",
      "228\n",
      "\n",
      "\n",
      "Total investment amount - IND :\n",
      "2037157552.0\n"
     ]
    }
   ],
   "source": [
    "#Finding the total number of investments made - IND\n",
    "print(\"Total number of investments made - IND :\")\n",
    "print(D3.raised_amount_usd.count())\n",
    "\n",
    "print(\"\\n\")\n",
    "\n",
    "#Finding total investment amount - IND\n",
    "print(\"Total investment amount - IND :\")\n",
    "print(D3.raised_amount_usd.sum())"
   ]
  },
  {
   "cell_type": "code",
   "execution_count": 79,
   "metadata": {},
   "outputs": [
    {
     "data": {
      "text/plain": [
       "main_sector\n",
       "Others                                     81\n",
       "Social, Finance, Analytics, Advertising    41\n",
       "News, Search and Messaging                 41\n",
       "Name: raised_amount_usd, dtype: int64"
      ]
     },
     "execution_count": 79,
     "metadata": {},
     "output_type": "execute_result"
    }
   ],
   "source": [
    "#finding the 3 Top sectors (based on count of investments) - IND\n",
    "D3.groupby('main_sector')['raised_amount_usd'].count().sort_values(ascending = False).head(3)"
   ]
  },
  {
   "cell_type": "code",
   "execution_count": 80,
   "metadata": {},
   "outputs": [
    {
     "data": {
      "text/plain": [
       "main_sector  name                               \n",
       "Others       FirstCry.com                           39000000.0\n",
       "             Myntra                                 38000000.0\n",
       "             CommonFloor                            32900000.0\n",
       "             Pepperfry.com                          28000000.0\n",
       "             NxtGen Data Center & Cloud Services    22300000.0\n",
       "Name: raised_amount_usd, dtype: float64"
      ]
     },
     "execution_count": 80,
     "metadata": {},
     "output_type": "execute_result"
    }
   ],
   "source": [
    "#finding the highest invested company among the 1st Top sector of the country - IND\n",
    "D3[D3['main_sector']=='Others'].groupby(['main_sector','name']).raised_amount_usd.sum().sort_values(ascending=False).head()"
   ]
  },
  {
   "cell_type": "code",
   "execution_count": 81,
   "metadata": {},
   "outputs": [
    {
     "data": {
      "text/plain": [
       "main_sector                              name           \n",
       "Social, Finance, Analytics, Advertising  Manthan Systems    50700000.0\n",
       "                                         Komli Media        28000000.0\n",
       "                                         ShopClues.com      25000000.0\n",
       "                                         BankBazaar.com     19000000.0\n",
       "                                         Qyuki              15400000.0\n",
       "Name: raised_amount_usd, dtype: float64"
      ]
     },
     "execution_count": 81,
     "metadata": {},
     "output_type": "execute_result"
    }
   ],
   "source": [
    "#finding the highest invested company among the 2nd Top sector of the country - IND\n",
    "D3[D3['main_sector']=='Social, Finance, Analytics, Advertising'].groupby(['main_sector','name']).raised_amount_usd.sum().sort_values(ascending=False).head()"
   ]
  },
  {
   "cell_type": "code",
   "execution_count": 82,
   "metadata": {},
   "outputs": [
    {
     "data": {
      "image/png": "[encoded data removed]",
      "text/plain": [
       "<Figure size 3960x720 with 1 Axes>"
      ]
     },
     "metadata": {
      "needs_background": "light"
     },
     "output_type": "display_data"
    },
    {
     "data": {
      "image/png": "[encoded data removed]",
      "text/plain": [
       "<Figure size 3960x720 with 1 Axes>"
      ]
     },
     "metadata": {
      "needs_background": "light"
     },
     "output_type": "display_data"
    }
   ],
   "source": [
    "#Plots identifying the total number & Sum of investments in 3 main sectors of IND\n",
    "plt.figure(figsize=(55, 10))\n",
    "plt.subplot(1, 2, 1)\n",
    "sns.countplot(y=\"main_sector\", data=D3)\n",
    "plt.title(\"Number of Investments in main sectors of IND\", weight = 'bold', fontsize =18)\n",
    "\n",
    "plt.figure(figsize=(55, 10))\n",
    "plt.subplot(1, 2, 2)\n",
    "sns.barplot(y=\"raised_amount_usd\", x=\"main_sector\", data=D3, estimator=sum)\n",
    "plt.title(\"Sum of Investments in main sectors of IND\", weight = 'bold', fontsize =18)\n",
    "plt.show()"
   ]
  },
  {
   "cell_type": "markdown",
   "metadata": {},
   "source": [
    "### ‣ Plots"
   ]
  },
  {
   "cell_type": "markdown",
   "metadata": {},
   "source": [
    "As a final step, we have to present our findings to the CEO of Spark Funds. Specifically, she wants to see the following plots:"
   ]
  },
  {
   "cell_type": "markdown",
   "metadata": {},
   "source": [
    "##### A bar plot showing the fraction of total investments (globally) in angel, venture, seed, and private equity, and the average amount of investment in each funding type. This chart should make it clear that venture funding type is best suited for Spark Funds."
   ]
  },
  {
   "cell_type": "code",
   "execution_count": 83,
   "metadata": {},
   "outputs": [
    {
     "data": {
      "image/png": "[encoded data removed]",
      "text/plain": [
       "<Figure size 1080x576 with 2 Axes>"
      ]
     },
     "metadata": {
      "needs_background": "light"
     },
     "output_type": "display_data"
    }
   ],
   "source": [
    "plt.figure(figsize=(15,8))\n",
    "\n",
    "# Plot 1: Total number of Investments \n",
    "plt.subplot(1, 2, 1)\n",
    "axc =sns.countplot(x=\"funding_round_type\", data=master_frame_alltype)\n",
    "for p in axc.patches:\n",
    "    axc.annotate(format(p.get_height(), '.2f'), (p.get_x() + p.get_width() / 2., p.get_height()), ha = 'center', va = 'center', xytext = (0, 10), textcoords = 'offset points')\n",
    "plt.title(\"Total number of investments\", weight ='bold')\n",
    "\n",
    "#Plot 2: Amount of investment in each funding type with indicator (5 -15 Million USD)\n",
    "plt.subplot(1, 2, 2)\n",
    "ax=sns.barplot(x='funding_round_type', y='raised_amount_usd', data=master_frame_alltype, estimator=np.median)\n",
    "plt.title(\"Investments distribution in all funding types\", weight ='bold',fontsize =13)\n",
    "ax.set(xlabel='Funding Type', ylabel='Raised Amount (1 Unit = $10 Million USD)')\n",
    "plt.axhline(y=5000000, linewidth=1, color = 'black', ls='--')\n",
    "plt.axhline(y=15000000, linewidth=1, color = 'black', ls='--')\n",
    "plt.show()"
   ]
  },
  {
   "cell_type": "markdown",
   "metadata": {},
   "source": [
    "##### A Barplot showing the top 9 countries against the total amount of investments of funding type \"venture\". This should make the top 3 countries (USA, United Kingdom, and India) very clear."
   ]
  },
  {
   "cell_type": "code",
   "execution_count": 84,
   "metadata": {
    "scrolled": true
   },
   "outputs": [
    {
     "data": {
      "image/png": "[encoded data removed]",
      "text/plain": [
       "<Figure size 1008x360 with 1 Axes>"
      ]
     },
     "metadata": {
      "needs_background": "light"
     },
     "output_type": "display_data"
    }
   ],
   "source": [
    "plt.figure(figsize=(14,5))\n",
    "color_eng = \"#FF8C00\"\n",
    "color_non_eng = \"#228B22\"\n",
    "palette = [color_eng, color_non_eng, color_eng, color_eng, color_non_eng, color_non_eng, color_non_eng, color_eng, color_non_eng]\n",
    "ax2 = sns.barplot(x='country_code', y='raised_amount_usd', data=top9, estimator=np.sum, palette=palette)\n",
    "p_eng = mpatches.Patch(color=color_eng, label='English speaking country')\n",
    "p_non_eng = mpatches.Patch(color=color_non_eng, label='Non-English speaking country')\n",
    "ax2.legend(handles=[p_eng, p_non_eng])\n",
    "ax2.set_yscale('log')\n",
    "ax2.set(xlabel='Funding by country', ylabel='Total amount of investments')\n",
    "ax2.set_title('Investment distribution Country wise',fontsize =18, weight='bold')\n",
    "plt.show()"
   ]
  },
  {
   "cell_type": "markdown",
   "metadata": {},
   "source": [
    "**Note**: *The top three countries are USA, Great Britain (BGR) and India(IND), China(CHN) was not considered as English is not its official language*"
   ]
  },
  {
   "cell_type": "markdown",
   "metadata": {},
   "source": [
    "##### A Barplot showing the number of investments in the top 3 sectors of the top 3 countries on one chart (for the chosen investment type - \"venture\"). "
   ]
  },
  {
   "cell_type": "code",
   "execution_count": 85,
   "metadata": {},
   "outputs": [
    {
     "data": {
      "image/png": "[encoded data removed]",
      "text/plain": [
       "<Figure size 1440x720 with 1 Axes>"
      ]
     },
     "metadata": {
      "needs_background": "light"
     },
     "output_type": "display_data"
    }
   ],
   "source": [
    "D1 = D1[D1['main_sector'].isin([\"Others\",\"Social, Finance, Analytics, Advertising\", \"Cleantech / Semiconductors\"])]\n",
    "D2 = D2[D2['main_sector'].isin([\"Others\",\"Social, Finance, Analytics, Advertising\",\"Cleantech / Semiconductors\"])]\n",
    "D3 = D3[D3['main_sector'].isin([\"Others\",\"Social, Finance, Analytics, Advertising\",\"News, Search and Messaging\"])]\n",
    "\n",
    "countries = [D1, D2, D3]\n",
    "topthree = pd.concat(countries) \n",
    "plt.figure(figsize=(20, 10))\n",
    "plt.title(\"Investment amount distribution across top 3 sectors of the top 3 countries\",fontsize =22, weight=\"bold\")\n",
    "sns.barplot(y='raised_amount_usd', x='country_code', hue=\"main_sector\", data=topthree, estimator=np.sum)\n",
    "plt.show()"
   ]
  },
  {
   "cell_type": "markdown",
   "metadata": {},
   "source": [
    "#### From the above plots we can infer the following:\n",
    "####          ‣Best funding type to invest : Venture\n",
    "####          ‣Best Country to invest : USA\n",
    "####          ‣Best Sector to invest : Others"
   ]
  }
 ],
 "metadata": {
  "kernelspec": {
   "display_name": "Python 3",
   "language": "python",
   "name": "python3"
  },
  "language_info": {
   "codemirror_mode": {
    "name": "ipython",
    "version": 3
   },
   "file_extension": ".py",
   "mimetype": "text/x-python",
   "name": "python",
   "nbconvert_exporter": "python",
   "pygments_lexer": "ipython3",
   "version": "3.8.3"
  }
 },
 "nbformat": 4,
 "nbformat_minor": 4
}
